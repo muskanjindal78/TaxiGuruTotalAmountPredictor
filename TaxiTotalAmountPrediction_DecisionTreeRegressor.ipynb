{
 "cells": [
  {
   "cell_type": "code",
   "execution_count": 1,
   "id": "0febb5ba",
   "metadata": {
    "_cell_guid": "b1076dfc-b9ad-4769-8c92-a6c4dae69d19",
    "_uuid": "8f2839f25d086af736a60e9eeb907d3b93b6e0e5",
    "execution": {
     "iopub.execute_input": "2023-11-30T18:24:17.970973Z",
     "iopub.status.busy": "2023-11-30T18:24:17.970452Z",
     "iopub.status.idle": "2023-11-30T18:24:19.080629Z",
     "shell.execute_reply": "2023-11-30T18:24:19.079198Z"
    },
    "papermill": {
     "duration": 1.123894,
     "end_time": "2023-11-30T18:24:19.083550",
     "exception": false,
     "start_time": "2023-11-30T18:24:17.959656",
     "status": "completed"
    },
    "tags": []
   },
   "outputs": [
    {
     "name": "stdout",
     "output_type": "stream",
     "text": [
      "/kaggle/input/taxi-fare-guru-total-amount-prediction-challenge/sample.csv.csv\n",
      "/kaggle/input/taxi-fare-guru-total-amount-prediction-challenge/train.csv\n",
      "/kaggle/input/taxi-fare-guru-total-amount-prediction-challenge/test.csv\n"
     ]
    }
   ],
   "source": [
    "# This Python 3 environment comes with many helpful analytics libraries installed\n",
    "# It is defined by the kaggle/python Docker image: https://github.com/kaggle/docker-python\n",
    "# For example, here's several helpful packages to load\n",
    "\n",
    "import numpy as np # linear algebra\n",
    "import pandas as pd # data processing, CSV file I/O (e.g. pd.read_csv)\n",
    "\n",
    "# Input data files are available in the read-only \"../input/\" directory\n",
    "# For example, running this (by clicking run or pressing Shift+Enter) will list all files under the input directory\n",
    "\n",
    "import os\n",
    "for dirname, _, filenames in os.walk('/kaggle/input'):\n",
    "    for filename in filenames:\n",
    "        print(os.path.join(dirname, filename))\n",
    "\n",
    "# You can write up to 20GB to the current directory (/kaggle/working/) that gets preserved as output when you create a version using \"Save & Run All\" \n",
    "# You can also write temporary files to /kaggle/temp/, but they won't be saved outside of the current session"
   ]
  },
  {
   "cell_type": "code",
   "execution_count": 2,
   "id": "71af03ab",
   "metadata": {
    "execution": {
     "iopub.execute_input": "2023-11-30T18:24:19.103383Z",
     "iopub.status.busy": "2023-11-30T18:24:19.102801Z",
     "iopub.status.idle": "2023-11-30T18:24:19.478943Z",
     "shell.execute_reply": "2023-11-30T18:24:19.477475Z"
    },
    "papermill": {
     "duration": 0.389357,
     "end_time": "2023-11-30T18:24:19.481920",
     "exception": false,
     "start_time": "2023-11-30T18:24:19.092563",
     "status": "completed"
    },
    "tags": []
   },
   "outputs": [],
   "source": [
    "import warnings\n",
    "import scipy.linalg\n",
    "\n",
    "np.set_printoptions(precision=6)\n",
    "np.seterr(all='warn')\n",
    "warnings.filterwarnings(\"ignore\", category=scipy.linalg.LinAlgWarning)"
   ]
  },
  {
   "cell_type": "code",
   "execution_count": 3,
   "id": "a701de91",
   "metadata": {
    "execution": {
     "iopub.execute_input": "2023-11-30T18:24:19.502006Z",
     "iopub.status.busy": "2023-11-30T18:24:19.501570Z",
     "iopub.status.idle": "2023-11-30T18:24:20.704508Z",
     "shell.execute_reply": "2023-11-30T18:24:20.703189Z"
    },
    "papermill": {
     "duration": 1.217289,
     "end_time": "2023-11-30T18:24:20.707925",
     "exception": false,
     "start_time": "2023-11-30T18:24:19.490636",
     "status": "completed"
    },
    "tags": []
   },
   "outputs": [],
   "source": [
    "sample_data = pd.read_csv(\"/kaggle/input/taxi-fare-guru-total-amount-prediction-challenge/sample.csv.csv\")\n",
    "train_data = pd.read_csv(\"/kaggle/input/taxi-fare-guru-total-amount-prediction-challenge/train.csv\")\n",
    "test_data = pd.read_csv(\"/kaggle/input/taxi-fare-guru-total-amount-prediction-challenge/test.csv\")"
   ]
  },
  {
   "cell_type": "code",
   "execution_count": 4,
   "id": "f7e40e2c",
   "metadata": {
    "_kg_hide-input": true,
    "execution": {
     "iopub.execute_input": "2023-11-30T18:24:20.728091Z",
     "iopub.status.busy": "2023-11-30T18:24:20.727602Z",
     "iopub.status.idle": "2023-11-30T18:24:20.733356Z",
     "shell.execute_reply": "2023-11-30T18:24:20.731766Z"
    },
    "papermill": {
     "duration": 0.01928,
     "end_time": "2023-11-30T18:24:20.736163",
     "exception": false,
     "start_time": "2023-11-30T18:24:20.716883",
     "status": "completed"
    },
    "tags": []
   },
   "outputs": [],
   "source": [
    "# print(train_data.shape, \"\\n\")\n",
    "# print(train_data.isnull().sum(),\"\\n\")\n",
    "# print(train_data.info(),\"\\n\")\n",
    "# print(train_data.head(),\"\\n\")\n",
    "# train_data.describe()"
   ]
  },
  {
   "cell_type": "code",
   "execution_count": 5,
   "id": "a8fceae1",
   "metadata": {
    "_kg_hide-input": true,
    "execution": {
     "iopub.execute_input": "2023-11-30T18:24:20.757304Z",
     "iopub.status.busy": "2023-11-30T18:24:20.756236Z",
     "iopub.status.idle": "2023-11-30T18:24:20.761706Z",
     "shell.execute_reply": "2023-11-30T18:24:20.760677Z"
    },
    "papermill": {
     "duration": 0.019484,
     "end_time": "2023-11-30T18:24:20.764481",
     "exception": false,
     "start_time": "2023-11-30T18:24:20.744997",
     "status": "completed"
    },
    "tags": []
   },
   "outputs": [],
   "source": [
    "# print(sample_data.shape, \"\\n\")\n",
    "# print(sample_data.isnull().sum(),\"\\n\")\n",
    "# print(sample_data.info(),\"\\n\")\n",
    "# print(sample_data.head(),\"\\n\")\n",
    "# sample_data.describe()"
   ]
  },
  {
   "cell_type": "code",
   "execution_count": 6,
   "id": "47236175",
   "metadata": {
    "_kg_hide-input": true,
    "execution": {
     "iopub.execute_input": "2023-11-30T18:24:20.786575Z",
     "iopub.status.busy": "2023-11-30T18:24:20.785872Z",
     "iopub.status.idle": "2023-11-30T18:24:20.790762Z",
     "shell.execute_reply": "2023-11-30T18:24:20.789802Z"
    },
    "papermill": {
     "duration": 0.018431,
     "end_time": "2023-11-30T18:24:20.793470",
     "exception": false,
     "start_time": "2023-11-30T18:24:20.775039",
     "status": "completed"
    },
    "tags": []
   },
   "outputs": [],
   "source": [
    "# print(test_data.shape, \"\\n\")\n",
    "# print(test_data.isnull().sum(),\"\\n\")\n",
    "# print(test_data.info(),\"\\n\")\n",
    "# print(test_data.head(),\"\\n\")\n",
    "# test_data.describe()"
   ]
  },
  {
   "cell_type": "code",
   "execution_count": 7,
   "id": "5ecebfe0",
   "metadata": {
    "_kg_hide-input": true,
    "execution": {
     "iopub.execute_input": "2023-11-30T18:24:20.814785Z",
     "iopub.status.busy": "2023-11-30T18:24:20.814092Z",
     "iopub.status.idle": "2023-11-30T18:24:20.819163Z",
     "shell.execute_reply": "2023-11-30T18:24:20.818195Z"
    },
    "papermill": {
     "duration": 0.019953,
     "end_time": "2023-11-30T18:24:20.822515",
     "exception": false,
     "start_time": "2023-11-30T18:24:20.802562",
     "status": "completed"
    },
    "tags": []
   },
   "outputs": [],
   "source": [
    "# train_data.duplicated().value_counts()"
   ]
  },
  {
   "cell_type": "code",
   "execution_count": 8,
   "id": "d5ff4f18",
   "metadata": {
    "execution": {
     "iopub.execute_input": "2023-11-30T18:24:20.843943Z",
     "iopub.status.busy": "2023-11-30T18:24:20.843268Z",
     "iopub.status.idle": "2023-11-30T18:24:22.425147Z",
     "shell.execute_reply": "2023-11-30T18:24:22.423705Z"
    },
    "papermill": {
     "duration": 1.596608,
     "end_time": "2023-11-30T18:24:22.428425",
     "exception": false,
     "start_time": "2023-11-30T18:24:20.831817",
     "status": "completed"
    },
    "tags": []
   },
   "outputs": [],
   "source": [
    "import matplotlib.pyplot as plt\n",
    "import seaborn as sns"
   ]
  },
  {
   "cell_type": "code",
   "execution_count": 9,
   "id": "29ab604e",
   "metadata": {
    "_kg_hide-input": false,
    "execution": {
     "iopub.execute_input": "2023-11-30T18:24:22.448694Z",
     "iopub.status.busy": "2023-11-30T18:24:22.447680Z",
     "iopub.status.idle": "2023-11-30T18:24:22.453328Z",
     "shell.execute_reply": "2023-11-30T18:24:22.451952Z"
    },
    "papermill": {
     "duration": 0.019162,
     "end_time": "2023-11-30T18:24:22.456766",
     "exception": false,
     "start_time": "2023-11-30T18:24:22.437604",
     "status": "completed"
    },
    "tags": []
   },
   "outputs": [],
   "source": [
    "#Data Visualisation\n",
    "# sampled_data = train_data.sample(n=1000, random_state=42)\n",
    "# sns.pairplot(sampled_data)\n",
    "# plt.subplots_adjust(hspace = 0.5,wspace = 0.3)\n",
    "# plt.show()"
   ]
  },
  {
   "cell_type": "code",
   "execution_count": 10,
   "id": "93a18f76",
   "metadata": {
    "execution": {
     "iopub.execute_input": "2023-11-30T18:24:22.477310Z",
     "iopub.status.busy": "2023-11-30T18:24:22.476809Z",
     "iopub.status.idle": "2023-11-30T18:24:22.481406Z",
     "shell.execute_reply": "2023-11-30T18:24:22.480416Z"
    },
    "papermill": {
     "duration": 0.01722,
     "end_time": "2023-11-30T18:24:22.483972",
     "exception": false,
     "start_time": "2023-11-30T18:24:22.466752",
     "status": "completed"
    },
    "tags": []
   },
   "outputs": [],
   "source": [
    "#Data Visualisation\n",
    "# train_data.hist(bins = 100, figsize=(15, 10))\n",
    "# plt.subplots_adjust(hspace = 0.5,wspace = 0.5)\n",
    "# plt.show()"
   ]
  },
  {
   "cell_type": "code",
   "execution_count": 11,
   "id": "bfc4ee17",
   "metadata": {
    "execution": {
     "iopub.execute_input": "2023-11-30T18:24:22.505158Z",
     "iopub.status.busy": "2023-11-30T18:24:22.504292Z",
     "iopub.status.idle": "2023-11-30T18:24:50.253042Z",
     "shell.execute_reply": "2023-11-30T18:24:50.251494Z"
    },
    "papermill": {
     "duration": 27.763209,
     "end_time": "2023-11-30T18:24:50.256683",
     "exception": false,
     "start_time": "2023-11-30T18:24:22.493474",
     "status": "completed"
    },
    "tags": []
   },
   "outputs": [],
   "source": [
    "#Data Preprocessing\n",
    "from datetime import datetime\n",
    "import math\n",
    "\n",
    "ride_duration=[]\n",
    "ride_start=[]\n",
    "rode_stop=[]\n",
    "for i in range(len(train_data)):\n",
    "    ts1 = datetime.strptime(train_data.iloc[i,1], \"%Y-%m-%d %H:%M:%S\")\n",
    "    ts2 = datetime.strptime(train_data.iloc[i,2], \"%Y-%m-%d %H:%M:%S\")\n",
    "    duration = abs(ts2 - ts1)\n",
    "    ride_duration.append(duration.total_seconds())\n",
    "    ride_start.append(ts1.strftime(\"%H\"))\n",
    "    rode_stop.append(ts2.strftime(\"%H\"))\n",
    "train_data[\"ride_duration\"]=ride_duration\n",
    "train_data[\"ride_start\"]=ride_start\n",
    "train_data[\"ride_stop\"]=ride_start\n",
    "\n",
    "ride_duration=[]\n",
    "ride_start=[]\n",
    "rode_stop=[]\n",
    "for i in range(len(test_data)):\n",
    "    ts1 = datetime.strptime(test_data.iloc[i,1], \"%Y-%m-%d %H:%M:%S\")\n",
    "    ts2 = datetime.strptime(test_data.iloc[i,2], \"%Y-%m-%d %H:%M:%S\")\n",
    "    duration = abs(ts2 - ts1)\n",
    "    ride_duration.append(duration.total_seconds())\n",
    "    ride_start.append(ts1.strftime(\"%H\"))\n",
    "    rode_stop.append(ts2.strftime(\"%H\"))\n",
    "test_data[\"ride_duration\"]=ride_duration\n",
    "test_data[\"ride_start\"]=ride_start\n",
    "test_data[\"ride_stop\"]=ride_start"
   ]
  },
  {
   "cell_type": "code",
   "execution_count": 12,
   "id": "fa709a27",
   "metadata": {
    "_kg_hide-input": true,
    "execution": {
     "iopub.execute_input": "2023-11-30T18:24:50.277746Z",
     "iopub.status.busy": "2023-11-30T18:24:50.277027Z",
     "iopub.status.idle": "2023-11-30T18:24:50.282047Z",
     "shell.execute_reply": "2023-11-30T18:24:50.280982Z"
    },
    "papermill": {
     "duration": 0.018771,
     "end_time": "2023-11-30T18:24:50.284730",
     "exception": false,
     "start_time": "2023-11-30T18:24:50.265959",
     "status": "completed"
    },
    "tags": []
   },
   "outputs": [],
   "source": [
    "# print(train_data.shape, \"\\n\")\n",
    "# print(train_data.isnull().sum(),\"\\n\")\n",
    "# print(train_data.info(),\"\\n\")\n",
    "# print(train_data.head(),\"\\n\")\n",
    "# train_data.describe()"
   ]
  },
  {
   "cell_type": "code",
   "execution_count": 13,
   "id": "7b2c2444",
   "metadata": {
    "execution": {
     "iopub.execute_input": "2023-11-30T18:24:50.304073Z",
     "iopub.status.busy": "2023-11-30T18:24:50.303633Z",
     "iopub.status.idle": "2023-11-30T18:24:50.309467Z",
     "shell.execute_reply": "2023-11-30T18:24:50.308142Z"
    },
    "papermill": {
     "duration": 0.018677,
     "end_time": "2023-11-30T18:24:50.311968",
     "exception": false,
     "start_time": "2023-11-30T18:24:50.293291",
     "status": "completed"
    },
    "tags": []
   },
   "outputs": [],
   "source": [
    "#Data Visualisation\n",
    "# features = ['passenger_count','extra','tip_amount','tolls_amount','improvement_surcharge','total_amount','congestion_surcharge','Airport_fee']\n",
    "# time_feature = 'ride_duration'\n",
    "\n",
    "# melted_data = train_data.melt(id_vars=[time_feature], value_vars=features, var_name='feature', value_name='value')\n",
    "\n",
    "# plt.figure(figsize=(12, 6))\n",
    "# sns.lineplot(data=melted_data, x=time_feature, y='value', hue='feature')\n",
    "\n",
    "# plt.xlabel('Time or Continuous Variable')\n",
    "# plt.ylabel('Feature Values')\n",
    "# plt.title('Line Plot of 8 Features Over Time')\n",
    "# plt.legend(title='Features', bbox_to_anchor=(1.05, 1), loc='upper left')\n",
    "# plt.show()"
   ]
  },
  {
   "cell_type": "code",
   "execution_count": 14,
   "id": "587aeb1e",
   "metadata": {
    "execution": {
     "iopub.execute_input": "2023-11-30T18:24:50.331346Z",
     "iopub.status.busy": "2023-11-30T18:24:50.330856Z",
     "iopub.status.idle": "2023-11-30T18:24:50.840414Z",
     "shell.execute_reply": "2023-11-30T18:24:50.838708Z"
    },
    "papermill": {
     "duration": 0.522871,
     "end_time": "2023-11-30T18:24:50.843396",
     "exception": false,
     "start_time": "2023-11-30T18:24:50.320525",
     "status": "completed"
    },
    "tags": []
   },
   "outputs": [],
   "source": [
    "#Data encoding\n",
    "new_train = train_data.drop(['tpep_pickup_datetime','tpep_dropoff_datetime'], axis=1)\n",
    "new_train = pd.get_dummies(new_train,columns=['store_and_fwd_flag','payment_type'], dtype='int')\n",
    "# print(new_train.isnull().sum())\n",
    "for column in new_train.columns:\n",
    "    mode = new_train[column].mode()[0]\n",
    "    new_train[column].fillna(mode, inplace=True)\n",
    "# print(new_train.isnull().sum())\n",
    "\n",
    "new_test = test_data.drop(['tpep_pickup_datetime','tpep_dropoff_datetime'], axis=1)\n",
    "encoded_test = pd.get_dummies(new_test,columns=['store_and_fwd_flag','payment_type'], dtype='int')\n",
    "# print(encoded_test.isnull().sum())\n",
    "for column in encoded_test.columns:\n",
    "    mode = encoded_test[column].mode()[0]\n",
    "    encoded_test[column].fillna(mode, inplace=True)\n",
    "# print(encoded_test.isnull().sum())\n",
    "\n",
    "X_train = new_train.drop(['total_amount'], axis=1)\n",
    "y_train = new_train['total_amount']\n",
    "# print(X_train.head())\n",
    "# print(y_train.head())"
   ]
  },
  {
   "cell_type": "code",
   "execution_count": 15,
   "id": "fb61d0aa",
   "metadata": {
    "execution": {
     "iopub.execute_input": "2023-11-30T18:24:50.863935Z",
     "iopub.status.busy": "2023-11-30T18:24:50.863477Z",
     "iopub.status.idle": "2023-11-30T18:24:51.331374Z",
     "shell.execute_reply": "2023-11-30T18:24:51.329964Z"
    },
    "papermill": {
     "duration": 0.482482,
     "end_time": "2023-11-30T18:24:51.334608",
     "exception": false,
     "start_time": "2023-11-30T18:24:50.852126",
     "status": "completed"
    },
    "tags": []
   },
   "outputs": [],
   "source": [
    "from sklearn.model_selection import GridSearchCV, train_test_split\n",
    "from sklearn.linear_model import Ridge\n",
    "from sklearn.metrics import mean_squared_error\n",
    "\n",
    "# X_train, X_test, y_train, y_test = train_test_split(X_train, y_train, test_size=0.2, random_state=42)\n",
    "\n",
    "# ridge_model = Ridge()\n",
    "\n",
    "# alphas = np.logspace(-3, 3, 10)\n",
    "\n",
    "# param_grid = {'alpha': alphas}\n",
    "# grid_search = GridSearchCV(ridge_model, param_grid, cv=5, scoring='neg_mean_squared_error')\n",
    "# grid_search.fit(X_train, y_train)\n",
    "\n",
    "# best_alpha = grid_search.best_params_['alpha']\n",
    "# final_model = Ridge(alpha=best_alpha)\n",
    "# final_model.fit(X_train, y_train)\n",
    "\n",
    "# y_pred = final_model.predict(X_test)\n",
    "# mse = mean_squared_error(y_test, y_pred)\n",
    "# rmse = np.sqrt(mse)\n",
    "# print(\"Best Alpha: \", best_alpha)\n",
    "# print(\"Test set MSE:\", mse)\n",
    "# print(\"Test Set RMSE: \", rmse)\n",
    "\n",
    "# val_pred = final_model.predict(encoded_test)\n",
    "\n",
    "#cv = 3, np.logspace(-6, 6, 13)\n",
    "# Best Alpha:  1e-06\n",
    "# Test set MSE: 180.00165780792867\n",
    "# Test Set RMSE:  13.416469647710185\n",
    "\n",
    "#cv = 3, np.logspace(-6, 6, 20)\n",
    "# Best Alpha:  1e-06\n",
    "# Test set MSE: 180.00165780792867\n",
    "# Test Set RMSE:  13.416469647710185\n",
    "\n",
    "#cv = 3, np.logspace(-3, 3, 10)\n",
    "# Best Alpha:  0.001\n",
    "# Test set MSE: 180.00165780594605\n",
    "# Test Set RMSE:  13.416469647636298\n",
    "\n",
    "#cv = 5, np.logspace(-6, 6, 13)\n",
    "# Best Alpha:  10.0\n",
    "# Test set MSE: 180.00180916012653\n",
    "# Test Set RMSE:  13.416475288246408\n",
    "\n",
    "#cv = 5, np.logspace(-6, 6, 20)\n",
    "# Best Alpha:  8.858667904100814\n",
    "# Test set MSE: 180.00177471236896\n",
    "# Test Set RMSE:  13.416474004460671\n",
    "\n",
    "#cv = 5, np.logspace(-3, 3, 10)\n",
    "# Best Alpha:  10.0\n",
    "# Test set MSE: 180.00180916012653\n",
    "# Test Set RMSE:  13.416475288246408"
   ]
  },
  {
   "cell_type": "code",
   "execution_count": 16,
   "id": "cabb117d",
   "metadata": {
    "execution": {
     "iopub.execute_input": "2023-11-30T18:24:51.353918Z",
     "iopub.status.busy": "2023-11-30T18:24:51.353429Z",
     "iopub.status.idle": "2023-11-30T18:24:51.359135Z",
     "shell.execute_reply": "2023-11-30T18:24:51.357917Z"
    },
    "papermill": {
     "duration": 0.018243,
     "end_time": "2023-11-30T18:24:51.361601",
     "exception": false,
     "start_time": "2023-11-30T18:24:51.343358",
     "status": "completed"
    },
    "tags": []
   },
   "outputs": [],
   "source": [
    "# from sklearn.model_selection import RandomizedSearchCV\n",
    "# from scipy.stats import uniform\n",
    "\n",
    "# X_train, X_test, y_train, y_test = train_test_split(X_train, y_train, test_size=0.2, random_state=42)\n",
    "\n",
    "# param_dist = {'alpha': uniform(0, 1)} \n",
    "# randomized_search = RandomizedSearchCV(Ridge(), param_distributions=param_dist, n_iter=10, cv=3, scoring='neg_mean_squared_error')\n",
    "# randomized_search.fit(X_train, y_train)\n",
    "\n",
    "# mse = mean_squared_error(y_test, y_pred)\n",
    "# rmse = np.sqrt(mse)\n",
    "# print(\"Test set MSE:\", mse)\n",
    "# print(\"Test Set RMSE: \", rmse)\n",
    "\n",
    "# val_pred = randomized_search.predict(encoded_test)\n",
    "\n",
    "#cv=5\n",
    "# Test set MSE: 180.00180916012653\n",
    "# Test Set RMSE:  13.416475288246408\n",
    "\n",
    "#cv=3\n",
    "# Test set MSE: 180.00180916012653\n",
    "# Test Set RMSE:  13.416475288246408"
   ]
  },
  {
   "cell_type": "code",
   "execution_count": 17,
   "id": "7e4eda70",
   "metadata": {
    "execution": {
     "iopub.execute_input": "2023-11-30T18:24:51.380972Z",
     "iopub.status.busy": "2023-11-30T18:24:51.380357Z",
     "iopub.status.idle": "2023-11-30T18:24:51.523692Z",
     "shell.execute_reply": "2023-11-30T18:24:51.522500Z"
    },
    "papermill": {
     "duration": 0.156267,
     "end_time": "2023-11-30T18:24:51.526545",
     "exception": false,
     "start_time": "2023-11-30T18:24:51.370278",
     "status": "completed"
    },
    "tags": []
   },
   "outputs": [],
   "source": [
    "from sklearn.model_selection import train_test_split\n",
    "from sklearn.neighbors import KNeighborsRegressor\n",
    "from sklearn.metrics import mean_squared_error\n",
    "\n",
    "# X_train, X_test, y_train, y_test = train_test_split(X_train, y_train, test_size=0.2, random_state=42)\n",
    "\n",
    "# knn_model = KNeighborsRegressor(n_neighbors=5)\n",
    "# knn_model.fit(X_train, y_train)\n",
    "# y_pred = knn_model.predict(X_test)\n",
    "\n",
    "# mse = mean_squared_error(y_test, y_pred)\n",
    "# rmse = np.sqrt(mse)\n",
    "# print(f\"Root Mean Squared Error (RMSE): {rmse}\")\n",
    "\n",
    "#It gave RMSE more than GridSearchCV & RandomizedSearchCV"
   ]
  },
  {
   "cell_type": "code",
   "execution_count": 18,
   "id": "912260fa",
   "metadata": {
    "execution": {
     "iopub.execute_input": "2023-11-30T18:24:51.546665Z",
     "iopub.status.busy": "2023-11-30T18:24:51.545529Z",
     "iopub.status.idle": "2023-11-30T18:24:51.552884Z",
     "shell.execute_reply": "2023-11-30T18:24:51.551652Z"
    },
    "papermill": {
     "duration": 0.020909,
     "end_time": "2023-11-30T18:24:51.556145",
     "exception": false,
     "start_time": "2023-11-30T18:24:51.535236",
     "status": "completed"
    },
    "tags": []
   },
   "outputs": [],
   "source": [
    "from sklearn.model_selection import train_test_split\n",
    "from sklearn.model_selection import GridSearchCV\n",
    "from sklearn.neighbors import KNeighborsRegressor\n",
    "\n",
    "# X_train, X_test, y_train, y_test = train_test_split(X_train, y_train, test_size=0.2, random_state=42)\n",
    "\n",
    "# param_grid = {'n_neighbors': [3, 5, 7, 9, 11], 'weights': ['uniform', 'distance']}\n",
    "\n",
    "# knn_model = KNeighborsRegressor()\n",
    "# grid_search = GridSearchCV(knn_model, param_grid, cv=5, scoring='neg_mean_squared_error')\n",
    "\n",
    "# grid_search.fit(X_train, y_train)\n",
    "\n",
    "# best_params = grid_search.best_params_\n",
    "# print(best_params)\n",
    "\n",
    "# best_knn_model = KNeighborsRegressor(n_neighbors=best_params['n_neighbors'], weights=best_params['weights'])\n",
    "# best_knn_model.fit(X_train, y_train)\n",
    "# y_pred = best_knn_model.predict(X_test)\n",
    "\n",
    "# r2 = r2_score(y_test, y_pred)\n",
    "# print(\"Mean Squared Error on Test Set:\", r2)"
   ]
  },
  {
   "cell_type": "code",
   "execution_count": 19,
   "id": "93ed1f83",
   "metadata": {
    "execution": {
     "iopub.execute_input": "2023-11-30T18:24:51.575906Z",
     "iopub.status.busy": "2023-11-30T18:24:51.575187Z",
     "iopub.status.idle": "2023-11-30T18:24:51.581450Z",
     "shell.execute_reply": "2023-11-30T18:24:51.580297Z"
    },
    "papermill": {
     "duration": 0.019253,
     "end_time": "2023-11-30T18:24:51.584045",
     "exception": false,
     "start_time": "2023-11-30T18:24:51.564792",
     "status": "completed"
    },
    "tags": []
   },
   "outputs": [],
   "source": [
    "from sklearn import svm\n",
    "from sklearn.model_selection import train_test_split\n",
    "\n",
    "# X_train, X_test, y_train, y_test = train_test_split(X_train, y_train, test_size=0.2, random_state=42)\n",
    "\n",
    "# parameters = {'kernel':('linear', 'rbf'), 'C':[1, 10]}\n",
    "# svr = svm.SVR()\n",
    "# clf = GridSearchCV(svr, parameters)\n",
    "# clf.fit(pca_df, y_train)\n",
    "# y_pred_svr=clf.predict(X_test)\n",
    "# r2 = r2_score(y_test, y_pred_svr)\n",
    "\n",
    "# print(\"Mean Squared Error on Test Set:\", r2)"
   ]
  },
  {
   "cell_type": "code",
   "execution_count": 20,
   "id": "58b0b6aa",
   "metadata": {
    "execution": {
     "iopub.execute_input": "2023-11-30T18:24:51.603346Z",
     "iopub.status.busy": "2023-11-30T18:24:51.602914Z",
     "iopub.status.idle": "2023-11-30T18:24:51.608480Z",
     "shell.execute_reply": "2023-11-30T18:24:51.606755Z"
    },
    "papermill": {
     "duration": 0.018766,
     "end_time": "2023-11-30T18:24:51.611346",
     "exception": false,
     "start_time": "2023-11-30T18:24:51.592580",
     "status": "completed"
    },
    "tags": []
   },
   "outputs": [],
   "source": [
    "# from sklearn.pipeline import make_pipeline\n",
    "# from sklearn.preprocessing import PolynomialFeatures\n",
    "# from sklearn.linear_model import LinearRegression\n",
    "\n",
    "# model = make_pipeline(PolynomialFeatures(2), LinearRegression())\n",
    "# model.fit(X_train, y_train)\n",
    "# val_predictions = model.predict(encoded_test)"
   ]
  },
  {
   "cell_type": "code",
   "execution_count": 21,
   "id": "0344e80f",
   "metadata": {
    "execution": {
     "iopub.execute_input": "2023-11-30T18:24:51.632096Z",
     "iopub.status.busy": "2023-11-30T18:24:51.631669Z",
     "iopub.status.idle": "2023-11-30T18:24:51.636555Z",
     "shell.execute_reply": "2023-11-30T18:24:51.635656Z"
    },
    "papermill": {
     "duration": 0.018483,
     "end_time": "2023-11-30T18:24:51.639273",
     "exception": false,
     "start_time": "2023-11-30T18:24:51.620790",
     "status": "completed"
    },
    "tags": []
   },
   "outputs": [],
   "source": [
    "# from sklearn.ensemble import RandomForestRegressor\n",
    "\n",
    "# model = RandomForestRegressor()\n",
    "# model.fit(X_train, y_train)\n",
    "# pred = model.predict(encoded_test)"
   ]
  },
  {
   "cell_type": "code",
   "execution_count": 22,
   "id": "886600fb",
   "metadata": {
    "execution": {
     "iopub.execute_input": "2023-11-30T18:24:51.660481Z",
     "iopub.status.busy": "2023-11-30T18:24:51.659297Z",
     "iopub.status.idle": "2023-11-30T18:24:55.438086Z",
     "shell.execute_reply": "2023-11-30T18:24:55.436681Z"
    },
    "papermill": {
     "duration": 3.792127,
     "end_time": "2023-11-30T18:24:55.441235",
     "exception": false,
     "start_time": "2023-11-30T18:24:51.649108",
     "status": "completed"
    },
    "tags": []
   },
   "outputs": [],
   "source": [
    "from sklearn.tree import DecisionTreeRegressor\n",
    "\n",
    "model = DecisionTreeRegressor()\n",
    "model.fit(X_train, y_train)\n",
    "val_predictions = model.predict(encoded_test)"
   ]
  },
  {
   "cell_type": "code",
   "execution_count": 23,
   "id": "d5e3f18a",
   "metadata": {
    "execution": {
     "iopub.execute_input": "2023-11-30T18:24:55.462144Z",
     "iopub.status.busy": "2023-11-30T18:24:55.460694Z",
     "iopub.status.idle": "2023-11-30T18:24:55.678939Z",
     "shell.execute_reply": "2023-11-30T18:24:55.677431Z"
    },
    "papermill": {
     "duration": 0.231288,
     "end_time": "2023-11-30T18:24:55.681979",
     "exception": false,
     "start_time": "2023-11-30T18:24:55.450691",
     "status": "completed"
    },
    "tags": []
   },
   "outputs": [],
   "source": [
    "submission = pd.DataFrame(columns = [\"ID\",\"total_amount\"])\n",
    "submission[\"ID\"] = [i for i in range(1,len(val_predictions)+1)]\n",
    "submission[\"total_amount\"] = val_predictions\n",
    "submission.to_csv('submission.csv',index=False)"
   ]
  }
 ],
 "metadata": {
  "kaggle": {
   "accelerator": "none",
   "dataSources": [
    {
     "databundleVersionId": 6604167,
     "sourceId": 61246,
     "sourceType": "competition"
    }
   ],
   "dockerImageVersionId": 30558,
   "isGpuEnabled": false,
   "isInternetEnabled": true,
   "language": "python",
   "sourceType": "notebook"
  },
  "kernelspec": {
   "display_name": "Python 3",
   "language": "python",
   "name": "python3"
  },
  "language_info": {
   "codemirror_mode": {
    "name": "ipython",
    "version": 3
   },
   "file_extension": ".py",
   "mimetype": "text/x-python",
   "name": "python",
   "nbconvert_exporter": "python",
   "pygments_lexer": "ipython3",
   "version": "3.10.12"
  },
  "papermill": {
   "default_parameters": {},
   "duration": 43.25883,
   "end_time": "2023-11-30T18:24:56.513627",
   "environment_variables": {},
   "exception": null,
   "input_path": "__notebook__.ipynb",
   "output_path": "__notebook__.ipynb",
   "parameters": {},
   "start_time": "2023-11-30T18:24:13.254797",
   "version": "2.4.0"
  }
 },
 "nbformat": 4,
 "nbformat_minor": 5
}
