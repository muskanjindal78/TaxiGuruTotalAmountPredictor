{
 "cells": [
  {
   "cell_type": "code",
   "execution_count": 1,
   "id": "0da998a8",
   "metadata": {
    "_cell_guid": "b1076dfc-b9ad-4769-8c92-a6c4dae69d19",
    "_uuid": "8f2839f25d086af736a60e9eeb907d3b93b6e0e5",
    "execution": {
     "iopub.execute_input": "2023-11-29T18:03:15.609151Z",
     "iopub.status.busy": "2023-11-29T18:03:15.608188Z",
     "iopub.status.idle": "2023-11-29T18:03:16.591381Z",
     "shell.execute_reply": "2023-11-29T18:03:16.590422Z"
    },
    "papermill": {
     "duration": 0.995929,
     "end_time": "2023-11-29T18:03:16.594527",
     "exception": false,
     "start_time": "2023-11-29T18:03:15.598598",
     "status": "completed"
    },
    "tags": []
   },
   "outputs": [
    {
     "name": "stdout",
     "output_type": "stream",
     "text": [
      "/kaggle/input/taxi-fare-guru-total-amount-prediction-challenge/sample.csv.csv\n",
      "/kaggle/input/taxi-fare-guru-total-amount-prediction-challenge/train.csv\n",
      "/kaggle/input/taxi-fare-guru-total-amount-prediction-challenge/test.csv\n"
     ]
    }
   ],
   "source": [
    "# This Python 3 environment comes with many helpful analytics libraries installed\n",
    "# It is defined by the kaggle/python Docker image: https://github.com/kaggle/docker-python\n",
    "# For example, here's several helpful packages to load\n",
    "\n",
    "import numpy as np # linear algebra\n",
    "import pandas as pd # data processing, CSV file I/O (e.g. pd.read_csv)\n",
    "\n",
    "# Input data files are available in the read-only \"../input/\" directory\n",
    "# For example, running this (by clicking run or pressing Shift+Enter) will list all files under the input directory\n",
    "\n",
    "import os\n",
    "for dirname, _, filenames in os.walk('/kaggle/input'):\n",
    "    for filename in filenames:\n",
    "        print(os.path.join(dirname, filename))\n",
    "\n",
    "# You can write up to 20GB to the current directory (/kaggle/working/) that gets preserved as output when you create a version using \"Save & Run All\" \n",
    "# You can also write temporary files to /kaggle/temp/, but they won't be saved outside of the current session"
   ]
  },
  {
   "cell_type": "code",
   "execution_count": 2,
   "id": "950973b9",
   "metadata": {
    "execution": {
     "iopub.execute_input": "2023-11-29T18:03:16.613365Z",
     "iopub.status.busy": "2023-11-29T18:03:16.612312Z",
     "iopub.status.idle": "2023-11-29T18:03:17.940790Z",
     "shell.execute_reply": "2023-11-29T18:03:17.939135Z"
    },
    "papermill": {
     "duration": 1.341057,
     "end_time": "2023-11-29T18:03:17.944977",
     "exception": false,
     "start_time": "2023-11-29T18:03:16.603920",
     "status": "completed"
    },
    "tags": []
   },
   "outputs": [],
   "source": [
    "sample_data = pd.read_csv(\"/kaggle/input/taxi-fare-guru-total-amount-prediction-challenge/sample.csv.csv\")\n",
    "train_data = pd.read_csv(\"/kaggle/input/taxi-fare-guru-total-amount-prediction-challenge/train.csv\")\n",
    "test_data = pd.read_csv(\"/kaggle/input/taxi-fare-guru-total-amount-prediction-challenge/test.csv\")"
   ]
  },
  {
   "cell_type": "code",
   "execution_count": 3,
   "id": "56a7d2ab",
   "metadata": {
    "_kg_hide-input": true,
    "execution": {
     "iopub.execute_input": "2023-11-29T18:03:17.967439Z",
     "iopub.status.busy": "2023-11-29T18:03:17.966917Z",
     "iopub.status.idle": "2023-11-29T18:03:17.972737Z",
     "shell.execute_reply": "2023-11-29T18:03:17.971409Z"
    },
    "papermill": {
     "duration": 0.021857,
     "end_time": "2023-11-29T18:03:17.975290",
     "exception": false,
     "start_time": "2023-11-29T18:03:17.953433",
     "status": "completed"
    },
    "tags": []
   },
   "outputs": [],
   "source": [
    "# print(sample_data.shape, \"\\n\")\n",
    "# print(sample_data.isnull().sum(),\"\\n\")\n",
    "# print(sample_data.info(),\"\\n\")\n",
    "# print(sample_data.head(),\"\\n\")\n",
    "# sample_data.describe()"
   ]
  },
  {
   "cell_type": "code",
   "execution_count": 4,
   "id": "69d7e919",
   "metadata": {
    "_kg_hide-input": true,
    "execution": {
     "iopub.execute_input": "2023-11-29T18:03:17.991562Z",
     "iopub.status.busy": "2023-11-29T18:03:17.990220Z",
     "iopub.status.idle": "2023-11-29T18:03:17.995941Z",
     "shell.execute_reply": "2023-11-29T18:03:17.994820Z"
    },
    "papermill": {
     "duration": 0.016498,
     "end_time": "2023-11-29T18:03:17.998552",
     "exception": false,
     "start_time": "2023-11-29T18:03:17.982054",
     "status": "completed"
    },
    "tags": []
   },
   "outputs": [],
   "source": [
    "# print(train_data.shape, \"\\n\")\n",
    "# print(train_data.isnull().sum(),\"\\n\")\n",
    "# print(train_data.info(),\"\\n\")\n",
    "# print(train_data.head(),\"\\n\")\n",
    "# train_data.describe()"
   ]
  },
  {
   "cell_type": "code",
   "execution_count": 5,
   "id": "f2927146",
   "metadata": {
    "_kg_hide-input": true,
    "execution": {
     "iopub.execute_input": "2023-11-29T18:03:18.013502Z",
     "iopub.status.busy": "2023-11-29T18:03:18.012989Z",
     "iopub.status.idle": "2023-11-29T18:03:18.018170Z",
     "shell.execute_reply": "2023-11-29T18:03:18.017053Z"
    },
    "papermill": {
     "duration": 0.015504,
     "end_time": "2023-11-29T18:03:18.020611",
     "exception": false,
     "start_time": "2023-11-29T18:03:18.005107",
     "status": "completed"
    },
    "tags": []
   },
   "outputs": [],
   "source": [
    "# print(test_data.shape, \"\\n\")\n",
    "# print(test_data.isnull().sum(),\"\\n\")\n",
    "# print(test_data.info(),\"\\n\")\n",
    "# print(test_data.head(),\"\\n\")\n",
    "# test_data.describe()"
   ]
  },
  {
   "cell_type": "code",
   "execution_count": 6,
   "id": "68166fcf",
   "metadata": {
    "_kg_hide-input": true,
    "execution": {
     "iopub.execute_input": "2023-11-29T18:03:18.035771Z",
     "iopub.status.busy": "2023-11-29T18:03:18.035222Z",
     "iopub.status.idle": "2023-11-29T18:03:18.041480Z",
     "shell.execute_reply": "2023-11-29T18:03:18.039897Z"
    },
    "papermill": {
     "duration": 0.017274,
     "end_time": "2023-11-29T18:03:18.044201",
     "exception": false,
     "start_time": "2023-11-29T18:03:18.026927",
     "status": "completed"
    },
    "tags": []
   },
   "outputs": [],
   "source": [
    "# train_data.duplicated().value_counts()"
   ]
  },
  {
   "cell_type": "code",
   "execution_count": 7,
   "id": "4067a259",
   "metadata": {
    "execution": {
     "iopub.execute_input": "2023-11-29T18:03:18.060392Z",
     "iopub.status.busy": "2023-11-29T18:03:18.059047Z",
     "iopub.status.idle": "2023-11-29T18:03:19.816563Z",
     "shell.execute_reply": "2023-11-29T18:03:19.815341Z"
    },
    "papermill": {
     "duration": 1.768747,
     "end_time": "2023-11-29T18:03:19.819588",
     "exception": false,
     "start_time": "2023-11-29T18:03:18.050841",
     "status": "completed"
    },
    "tags": []
   },
   "outputs": [],
   "source": [
    "import matplotlib.pyplot as plt\n",
    "import seaborn as sns"
   ]
  },
  {
   "cell_type": "code",
   "execution_count": 8,
   "id": "3d265482",
   "metadata": {
    "_kg_hide-input": false,
    "execution": {
     "iopub.execute_input": "2023-11-29T18:03:19.836431Z",
     "iopub.status.busy": "2023-11-29T18:03:19.835599Z",
     "iopub.status.idle": "2023-11-29T18:03:19.840719Z",
     "shell.execute_reply": "2023-11-29T18:03:19.839534Z"
    },
    "papermill": {
     "duration": 0.017492,
     "end_time": "2023-11-29T18:03:19.843644",
     "exception": false,
     "start_time": "2023-11-29T18:03:19.826152",
     "status": "completed"
    },
    "tags": []
   },
   "outputs": [],
   "source": [
    "#Data Visualisation\n",
    "# sampled_data = train_data.sample(n=1000, random_state=42)\n",
    "# sns.pairplot(sampled_data)\n",
    "# plt.subplots_adjust(hspace = 0.5,wspace = 0.3)\n",
    "# plt.show()"
   ]
  },
  {
   "cell_type": "code",
   "execution_count": 9,
   "id": "642029bf",
   "metadata": {
    "execution": {
     "iopub.execute_input": "2023-11-29T18:03:19.859497Z",
     "iopub.status.busy": "2023-11-29T18:03:19.858952Z",
     "iopub.status.idle": "2023-11-29T18:03:19.864248Z",
     "shell.execute_reply": "2023-11-29T18:03:19.862970Z"
    },
    "papermill": {
     "duration": 0.016719,
     "end_time": "2023-11-29T18:03:19.867136",
     "exception": false,
     "start_time": "2023-11-29T18:03:19.850417",
     "status": "completed"
    },
    "tags": []
   },
   "outputs": [],
   "source": [
    "#Data Visualisation\n",
    "# train_data.hist(bins = 100, figsize=(15, 10))\n",
    "# plt.subplots_adjust(hspace = 0.5,wspace = 0.5)\n",
    "# plt.show()"
   ]
  },
  {
   "cell_type": "code",
   "execution_count": 10,
   "id": "405b110c",
   "metadata": {
    "execution": {
     "iopub.execute_input": "2023-11-29T18:03:19.883042Z",
     "iopub.status.busy": "2023-11-29T18:03:19.881916Z",
     "iopub.status.idle": "2023-11-29T18:03:47.533896Z",
     "shell.execute_reply": "2023-11-29T18:03:47.532736Z"
    },
    "papermill": {
     "duration": 27.663739,
     "end_time": "2023-11-29T18:03:47.537552",
     "exception": false,
     "start_time": "2023-11-29T18:03:19.873813",
     "status": "completed"
    },
    "tags": []
   },
   "outputs": [],
   "source": [
    "#Data Preprocessing\n",
    "from datetime import datetime\n",
    "import math\n",
    "\n",
    "ride_duration=[]\n",
    "ride_start=[]\n",
    "rode_stop=[]\n",
    "for i in range(len(train_data)):\n",
    "    ts1 = datetime.strptime(train_data.iloc[i,1], \"%Y-%m-%d %H:%M:%S\")\n",
    "    ts2 = datetime.strptime(train_data.iloc[i,2], \"%Y-%m-%d %H:%M:%S\")\n",
    "    duration = abs(ts2 - ts1)\n",
    "    ride_duration.append(duration.total_seconds())\n",
    "    ride_start.append(ts1.strftime(\"%H\"))\n",
    "    rode_stop.append(ts2.strftime(\"%H\"))\n",
    "train_data[\"ride_duration\"]=ride_duration\n",
    "train_data[\"ride_start\"]=ride_start\n",
    "train_data[\"ride_stop\"]=ride_start\n",
    "\n",
    "ride_duration=[]\n",
    "ride_start=[]\n",
    "rode_stop=[]\n",
    "for i in range(len(test_data)):\n",
    "    ts1 = datetime.strptime(test_data.iloc[i,1], \"%Y-%m-%d %H:%M:%S\")\n",
    "    ts2 = datetime.strptime(test_data.iloc[i,2], \"%Y-%m-%d %H:%M:%S\")\n",
    "    duration = abs(ts2 - ts1)\n",
    "    ride_duration.append(duration.total_seconds())\n",
    "    ride_start.append(ts1.strftime(\"%H\"))\n",
    "    rode_stop.append(ts2.strftime(\"%H\"))\n",
    "test_data[\"ride_duration\"]=ride_duration\n",
    "test_data[\"ride_start\"]=ride_start\n",
    "test_data[\"ride_stop\"]=ride_start"
   ]
  },
  {
   "cell_type": "code",
   "execution_count": 11,
   "id": "19679237",
   "metadata": {
    "_kg_hide-input": true,
    "execution": {
     "iopub.execute_input": "2023-11-29T18:03:47.553340Z",
     "iopub.status.busy": "2023-11-29T18:03:47.552853Z",
     "iopub.status.idle": "2023-11-29T18:03:47.558151Z",
     "shell.execute_reply": "2023-11-29T18:03:47.557026Z"
    },
    "papermill": {
     "duration": 0.016303,
     "end_time": "2023-11-29T18:03:47.560635",
     "exception": false,
     "start_time": "2023-11-29T18:03:47.544332",
     "status": "completed"
    },
    "tags": []
   },
   "outputs": [],
   "source": [
    "# print(train_data.shape, \"\\n\")\n",
    "# print(train_data.isnull().sum(),\"\\n\")\n",
    "# print(train_data.info(),\"\\n\")\n",
    "# print(train_data.head(),\"\\n\")\n",
    "# train_data.describe()"
   ]
  },
  {
   "cell_type": "code",
   "execution_count": 12,
   "id": "56c7856a",
   "metadata": {
    "execution": {
     "iopub.execute_input": "2023-11-29T18:03:47.575776Z",
     "iopub.status.busy": "2023-11-29T18:03:47.575284Z",
     "iopub.status.idle": "2023-11-29T18:03:47.580729Z",
     "shell.execute_reply": "2023-11-29T18:03:47.579536Z"
    },
    "papermill": {
     "duration": 0.016066,
     "end_time": "2023-11-29T18:03:47.583145",
     "exception": false,
     "start_time": "2023-11-29T18:03:47.567079",
     "status": "completed"
    },
    "tags": []
   },
   "outputs": [],
   "source": [
    "#Data Visualisation\n",
    "# features = ['passenger_count','extra','tip_amount','tolls_amount','improvement_surcharge','total_amount','congestion_surcharge','Airport_fee']\n",
    "# time_feature = 'ride_duration'\n",
    "\n",
    "# melted_data = train_data.melt(id_vars=[time_feature], value_vars=features, var_name='feature', value_name='value')\n",
    "\n",
    "# plt.figure(figsize=(12, 6))\n",
    "# sns.lineplot(data=melted_data, x=time_feature, y='value', hue='feature')\n",
    "\n",
    "# plt.xlabel('Time or Continuous Variable')\n",
    "# plt.ylabel('Feature Values')\n",
    "# plt.title('Line Plot of 8 Features Over Time')\n",
    "# plt.legend(title='Features', bbox_to_anchor=(1.05, 1), loc='upper left')\n",
    "# plt.show()"
   ]
  },
  {
   "cell_type": "code",
   "execution_count": 13,
   "id": "56a6dd12",
   "metadata": {
    "execution": {
     "iopub.execute_input": "2023-11-29T18:03:47.598981Z",
     "iopub.status.busy": "2023-11-29T18:03:47.597620Z",
     "iopub.status.idle": "2023-11-29T18:03:48.161739Z",
     "shell.execute_reply": "2023-11-29T18:03:48.160161Z"
    },
    "papermill": {
     "duration": 0.575388,
     "end_time": "2023-11-29T18:03:48.164937",
     "exception": false,
     "start_time": "2023-11-29T18:03:47.589549",
     "status": "completed"
    },
    "tags": []
   },
   "outputs": [],
   "source": [
    "#Data encoding\n",
    "new_train = train_data.drop(['tpep_pickup_datetime','tpep_dropoff_datetime'], axis=1)\n",
    "new_train = pd.get_dummies(new_train,columns=['store_and_fwd_flag','payment_type'], dtype='int')\n",
    "# print(new_train.isnull().sum())\n",
    "for column in new_train.columns:\n",
    "    mode = new_train[column].mode()[0]\n",
    "    new_train[column].fillna(mode, inplace=True)\n",
    "# print(new_train.isnull().sum())\n",
    "\n",
    "new_test = test_data.drop(['tpep_pickup_datetime','tpep_dropoff_datetime'], axis=1)\n",
    "encoded_test = pd.get_dummies(new_test,columns=['store_and_fwd_flag','payment_type'], dtype='int')\n",
    "# print(encoded_test.isnull().sum())\n",
    "for column in encoded_test.columns:\n",
    "    mode = encoded_test[column].mode()[0]\n",
    "    encoded_test[column].fillna(mode, inplace=True)\n",
    "# print(encoded_test.isnull().sum())\n",
    "\n",
    "X_train = new_train.drop(['total_amount'], axis=1)\n",
    "y_train = new_train['total_amount']\n",
    "# print(X_train.head())\n",
    "# print(y_train.head())"
   ]
  },
  {
   "cell_type": "code",
   "execution_count": 14,
   "id": "66ad4bf6",
   "metadata": {
    "execution": {
     "iopub.execute_input": "2023-11-29T18:03:48.180148Z",
     "iopub.status.busy": "2023-11-29T18:03:48.179665Z",
     "iopub.status.idle": "2023-11-29T18:03:58.758654Z",
     "shell.execute_reply": "2023-11-29T18:03:58.756529Z"
    },
    "papermill": {
     "duration": 10.592418,
     "end_time": "2023-11-29T18:03:58.763928",
     "exception": false,
     "start_time": "2023-11-29T18:03:48.171510",
     "status": "completed"
    },
    "tags": []
   },
   "outputs": [],
   "source": [
    "from sklearn.pipeline import make_pipeline\n",
    "from sklearn.preprocessing import PolynomialFeatures\n",
    "from sklearn.linear_model import LinearRegression\n",
    "\n",
    "model = make_pipeline(PolynomialFeatures(2), LinearRegression())\n",
    "model.fit(X_train, y_train)\n",
    "val_predictions = model.predict(encoded_test)"
   ]
  },
  {
   "cell_type": "code",
   "execution_count": 15,
   "id": "cf8e66b3",
   "metadata": {
    "execution": {
     "iopub.execute_input": "2023-11-29T18:03:58.793604Z",
     "iopub.status.busy": "2023-11-29T18:03:58.792596Z",
     "iopub.status.idle": "2023-11-29T18:03:59.113009Z",
     "shell.execute_reply": "2023-11-29T18:03:59.111309Z"
    },
    "papermill": {
     "duration": 0.339301,
     "end_time": "2023-11-29T18:03:59.116303",
     "exception": false,
     "start_time": "2023-11-29T18:03:58.777002",
     "status": "completed"
    },
    "tags": []
   },
   "outputs": [],
   "source": [
    "submission = pd.DataFrame(columns = [\"ID\",\"total_amount\"])\n",
    "submission[\"ID\"] = [i for i in range(1,len(val_predictions)+1)]\n",
    "submission[\"total_amount\"] = val_predictions\n",
    "submission.to_csv('submission.csv',index=False)"
   ]
  }
 ],
 "metadata": {
  "kaggle": {
   "accelerator": "none",
   "dataSources": [
    {
     "databundleVersionId": 6604167,
     "sourceId": 61246,
     "sourceType": "competition"
    }
   ],
   "dockerImageVersionId": 30558,
   "isGpuEnabled": false,
   "isInternetEnabled": true,
   "language": "python",
   "sourceType": "notebook"
  },
  "kernelspec": {
   "display_name": "Python 3",
   "language": "python",
   "name": "python3"
  },
  "language_info": {
   "codemirror_mode": {
    "name": "ipython",
    "version": 3
   },
   "file_extension": ".py",
   "mimetype": "text/x-python",
   "name": "python",
   "nbconvert_exporter": "python",
   "pygments_lexer": "ipython3",
   "version": "3.10.12"
  },
  "papermill": {
   "default_parameters": {},
   "duration": 49.146076,
   "end_time": "2023-11-29T18:04:00.149541",
   "environment_variables": {},
   "exception": null,
   "input_path": "__notebook__.ipynb",
   "output_path": "__notebook__.ipynb",
   "parameters": {},
   "start_time": "2023-11-29T18:03:11.003465",
   "version": "2.4.0"
  }
 },
 "nbformat": 4,
 "nbformat_minor": 5
}
