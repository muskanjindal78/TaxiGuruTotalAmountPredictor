{
 "cells": [
  {
   "cell_type": "code",
   "execution_count": 1,
   "id": "47584b97",
   "metadata": {
    "_cell_guid": "b1076dfc-b9ad-4769-8c92-a6c4dae69d19",
    "_uuid": "8f2839f25d086af736a60e9eeb907d3b93b6e0e5",
    "execution": {
     "iopub.execute_input": "2023-11-30T19:00:02.458173Z",
     "iopub.status.busy": "2023-11-30T19:00:02.457689Z",
     "iopub.status.idle": "2023-11-30T19:00:03.564042Z",
     "shell.execute_reply": "2023-11-30T19:00:03.562005Z"
    },
    "papermill": {
     "duration": 1.120214,
     "end_time": "2023-11-30T19:00:03.568031",
     "exception": false,
     "start_time": "2023-11-30T19:00:02.447817",
     "status": "completed"
    },
    "tags": []
   },
   "outputs": [
    {
     "name": "stdout",
     "output_type": "stream",
     "text": [
      "/kaggle/input/taxi-fare-guru-total-amount-prediction-challenge/sample.csv.csv\n",
      "/kaggle/input/taxi-fare-guru-total-amount-prediction-challenge/train.csv\n",
      "/kaggle/input/taxi-fare-guru-total-amount-prediction-challenge/test.csv\n"
     ]
    }
   ],
   "source": [
    "# This Python 3 environment comes with many helpful analytics libraries installed\n",
    "# It is defined by the kaggle/python Docker image: https://github.com/kaggle/docker-python\n",
    "# For example, here's several helpful packages to load\n",
    "\n",
    "import numpy as np # linear algebra\n",
    "import pandas as pd # data processing, CSV file I/O (e.g. pd.read_csv)\n",
    "\n",
    "# Input data files are available in the read-only \"../input/\" directory\n",
    "# For example, running this (by clicking run or pressing Shift+Enter) will list all files under the input directory\n",
    "\n",
    "import os\n",
    "for dirname, _, filenames in os.walk('/kaggle/input'):\n",
    "    for filename in filenames:\n",
    "        print(os.path.join(dirname, filename))\n",
    "\n",
    "# You can write up to 20GB to the current directory (/kaggle/working/) that gets preserved as output when you create a version using \"Save & Run All\" \n",
    "# You can also write temporary files to /kaggle/temp/, but they won't be saved outside of the current session"
   ]
  },
  {
   "cell_type": "code",
   "execution_count": 2,
   "id": "2c892b30",
   "metadata": {
    "execution": {
     "iopub.execute_input": "2023-11-30T19:00:03.585362Z",
     "iopub.status.busy": "2023-11-30T19:00:03.584675Z",
     "iopub.status.idle": "2023-11-30T19:00:03.989018Z",
     "shell.execute_reply": "2023-11-30T19:00:03.987545Z"
    },
    "papermill": {
     "duration": 0.41651,
     "end_time": "2023-11-30T19:00:03.992319",
     "exception": false,
     "start_time": "2023-11-30T19:00:03.575809",
     "status": "completed"
    },
    "tags": []
   },
   "outputs": [],
   "source": [
    "import warnings\n",
    "import scipy.linalg\n",
    "\n",
    "np.set_printoptions(precision=6)\n",
    "np.seterr(all='warn')\n",
    "warnings.filterwarnings(\"ignore\", category=scipy.linalg.LinAlgWarning)"
   ]
  },
  {
   "cell_type": "code",
   "execution_count": 3,
   "id": "b7faf88d",
   "metadata": {
    "execution": {
     "iopub.execute_input": "2023-11-30T19:00:04.011089Z",
     "iopub.status.busy": "2023-11-30T19:00:04.009367Z",
     "iopub.status.idle": "2023-11-30T19:00:04.892997Z",
     "shell.execute_reply": "2023-11-30T19:00:04.890326Z"
    },
    "papermill": {
     "duration": 0.897129,
     "end_time": "2023-11-30T19:00:04.896761",
     "exception": false,
     "start_time": "2023-11-30T19:00:03.999632",
     "status": "completed"
    },
    "tags": []
   },
   "outputs": [],
   "source": [
    "sample_data = pd.read_csv(\"/kaggle/input/taxi-fare-guru-total-amount-prediction-challenge/sample.csv.csv\")\n",
    "train_data = pd.read_csv(\"/kaggle/input/taxi-fare-guru-total-amount-prediction-challenge/train.csv\")\n",
    "test_data = pd.read_csv(\"/kaggle/input/taxi-fare-guru-total-amount-prediction-challenge/test.csv\")"
   ]
  },
  {
   "cell_type": "code",
   "execution_count": 4,
   "id": "5ee35af7",
   "metadata": {
    "_kg_hide-input": true,
    "execution": {
     "iopub.execute_input": "2023-11-30T19:00:04.911729Z",
     "iopub.status.busy": "2023-11-30T19:00:04.911195Z",
     "iopub.status.idle": "2023-11-30T19:00:04.918373Z",
     "shell.execute_reply": "2023-11-30T19:00:04.916372Z"
    },
    "papermill": {
     "duration": 0.018541,
     "end_time": "2023-11-30T19:00:04.921886",
     "exception": false,
     "start_time": "2023-11-30T19:00:04.903345",
     "status": "completed"
    },
    "tags": []
   },
   "outputs": [],
   "source": [
    "# print(train_data.shape, \"\\n\")\n",
    "# print(train_data.isnull().sum(),\"\\n\")\n",
    "# print(train_data.info(),\"\\n\")\n",
    "# print(train_data.head(),\"\\n\")\n",
    "# train_data.describe()"
   ]
  },
  {
   "cell_type": "code",
   "execution_count": 5,
   "id": "41a8e343",
   "metadata": {
    "_kg_hide-input": true,
    "execution": {
     "iopub.execute_input": "2023-11-30T19:00:04.937068Z",
     "iopub.status.busy": "2023-11-30T19:00:04.936574Z",
     "iopub.status.idle": "2023-11-30T19:00:04.943347Z",
     "shell.execute_reply": "2023-11-30T19:00:04.941703Z"
    },
    "papermill": {
     "duration": 0.018941,
     "end_time": "2023-11-30T19:00:04.947525",
     "exception": false,
     "start_time": "2023-11-30T19:00:04.928584",
     "status": "completed"
    },
    "tags": []
   },
   "outputs": [],
   "source": [
    "# print(sample_data.shape, \"\\n\")\n",
    "# print(sample_data.isnull().sum(),\"\\n\")\n",
    "# print(sample_data.info(),\"\\n\")\n",
    "# print(sample_data.head(),\"\\n\")\n",
    "# sample_data.describe()"
   ]
  },
  {
   "cell_type": "code",
   "execution_count": 6,
   "id": "5a2937bb",
   "metadata": {
    "_kg_hide-input": true,
    "execution": {
     "iopub.execute_input": "2023-11-30T19:00:04.963407Z",
     "iopub.status.busy": "2023-11-30T19:00:04.962682Z",
     "iopub.status.idle": "2023-11-30T19:00:04.971011Z",
     "shell.execute_reply": "2023-11-30T19:00:04.968577Z"
    },
    "papermill": {
     "duration": 0.020645,
     "end_time": "2023-11-30T19:00:04.974898",
     "exception": false,
     "start_time": "2023-11-30T19:00:04.954253",
     "status": "completed"
    },
    "tags": []
   },
   "outputs": [],
   "source": [
    "# print(test_data.shape, \"\\n\")\n",
    "# print(test_data.isnull().sum(),\"\\n\")\n",
    "# print(test_data.info(),\"\\n\")\n",
    "# print(test_data.head(),\"\\n\")\n",
    "# test_data.describe()"
   ]
  },
  {
   "cell_type": "code",
   "execution_count": 7,
   "id": "ff4ca015",
   "metadata": {
    "_kg_hide-input": true,
    "execution": {
     "iopub.execute_input": "2023-11-30T19:00:04.990813Z",
     "iopub.status.busy": "2023-11-30T19:00:04.990107Z",
     "iopub.status.idle": "2023-11-30T19:00:04.997370Z",
     "shell.execute_reply": "2023-11-30T19:00:04.995662Z"
    },
    "papermill": {
     "duration": 0.018172,
     "end_time": "2023-11-30T19:00:04.999750",
     "exception": false,
     "start_time": "2023-11-30T19:00:04.981578",
     "status": "completed"
    },
    "tags": []
   },
   "outputs": [],
   "source": [
    "# train_data.duplicated().value_counts()"
   ]
  },
  {
   "cell_type": "code",
   "execution_count": 8,
   "id": "a37178b8",
   "metadata": {
    "execution": {
     "iopub.execute_input": "2023-11-30T19:00:05.014729Z",
     "iopub.status.busy": "2023-11-30T19:00:05.014289Z",
     "iopub.status.idle": "2023-11-30T19:00:06.634035Z",
     "shell.execute_reply": "2023-11-30T19:00:06.631526Z"
    },
    "papermill": {
     "duration": 1.631364,
     "end_time": "2023-11-30T19:00:06.637513",
     "exception": false,
     "start_time": "2023-11-30T19:00:05.006149",
     "status": "completed"
    },
    "tags": []
   },
   "outputs": [],
   "source": [
    "import matplotlib.pyplot as plt\n",
    "import seaborn as sns"
   ]
  },
  {
   "cell_type": "code",
   "execution_count": 9,
   "id": "a32ca5a9",
   "metadata": {
    "_kg_hide-input": false,
    "execution": {
     "iopub.execute_input": "2023-11-30T19:00:06.652005Z",
     "iopub.status.busy": "2023-11-30T19:00:06.651469Z",
     "iopub.status.idle": "2023-11-30T19:00:06.658014Z",
     "shell.execute_reply": "2023-11-30T19:00:06.656549Z"
    },
    "papermill": {
     "duration": 0.016431,
     "end_time": "2023-11-30T19:00:06.660145",
     "exception": false,
     "start_time": "2023-11-30T19:00:06.643714",
     "status": "completed"
    },
    "tags": []
   },
   "outputs": [],
   "source": [
    "#Data Visualisation\n",
    "# sampled_data = train_data.sample(n=1000, random_state=42)\n",
    "# sns.pairplot(sampled_data)\n",
    "# plt.subplots_adjust(hspace = 0.5,wspace = 0.3)\n",
    "# plt.show()"
   ]
  },
  {
   "cell_type": "code",
   "execution_count": 10,
   "id": "088d5914",
   "metadata": {
    "execution": {
     "iopub.execute_input": "2023-11-30T19:00:06.675198Z",
     "iopub.status.busy": "2023-11-30T19:00:06.674752Z",
     "iopub.status.idle": "2023-11-30T19:00:06.681310Z",
     "shell.execute_reply": "2023-11-30T19:00:06.679448Z"
    },
    "papermill": {
     "duration": 0.018039,
     "end_time": "2023-11-30T19:00:06.684905",
     "exception": false,
     "start_time": "2023-11-30T19:00:06.666866",
     "status": "completed"
    },
    "tags": []
   },
   "outputs": [],
   "source": [
    "#Data Visualisation\n",
    "# train_data.hist(bins = 100, figsize=(15, 10))\n",
    "# plt.subplots_adjust(hspace = 0.5,wspace = 0.5)\n",
    "# plt.show()"
   ]
  },
  {
   "cell_type": "code",
   "execution_count": 11,
   "id": "11997014",
   "metadata": {
    "execution": {
     "iopub.execute_input": "2023-11-30T19:00:06.702827Z",
     "iopub.status.busy": "2023-11-30T19:00:06.701013Z",
     "iopub.status.idle": "2023-11-30T19:00:27.235607Z",
     "shell.execute_reply": "2023-11-30T19:00:27.234815Z"
    },
    "papermill": {
     "duration": 20.546068,
     "end_time": "2023-11-30T19:00:27.238177",
     "exception": false,
     "start_time": "2023-11-30T19:00:06.692109",
     "status": "completed"
    },
    "tags": []
   },
   "outputs": [],
   "source": [
    "#Data Preprocessing\n",
    "from datetime import datetime\n",
    "import math\n",
    "\n",
    "ride_duration=[]\n",
    "ride_start=[]\n",
    "rode_stop=[]\n",
    "for i in range(len(train_data)):\n",
    "    ts1 = datetime.strptime(train_data.iloc[i,1], \"%Y-%m-%d %H:%M:%S\")\n",
    "    ts2 = datetime.strptime(train_data.iloc[i,2], \"%Y-%m-%d %H:%M:%S\")\n",
    "    duration = abs(ts2 - ts1)\n",
    "    ride_duration.append(duration.total_seconds())\n",
    "    ride_start.append(ts1.strftime(\"%H\"))\n",
    "    rode_stop.append(ts2.strftime(\"%H\"))\n",
    "train_data[\"ride_duration\"]=ride_duration\n",
    "train_data[\"ride_start\"]=ride_start\n",
    "train_data[\"ride_stop\"]=ride_start\n",
    "\n",
    "ride_duration=[]\n",
    "ride_start=[]\n",
    "rode_stop=[]\n",
    "for i in range(len(test_data)):\n",
    "    ts1 = datetime.strptime(test_data.iloc[i,1], \"%Y-%m-%d %H:%M:%S\")\n",
    "    ts2 = datetime.strptime(test_data.iloc[i,2], \"%Y-%m-%d %H:%M:%S\")\n",
    "    duration = abs(ts2 - ts1)\n",
    "    ride_duration.append(duration.total_seconds())\n",
    "    ride_start.append(ts1.strftime(\"%H\"))\n",
    "    rode_stop.append(ts2.strftime(\"%H\"))\n",
    "test_data[\"ride_duration\"]=ride_duration\n",
    "test_data[\"ride_start\"]=ride_start\n",
    "test_data[\"ride_stop\"]=ride_start"
   ]
  },
  {
   "cell_type": "code",
   "execution_count": 12,
   "id": "caf7c035",
   "metadata": {
    "_kg_hide-input": true,
    "execution": {
     "iopub.execute_input": "2023-11-30T19:00:27.253055Z",
     "iopub.status.busy": "2023-11-30T19:00:27.252371Z",
     "iopub.status.idle": "2023-11-30T19:00:27.256031Z",
     "shell.execute_reply": "2023-11-30T19:00:27.255390Z"
    },
    "papermill": {
     "duration": 0.014413,
     "end_time": "2023-11-30T19:00:27.259017",
     "exception": false,
     "start_time": "2023-11-30T19:00:27.244604",
     "status": "completed"
    },
    "tags": []
   },
   "outputs": [],
   "source": [
    "# print(train_data.shape, \"\\n\")\n",
    "# print(train_data.isnull().sum(),\"\\n\")\n",
    "# print(train_data.info(),\"\\n\")\n",
    "# print(train_data.head(),\"\\n\")\n",
    "# train_data.describe()"
   ]
  },
  {
   "cell_type": "code",
   "execution_count": 13,
   "id": "c61d9654",
   "metadata": {
    "execution": {
     "iopub.execute_input": "2023-11-30T19:00:27.276181Z",
     "iopub.status.busy": "2023-11-30T19:00:27.275662Z",
     "iopub.status.idle": "2023-11-30T19:00:27.281652Z",
     "shell.execute_reply": "2023-11-30T19:00:27.279761Z"
    },
    "papermill": {
     "duration": 0.017948,
     "end_time": "2023-11-30T19:00:27.284916",
     "exception": false,
     "start_time": "2023-11-30T19:00:27.266968",
     "status": "completed"
    },
    "tags": []
   },
   "outputs": [],
   "source": [
    "#Data Visualisation\n",
    "# features = ['passenger_count','extra','tip_amount','tolls_amount','improvement_surcharge','total_amount','congestion_surcharge','Airport_fee']\n",
    "# time_feature = 'ride_duration'\n",
    "\n",
    "# melted_data = train_data.melt(id_vars=[time_feature], value_vars=features, var_name='feature', value_name='value')\n",
    "\n",
    "# plt.figure(figsize=(12, 6))\n",
    "# sns.lineplot(data=melted_data, x=time_feature, y='value', hue='feature')\n",
    "\n",
    "# plt.xlabel('Time or Continuous Variable')\n",
    "# plt.ylabel('Feature Values')\n",
    "# plt.title('Line Plot of 8 Features Over Time')\n",
    "# plt.legend(title='Features', bbox_to_anchor=(1.05, 1), loc='upper left')\n",
    "# plt.show()"
   ]
  },
  {
   "cell_type": "code",
   "execution_count": 14,
   "id": "461cc133",
   "metadata": {
    "execution": {
     "iopub.execute_input": "2023-11-30T19:00:27.300219Z",
     "iopub.status.busy": "2023-11-30T19:00:27.299735Z",
     "iopub.status.idle": "2023-11-30T19:00:27.630931Z",
     "shell.execute_reply": "2023-11-30T19:00:27.628738Z"
    },
    "papermill": {
     "duration": 0.343762,
     "end_time": "2023-11-30T19:00:27.635185",
     "exception": false,
     "start_time": "2023-11-30T19:00:27.291423",
     "status": "completed"
    },
    "tags": []
   },
   "outputs": [],
   "source": [
    "#Data encoding\n",
    "new_train = train_data.drop(['tpep_pickup_datetime','tpep_dropoff_datetime'], axis=1)\n",
    "new_train = pd.get_dummies(new_train,columns=['store_and_fwd_flag','payment_type'], dtype='int')\n",
    "# print(new_train.isnull().sum())\n",
    "for column in new_train.columns:\n",
    "    mode = new_train[column].mode()[0]\n",
    "    new_train[column].fillna(mode, inplace=True)\n",
    "# print(new_train.isnull().sum())\n",
    "\n",
    "new_test = test_data.drop(['tpep_pickup_datetime','tpep_dropoff_datetime'], axis=1)\n",
    "encoded_test = pd.get_dummies(new_test,columns=['store_and_fwd_flag','payment_type'], dtype='int')\n",
    "# print(encoded_test.isnull().sum())\n",
    "for column in encoded_test.columns:\n",
    "    mode = encoded_test[column].mode()[0]\n",
    "    encoded_test[column].fillna(mode, inplace=True)\n",
    "# print(encoded_test.isnull().sum())\n",
    "\n",
    "X_train = new_train.drop(['total_amount'], axis=1)\n",
    "y_train = new_train['total_amount']\n",
    "# print(X_train.head())\n",
    "# print(y_train.head())"
   ]
  },
  {
   "cell_type": "code",
   "execution_count": 15,
   "id": "a76fb25f",
   "metadata": {
    "execution": {
     "iopub.execute_input": "2023-11-30T19:00:27.650409Z",
     "iopub.status.busy": "2023-11-30T19:00:27.649931Z",
     "iopub.status.idle": "2023-11-30T19:00:28.098809Z",
     "shell.execute_reply": "2023-11-30T19:00:28.096260Z"
    },
    "papermill": {
     "duration": 0.46029,
     "end_time": "2023-11-30T19:00:28.102073",
     "exception": false,
     "start_time": "2023-11-30T19:00:27.641783",
     "status": "completed"
    },
    "tags": []
   },
   "outputs": [],
   "source": [
    "from sklearn.model_selection import GridSearchCV, train_test_split\n",
    "from sklearn.linear_model import Ridge\n",
    "from sklearn.metrics import mean_squared_error\n",
    "\n",
    "# X_train, X_test, y_train, y_test = train_test_split(X_train, y_train, test_size=0.2, random_state=42)\n",
    "\n",
    "# ridge_model = Ridge()\n",
    "\n",
    "# alphas = np.logspace(-3, 3, 10)\n",
    "\n",
    "# param_grid = {'alpha': alphas}\n",
    "# grid_search = GridSearchCV(ridge_model, param_grid, cv=5, scoring='neg_mean_squared_error')\n",
    "# grid_search.fit(X_train, y_train)\n",
    "\n",
    "# best_alpha = grid_search.best_params_['alpha']\n",
    "# final_model = Ridge(alpha=best_alpha)\n",
    "# final_model.fit(X_train, y_train)\n",
    "\n",
    "# y_pred = final_model.predict(X_test)\n",
    "# mse = mean_squared_error(y_test, y_pred)\n",
    "# rmse = np.sqrt(mse)\n",
    "# print(\"Best Alpha: \", best_alpha)\n",
    "# print(\"Test set MSE:\", mse)\n",
    "# print(\"Test Set RMSE: \", rmse)\n",
    "\n",
    "# val_pred = final_model.predict(encoded_test)\n",
    "\n",
    "#cv = 3, np.logspace(-6, 6, 13)\n",
    "# Best Alpha:  1e-06\n",
    "# Test set MSE: 180.00165780792867\n",
    "# Test Set RMSE:  13.416469647710185\n",
    "\n",
    "#cv = 3, np.logspace(-6, 6, 20)\n",
    "# Best Alpha:  1e-06\n",
    "# Test set MSE: 180.00165780792867\n",
    "# Test Set RMSE:  13.416469647710185\n",
    "\n",
    "#cv = 3, np.logspace(-3, 3, 10)\n",
    "# Best Alpha:  0.001\n",
    "# Test set MSE: 180.00165780594605\n",
    "# Test Set RMSE:  13.416469647636298\n",
    "\n",
    "#cv = 5, np.logspace(-6, 6, 13)\n",
    "# Best Alpha:  10.0\n",
    "# Test set MSE: 180.00180916012653\n",
    "# Test Set RMSE:  13.416475288246408\n",
    "\n",
    "#cv = 5, np.logspace(-6, 6, 20)\n",
    "# Best Alpha:  8.858667904100814\n",
    "# Test set MSE: 180.00177471236896\n",
    "# Test Set RMSE:  13.416474004460671\n",
    "\n",
    "#cv = 5, np.logspace(-3, 3, 10)\n",
    "# Best Alpha:  10.0\n",
    "# Test set MSE: 180.00180916012653\n",
    "# Test Set RMSE:  13.416475288246408"
   ]
  },
  {
   "cell_type": "code",
   "execution_count": 16,
   "id": "13949424",
   "metadata": {
    "execution": {
     "iopub.execute_input": "2023-11-30T19:00:28.116323Z",
     "iopub.status.busy": "2023-11-30T19:00:28.115855Z",
     "iopub.status.idle": "2023-11-30T19:00:28.122515Z",
     "shell.execute_reply": "2023-11-30T19:00:28.120667Z"
    },
    "papermill": {
     "duration": 0.017237,
     "end_time": "2023-11-30T19:00:28.125624",
     "exception": false,
     "start_time": "2023-11-30T19:00:28.108387",
     "status": "completed"
    },
    "tags": []
   },
   "outputs": [],
   "source": [
    "# from sklearn.model_selection import RandomizedSearchCV\n",
    "# from scipy.stats import uniform\n",
    "\n",
    "# X_train, X_test, y_train, y_test = train_test_split(X_train, y_train, test_size=0.2, random_state=42)\n",
    "\n",
    "# param_dist = {'alpha': uniform(0, 1)} \n",
    "# randomized_search = RandomizedSearchCV(Ridge(), param_distributions=param_dist, n_iter=10, cv=3, scoring='neg_mean_squared_error')\n",
    "# randomized_search.fit(X_train, y_train)\n",
    "\n",
    "# mse = mean_squared_error(y_test, y_pred)\n",
    "# rmse = np.sqrt(mse)\n",
    "# print(\"Test set MSE:\", mse)\n",
    "# print(\"Test Set RMSE: \", rmse)\n",
    "\n",
    "# val_pred = randomized_search.predict(encoded_test)\n",
    "\n",
    "#cv=5\n",
    "# Test set MSE: 180.00180916012653\n",
    "# Test Set RMSE:  13.416475288246408\n",
    "\n",
    "#cv=3\n",
    "# Test set MSE: 180.00180916012653\n",
    "# Test Set RMSE:  13.416475288246408"
   ]
  },
  {
   "cell_type": "code",
   "execution_count": 17,
   "id": "267751bf",
   "metadata": {
    "execution": {
     "iopub.execute_input": "2023-11-30T19:00:28.140458Z",
     "iopub.status.busy": "2023-11-30T19:00:28.139921Z",
     "iopub.status.idle": "2023-11-30T19:00:28.281864Z",
     "shell.execute_reply": "2023-11-30T19:00:28.279844Z"
    },
    "papermill": {
     "duration": 0.152476,
     "end_time": "2023-11-30T19:00:28.284830",
     "exception": false,
     "start_time": "2023-11-30T19:00:28.132354",
     "status": "completed"
    },
    "tags": []
   },
   "outputs": [],
   "source": [
    "from sklearn.model_selection import train_test_split\n",
    "from sklearn.neighbors import KNeighborsRegressor\n",
    "from sklearn.metrics import mean_squared_error\n",
    "\n",
    "# X_train, X_test, y_train, y_test = train_test_split(X_train, y_train, test_size=0.2, random_state=42)\n",
    "\n",
    "# knn_model = KNeighborsRegressor(n_neighbors=5)\n",
    "# knn_model.fit(X_train, y_train)\n",
    "# y_pred = knn_model.predict(X_test)\n",
    "\n",
    "# mse = mean_squared_error(y_test, y_pred)\n",
    "# rmse = np.sqrt(mse)\n",
    "# print(f\"Root Mean Squared Error (RMSE): {rmse}\")\n",
    "\n",
    "#It gave RMSE more than GridSearchCV & RandomizedSearchCV"
   ]
  },
  {
   "cell_type": "code",
   "execution_count": 18,
   "id": "87974618",
   "metadata": {
    "execution": {
     "iopub.execute_input": "2023-11-30T19:00:28.299713Z",
     "iopub.status.busy": "2023-11-30T19:00:28.299225Z",
     "iopub.status.idle": "2023-11-30T19:00:28.307950Z",
     "shell.execute_reply": "2023-11-30T19:00:28.305365Z"
    },
    "papermill": {
     "duration": 0.02004,
     "end_time": "2023-11-30T19:00:28.311549",
     "exception": false,
     "start_time": "2023-11-30T19:00:28.291509",
     "status": "completed"
    },
    "tags": []
   },
   "outputs": [],
   "source": [
    "from sklearn.model_selection import train_test_split\n",
    "from sklearn.model_selection import GridSearchCV\n",
    "from sklearn.neighbors import KNeighborsRegressor\n",
    "\n",
    "# X_train, X_test, y_train, y_test = train_test_split(X_train, y_train, test_size=0.2, random_state=42)\n",
    "\n",
    "# param_grid = {'n_neighbors': [3, 5, 7, 9, 11], 'weights': ['uniform', 'distance']}\n",
    "\n",
    "# knn_model = KNeighborsRegressor()\n",
    "# grid_search = GridSearchCV(knn_model, param_grid, cv=5, scoring='neg_mean_squared_error')\n",
    "\n",
    "# grid_search.fit(X_train, y_train)\n",
    "\n",
    "# best_params = grid_search.best_params_\n",
    "# print(best_params)\n",
    "\n",
    "# best_knn_model = KNeighborsRegressor(n_neighbors=best_params['n_neighbors'], weights=best_params['weights'])\n",
    "# best_knn_model.fit(X_train, y_train)\n",
    "# y_pred = best_knn_model.predict(X_test)\n",
    "\n",
    "# r2 = r2_score(y_test, y_pred)\n",
    "# print(\"Mean Squared Error on Test Set:\", r2)"
   ]
  },
  {
   "cell_type": "code",
   "execution_count": 19,
   "id": "6ca6a033",
   "metadata": {
    "execution": {
     "iopub.execute_input": "2023-11-30T19:00:28.327643Z",
     "iopub.status.busy": "2023-11-30T19:00:28.325985Z",
     "iopub.status.idle": "2023-11-30T19:00:28.335524Z",
     "shell.execute_reply": "2023-11-30T19:00:28.333382Z"
    },
    "papermill": {
     "duration": 0.020605,
     "end_time": "2023-11-30T19:00:28.338568",
     "exception": false,
     "start_time": "2023-11-30T19:00:28.317963",
     "status": "completed"
    },
    "tags": []
   },
   "outputs": [],
   "source": [
    "from sklearn import svm\n",
    "from sklearn.model_selection import train_test_split\n",
    "\n",
    "# X_train, X_test, y_train, y_test = train_test_split(X_train, y_train, test_size=0.2, random_state=42)\n",
    "\n",
    "# parameters = {'kernel':('linear', 'rbf'), 'C':[1, 10]}\n",
    "# svr = svm.SVR()\n",
    "# clf = GridSearchCV(svr, parameters)\n",
    "# clf.fit(pca_df, y_train)\n",
    "# y_pred_svr=clf.predict(X_test)\n",
    "# r2 = r2_score(y_test, y_pred_svr)\n",
    "\n",
    "# print(\"Mean Squared Error on Test Set:\", r2)"
   ]
  },
  {
   "cell_type": "code",
   "execution_count": 20,
   "id": "93993f92",
   "metadata": {
    "execution": {
     "iopub.execute_input": "2023-11-30T19:00:28.353747Z",
     "iopub.status.busy": "2023-11-30T19:00:28.353278Z",
     "iopub.status.idle": "2023-11-30T19:00:28.359459Z",
     "shell.execute_reply": "2023-11-30T19:00:28.357650Z"
    },
    "papermill": {
     "duration": 0.016883,
     "end_time": "2023-11-30T19:00:28.361909",
     "exception": false,
     "start_time": "2023-11-30T19:00:28.345026",
     "status": "completed"
    },
    "tags": []
   },
   "outputs": [],
   "source": [
    "# from sklearn.pipeline import make_pipeline\n",
    "# from sklearn.preprocessing import PolynomialFeatures\n",
    "# from sklearn.linear_model import LinearRegression\n",
    "\n",
    "# model = make_pipeline(PolynomialFeatures(2), LinearRegression())\n",
    "# model.fit(X_train, y_train)\n",
    "# val_predictions = model.predict(encoded_test)"
   ]
  },
  {
   "cell_type": "code",
   "execution_count": 21,
   "id": "7a642b76",
   "metadata": {
    "execution": {
     "iopub.execute_input": "2023-11-30T19:00:28.376505Z",
     "iopub.status.busy": "2023-11-30T19:00:28.376031Z",
     "iopub.status.idle": "2023-11-30T19:00:28.383107Z",
     "shell.execute_reply": "2023-11-30T19:00:28.380656Z"
    },
    "papermill": {
     "duration": 0.017233,
     "end_time": "2023-11-30T19:00:28.385605",
     "exception": false,
     "start_time": "2023-11-30T19:00:28.368372",
     "status": "completed"
    },
    "tags": []
   },
   "outputs": [],
   "source": [
    "# from sklearn.ensemble import RandomForestRegressor\n",
    "\n",
    "# model = RandomForestRegressor()\n",
    "# model.fit(X_train, y_train)\n",
    "# pred = model.predict(encoded_test)"
   ]
  },
  {
   "cell_type": "code",
   "execution_count": 22,
   "id": "70ffae28",
   "metadata": {
    "execution": {
     "iopub.execute_input": "2023-11-30T19:00:28.400732Z",
     "iopub.status.busy": "2023-11-30T19:00:28.400258Z",
     "iopub.status.idle": "2023-11-30T19:00:28.407146Z",
     "shell.execute_reply": "2023-11-30T19:00:28.405891Z"
    },
    "papermill": {
     "duration": 0.016974,
     "end_time": "2023-11-30T19:00:28.409482",
     "exception": false,
     "start_time": "2023-11-30T19:00:28.392508",
     "status": "completed"
    },
    "tags": []
   },
   "outputs": [],
   "source": [
    "# from sklearn.tree import DecisionTreeRegressor\n",
    "\n",
    "# model = DecisionTreeRegressor()\n",
    "# model.fit(X_train, y_train)\n",
    "# val_predictions = model.predict(encoded_test)"
   ]
  },
  {
   "cell_type": "code",
   "execution_count": 23,
   "id": "f8a24455",
   "metadata": {
    "execution": {
     "iopub.execute_input": "2023-11-30T19:00:28.423630Z",
     "iopub.status.busy": "2023-11-30T19:00:28.423240Z",
     "iopub.status.idle": "2023-11-30T19:18:28.258776Z",
     "shell.execute_reply": "2023-11-30T19:18:28.257942Z"
    },
    "papermill": {
     "duration": 1079.852177,
     "end_time": "2023-11-30T19:18:28.267999",
     "exception": false,
     "start_time": "2023-11-30T19:00:28.415822",
     "status": "completed"
    },
    "tags": []
   },
   "outputs": [
    {
     "data": {
      "text/html": [
       "<style>#sk-container-id-1 {color: black;background-color: white;}#sk-container-id-1 pre{padding: 0;}#sk-container-id-1 div.sk-toggleable {background-color: white;}#sk-container-id-1 label.sk-toggleable__label {cursor: pointer;display: block;width: 100%;margin-bottom: 0;padding: 0.3em;box-sizing: border-box;text-align: center;}#sk-container-id-1 label.sk-toggleable__label-arrow:before {content: \"▸\";float: left;margin-right: 0.25em;color: #696969;}#sk-container-id-1 label.sk-toggleable__label-arrow:hover:before {color: black;}#sk-container-id-1 div.sk-estimator:hover label.sk-toggleable__label-arrow:before {color: black;}#sk-container-id-1 div.sk-toggleable__content {max-height: 0;max-width: 0;overflow: hidden;text-align: left;background-color: #f0f8ff;}#sk-container-id-1 div.sk-toggleable__content pre {margin: 0.2em;color: black;border-radius: 0.25em;background-color: #f0f8ff;}#sk-container-id-1 input.sk-toggleable__control:checked~div.sk-toggleable__content {max-height: 200px;max-width: 100%;overflow: auto;}#sk-container-id-1 input.sk-toggleable__control:checked~label.sk-toggleable__label-arrow:before {content: \"▾\";}#sk-container-id-1 div.sk-estimator input.sk-toggleable__control:checked~label.sk-toggleable__label {background-color: #d4ebff;}#sk-container-id-1 div.sk-label input.sk-toggleable__control:checked~label.sk-toggleable__label {background-color: #d4ebff;}#sk-container-id-1 input.sk-hidden--visually {border: 0;clip: rect(1px 1px 1px 1px);clip: rect(1px, 1px, 1px, 1px);height: 1px;margin: -1px;overflow: hidden;padding: 0;position: absolute;width: 1px;}#sk-container-id-1 div.sk-estimator {font-family: monospace;background-color: #f0f8ff;border: 1px dotted black;border-radius: 0.25em;box-sizing: border-box;margin-bottom: 0.5em;}#sk-container-id-1 div.sk-estimator:hover {background-color: #d4ebff;}#sk-container-id-1 div.sk-parallel-item::after {content: \"\";width: 100%;border-bottom: 1px solid gray;flex-grow: 1;}#sk-container-id-1 div.sk-label:hover label.sk-toggleable__label {background-color: #d4ebff;}#sk-container-id-1 div.sk-serial::before {content: \"\";position: absolute;border-left: 1px solid gray;box-sizing: border-box;top: 0;bottom: 0;left: 50%;z-index: 0;}#sk-container-id-1 div.sk-serial {display: flex;flex-direction: column;align-items: center;background-color: white;padding-right: 0.2em;padding-left: 0.2em;position: relative;}#sk-container-id-1 div.sk-item {position: relative;z-index: 1;}#sk-container-id-1 div.sk-parallel {display: flex;align-items: stretch;justify-content: center;background-color: white;position: relative;}#sk-container-id-1 div.sk-item::before, #sk-container-id-1 div.sk-parallel-item::before {content: \"\";position: absolute;border-left: 1px solid gray;box-sizing: border-box;top: 0;bottom: 0;left: 50%;z-index: -1;}#sk-container-id-1 div.sk-parallel-item {display: flex;flex-direction: column;z-index: 1;position: relative;background-color: white;}#sk-container-id-1 div.sk-parallel-item:first-child::after {align-self: flex-end;width: 50%;}#sk-container-id-1 div.sk-parallel-item:last-child::after {align-self: flex-start;width: 50%;}#sk-container-id-1 div.sk-parallel-item:only-child::after {width: 0;}#sk-container-id-1 div.sk-dashed-wrapped {border: 1px dashed gray;margin: 0 0.4em 0.5em 0.4em;box-sizing: border-box;padding-bottom: 0.4em;background-color: white;}#sk-container-id-1 div.sk-label label {font-family: monospace;font-weight: bold;display: inline-block;line-height: 1.2em;}#sk-container-id-1 div.sk-label-container {text-align: center;}#sk-container-id-1 div.sk-container {/* jupyter's `normalize.less` sets `[hidden] { display: none; }` but bootstrap.min.css set `[hidden] { display: none !important; }` so we also need the `!important` here to be able to override the default hidden behavior on the sphinx rendered scikit-learn.org. See: https://github.com/scikit-learn/scikit-learn/issues/21755 */display: inline-block !important;position: relative;}#sk-container-id-1 div.sk-text-repr-fallback {display: none;}</style><div id=\"sk-container-id-1\" class=\"sk-top-container\"><div class=\"sk-text-repr-fallback\"><pre>BaggingRegressor(estimator=RandomForestRegressor(random_state=42),\n",
       "                 random_state=42)</pre><b>In a Jupyter environment, please rerun this cell to show the HTML representation or trust the notebook. <br />On GitHub, the HTML representation is unable to render, please try loading this page with nbviewer.org.</b></div><div class=\"sk-container\" hidden><div class=\"sk-item sk-dashed-wrapped\"><div class=\"sk-label-container\"><div class=\"sk-label sk-toggleable\"><input class=\"sk-toggleable__control sk-hidden--visually\" id=\"sk-estimator-id-1\" type=\"checkbox\" ><label for=\"sk-estimator-id-1\" class=\"sk-toggleable__label sk-toggleable__label-arrow\">BaggingRegressor</label><div class=\"sk-toggleable__content\"><pre>BaggingRegressor(estimator=RandomForestRegressor(random_state=42),\n",
       "                 random_state=42)</pre></div></div></div><div class=\"sk-parallel\"><div class=\"sk-parallel-item\"><div class=\"sk-item\"><div class=\"sk-label-container\"><div class=\"sk-label sk-toggleable\"><input class=\"sk-toggleable__control sk-hidden--visually\" id=\"sk-estimator-id-2\" type=\"checkbox\" ><label for=\"sk-estimator-id-2\" class=\"sk-toggleable__label sk-toggleable__label-arrow\">estimator: RandomForestRegressor</label><div class=\"sk-toggleable__content\"><pre>RandomForestRegressor(random_state=42)</pre></div></div></div><div class=\"sk-serial\"><div class=\"sk-item\"><div class=\"sk-estimator sk-toggleable\"><input class=\"sk-toggleable__control sk-hidden--visually\" id=\"sk-estimator-id-3\" type=\"checkbox\" ><label for=\"sk-estimator-id-3\" class=\"sk-toggleable__label sk-toggleable__label-arrow\">RandomForestRegressor</label><div class=\"sk-toggleable__content\"><pre>RandomForestRegressor(random_state=42)</pre></div></div></div></div></div></div></div></div></div></div>"
      ],
      "text/plain": [
       "BaggingRegressor(estimator=RandomForestRegressor(random_state=42),\n",
       "                 random_state=42)"
      ]
     },
     "execution_count": 23,
     "metadata": {},
     "output_type": "execute_result"
    }
   ],
   "source": [
    "from sklearn.ensemble import RandomForestRegressor\n",
    "from sklearn.ensemble import BaggingRegressor\n",
    "from sklearn.model_selection import train_test_split\n",
    "\n",
    "# X_train, X_test, y_train, y_test = train_test_split(X_train, y_train, test_size=0.2, random_state=42)\n",
    "\n",
    "base_model = RandomForestRegressor(n_estimators=100, random_state=42)\n",
    "\n",
    "bagging_model = BaggingRegressor(base_model, n_estimators=10, random_state=42)\n",
    "\n",
    "bagging_model.fit(X_train, y_train)\n",
    "\n",
    "# y_pred = bagging_model.predict(X_test)\n",
    "\n",
    "# mse = mean_squared_error(y_test, y_pred)\n",
    "# rmse = np.sqrt(mse)\n",
    "\n",
    "# print(\"Root Mean Squared Error (RMSE): \",rmse)\n",
    "# Root Mean Squared Error (RMSE): 5.132822232076593"
   ]
  },
  {
   "cell_type": "code",
   "execution_count": 24,
   "id": "ee3005e0",
   "metadata": {
    "execution": {
     "iopub.execute_input": "2023-11-30T19:18:28.283522Z",
     "iopub.status.busy": "2023-11-30T19:18:28.282758Z",
     "iopub.status.idle": "2023-11-30T19:18:53.351851Z",
     "shell.execute_reply": "2023-11-30T19:18:53.348850Z"
    },
    "papermill": {
     "duration": 25.080724,
     "end_time": "2023-11-30T19:18:53.355259",
     "exception": false,
     "start_time": "2023-11-30T19:18:28.274535",
     "status": "completed"
    },
    "tags": []
   },
   "outputs": [],
   "source": [
    "val_predictions = bagging_model.predict(encoded_test)"
   ]
  },
  {
   "cell_type": "code",
   "execution_count": 25,
   "id": "5d21b8ce",
   "metadata": {
    "execution": {
     "iopub.execute_input": "2023-11-30T19:18:53.373909Z",
     "iopub.status.busy": "2023-11-30T19:18:53.372292Z",
     "iopub.status.idle": "2023-11-30T19:18:53.495801Z",
     "shell.execute_reply": "2023-11-30T19:18:53.493545Z"
    },
    "papermill": {
     "duration": 0.136394,
     "end_time": "2023-11-30T19:18:53.499499",
     "exception": false,
     "start_time": "2023-11-30T19:18:53.363105",
     "status": "completed"
    },
    "tags": []
   },
   "outputs": [],
   "source": [
    "submission = pd.DataFrame(columns = [\"ID\",\"total_amount\"])\n",
    "submission[\"ID\"] = [i for i in range(1,len(val_predictions)+1)]\n",
    "submission[\"total_amount\"] = val_predictions\n",
    "submission.to_csv('submission.csv',index=False)"
   ]
  }
 ],
 "metadata": {
  "kaggle": {
   "accelerator": "none",
   "dataSources": [
    {
     "databundleVersionId": 6604167,
     "sourceId": 61246,
     "sourceType": "competition"
    }
   ],
   "dockerImageVersionId": 30558,
   "isGpuEnabled": false,
   "isInternetEnabled": true,
   "language": "python",
   "sourceType": "notebook"
  },
  "kernelspec": {
   "display_name": "Python 3",
   "language": "python",
   "name": "python3"
  },
  "language_info": {
   "codemirror_mode": {
    "name": "ipython",
    "version": 3
   },
   "file_extension": ".py",
   "mimetype": "text/x-python",
   "name": "python",
   "nbconvert_exporter": "python",
   "pygments_lexer": "ipython3",
   "version": "3.10.12"
  },
  "papermill": {
   "default_parameters": {},
   "duration": 1136.734008,
   "end_time": "2023-11-30T19:18:54.838079",
   "environment_variables": {},
   "exception": null,
   "input_path": "__notebook__.ipynb",
   "output_path": "__notebook__.ipynb",
   "parameters": {},
   "start_time": "2023-11-30T18:59:58.104071",
   "version": "2.4.0"
  }
 },
 "nbformat": 4,
 "nbformat_minor": 5
}
