{
 "cells": [
  {
   "cell_type": "code",
   "execution_count": 1,
   "id": "5277c9f2",
   "metadata": {
    "_cell_guid": "b1076dfc-b9ad-4769-8c92-a6c4dae69d19",
    "_uuid": "8f2839f25d086af736a60e9eeb907d3b93b6e0e5",
    "execution": {
     "iopub.execute_input": "2023-12-15T13:15:22.707633Z",
     "iopub.status.busy": "2023-12-15T13:15:22.706634Z",
     "iopub.status.idle": "2023-12-15T13:15:23.662513Z",
     "shell.execute_reply": "2023-12-15T13:15:23.660031Z"
    },
    "papermill": {
     "duration": 0.969937,
     "end_time": "2023-12-15T13:15:23.665274",
     "exception": false,
     "start_time": "2023-12-15T13:15:22.695337",
     "status": "completed"
    },
    "tags": []
   },
   "outputs": [
    {
     "name": "stdout",
     "output_type": "stream",
     "text": [
      "/kaggle/input/taxi-fare-guru-total-amount-prediction-challenge/sample.csv.csv\n",
      "/kaggle/input/taxi-fare-guru-total-amount-prediction-challenge/train.csv\n",
      "/kaggle/input/taxi-fare-guru-total-amount-prediction-challenge/test.csv\n"
     ]
    }
   ],
   "source": [
    "# This Python 3 environment comes with many helpful analytics libraries installed\n",
    "# It is defined by the kaggle/python Docker image: https://github.com/kaggle/docker-python\n",
    "# For example, here's several helpful packages to load\n",
    "\n",
    "import numpy as np # linear algebra\n",
    "import pandas as pd # data processing, CSV file I/O (e.g. pd.read_csv)\n",
    "\n",
    "# Input data files are available in the read-only \"../input/\" directory\n",
    "# For example, running this (by clicking run or pressing Shift+Enter) will list all files under the input directory\n",
    "\n",
    "import os\n",
    "for dirname, _, filenames in os.walk('/kaggle/input'):\n",
    "    for filename in filenames:\n",
    "        print(os.path.join(dirname, filename))\n",
    "\n",
    "# You can write up to 20GB to the current directory (/kaggle/working/) that gets preserved as output when you create a version using \"Save & Run All\" \n",
    "# You can also write temporary files to /kaggle/temp/, but they won't be saved outside of the current session"
   ]
  },
  {
   "cell_type": "code",
   "execution_count": 2,
   "id": "f1b356db",
   "metadata": {
    "execution": {
     "iopub.execute_input": "2023-12-15T13:15:23.684341Z",
     "iopub.status.busy": "2023-12-15T13:15:23.683785Z",
     "iopub.status.idle": "2023-12-15T13:15:24.007138Z",
     "shell.execute_reply": "2023-12-15T13:15:24.005833Z"
    },
    "papermill": {
     "duration": 0.336036,
     "end_time": "2023-12-15T13:15:24.009977",
     "exception": false,
     "start_time": "2023-12-15T13:15:23.673941",
     "status": "completed"
    },
    "tags": []
   },
   "outputs": [],
   "source": [
    "import warnings\n",
    "import scipy.linalg\n",
    "\n",
    "np.set_printoptions(precision=6)\n",
    "np.seterr(all='warn')\n",
    "warnings.filterwarnings(\"ignore\", category=scipy.linalg.LinAlgWarning)"
   ]
  },
  {
   "cell_type": "code",
   "execution_count": 3,
   "id": "501c2e8f",
   "metadata": {
    "execution": {
     "iopub.execute_input": "2023-12-15T13:15:24.028576Z",
     "iopub.status.busy": "2023-12-15T13:15:24.028124Z",
     "iopub.status.idle": "2023-12-15T13:15:25.260503Z",
     "shell.execute_reply": "2023-12-15T13:15:25.259342Z"
    },
    "papermill": {
     "duration": 1.245023,
     "end_time": "2023-12-15T13:15:25.263437",
     "exception": false,
     "start_time": "2023-12-15T13:15:24.018414",
     "status": "completed"
    },
    "tags": []
   },
   "outputs": [],
   "source": [
    "sample_data = pd.read_csv(\"/kaggle/input/taxi-fare-guru-total-amount-prediction-challenge/sample.csv.csv\")\n",
    "train_data = pd.read_csv(\"/kaggle/input/taxi-fare-guru-total-amount-prediction-challenge/train.csv\")\n",
    "test_data = pd.read_csv(\"/kaggle/input/taxi-fare-guru-total-amount-prediction-challenge/test.csv\")"
   ]
  },
  {
   "cell_type": "code",
   "execution_count": 4,
   "id": "d839584a",
   "metadata": {
    "_kg_hide-input": true,
    "execution": {
     "iopub.execute_input": "2023-12-15T13:15:25.283031Z",
     "iopub.status.busy": "2023-12-15T13:15:25.282020Z",
     "iopub.status.idle": "2023-12-15T13:15:25.287186Z",
     "shell.execute_reply": "2023-12-15T13:15:25.285963Z"
    },
    "papermill": {
     "duration": 0.017773,
     "end_time": "2023-12-15T13:15:25.290029",
     "exception": false,
     "start_time": "2023-12-15T13:15:25.272256",
     "status": "completed"
    },
    "tags": []
   },
   "outputs": [],
   "source": [
    "# print(train_data.shape, \"\\n\")\n",
    "# print(train_data.isnull().sum(),\"\\n\")\n",
    "# print(train_data.info(),\"\\n\")\n",
    "# print(train_data.head(),\"\\n\")\n",
    "# train_data.describe()"
   ]
  },
  {
   "cell_type": "code",
   "execution_count": 5,
   "id": "e945608e",
   "metadata": {
    "_kg_hide-input": true,
    "execution": {
     "iopub.execute_input": "2023-12-15T13:15:25.309614Z",
     "iopub.status.busy": "2023-12-15T13:15:25.309170Z",
     "iopub.status.idle": "2023-12-15T13:15:25.314296Z",
     "shell.execute_reply": "2023-12-15T13:15:25.313477Z"
    },
    "papermill": {
     "duration": 0.01761,
     "end_time": "2023-12-15T13:15:25.316426",
     "exception": false,
     "start_time": "2023-12-15T13:15:25.298816",
     "status": "completed"
    },
    "tags": []
   },
   "outputs": [],
   "source": [
    "# print(sample_data.shape, \"\\n\")\n",
    "# print(sample_data.isnull().sum(),\"\\n\")\n",
    "# print(sample_data.info(),\"\\n\")\n",
    "# print(sample_data.head(),\"\\n\")\n",
    "# sample_data.describe()"
   ]
  },
  {
   "cell_type": "code",
   "execution_count": 6,
   "id": "47b6c61e",
   "metadata": {
    "_kg_hide-input": true,
    "execution": {
     "iopub.execute_input": "2023-12-15T13:15:25.335950Z",
     "iopub.status.busy": "2023-12-15T13:15:25.334698Z",
     "iopub.status.idle": "2023-12-15T13:15:25.519356Z",
     "shell.execute_reply": "2023-12-15T13:15:25.518061Z"
    },
    "papermill": {
     "duration": 0.19727,
     "end_time": "2023-12-15T13:15:25.522145",
     "exception": false,
     "start_time": "2023-12-15T13:15:25.324875",
     "status": "completed"
    },
    "tags": []
   },
   "outputs": [
    {
     "name": "stdout",
     "output_type": "stream",
     "text": [
      "(50000, 16) \n",
      "\n",
      "VendorID                    0\n",
      "tpep_pickup_datetime        0\n",
      "tpep_dropoff_datetime       0\n",
      "passenger_count          1779\n",
      "trip_distance               0\n",
      "RatecodeID               1779\n",
      "store_and_fwd_flag       1779\n",
      "PULocationID                0\n",
      "DOLocationID                0\n",
      "payment_type                0\n",
      "extra                       0\n",
      "tip_amount                  0\n",
      "tolls_amount                0\n",
      "improvement_surcharge       0\n",
      "congestion_surcharge     1779\n",
      "Airport_fee              1779\n",
      "dtype: int64 \n",
      "\n",
      "<class 'pandas.core.frame.DataFrame'>\n",
      "RangeIndex: 50000 entries, 0 to 49999\n",
      "Data columns (total 16 columns):\n",
      " #   Column                 Non-Null Count  Dtype  \n",
      "---  ------                 --------------  -----  \n",
      " 0   VendorID               50000 non-null  int64  \n",
      " 1   tpep_pickup_datetime   50000 non-null  object \n",
      " 2   tpep_dropoff_datetime  50000 non-null  object \n",
      " 3   passenger_count        48221 non-null  float64\n",
      " 4   trip_distance          50000 non-null  float64\n",
      " 5   RatecodeID             48221 non-null  float64\n",
      " 6   store_and_fwd_flag     48221 non-null  object \n",
      " 7   PULocationID           50000 non-null  int64  \n",
      " 8   DOLocationID           50000 non-null  int64  \n",
      " 9   payment_type           50000 non-null  object \n",
      " 10  extra                  50000 non-null  float64\n",
      " 11  tip_amount             50000 non-null  float64\n",
      " 12  tolls_amount           50000 non-null  float64\n",
      " 13  improvement_surcharge  50000 non-null  float64\n",
      " 14  congestion_surcharge   48221 non-null  float64\n",
      " 15  Airport_fee            48221 non-null  float64\n",
      "dtypes: float64(9), int64(3), object(4)\n",
      "memory usage: 6.1+ MB\n",
      "None \n",
      "\n",
      "   VendorID tpep_pickup_datetime tpep_dropoff_datetime  passenger_count  \\\n",
      "0         1  2023-06-29 00:21:20   2023-06-29 00:25:20              1.0   \n",
      "1         1  2023-06-30 17:44:43   2023-06-30 17:53:13              1.0   \n",
      "2         1  2023-06-29 18:17:04   2023-06-29 19:23:48              1.0   \n",
      "3         0  2023-06-30 21:33:53   2023-06-30 21:46:20              1.0   \n",
      "4         1  2023-06-29 14:53:54   2023-06-29 15:22:17              1.0   \n",
      "\n",
      "   trip_distance  RatecodeID store_and_fwd_flag  PULocationID  DOLocationID  \\\n",
      "0           4.95         1.0                  N            20             3   \n",
      "1           2.10         1.0                  N             9            81   \n",
      "2           0.95         1.0                  N            92            90   \n",
      "3           0.80         1.0                  N            19           102   \n",
      "4           4.01         1.0                  N           131           229   \n",
      "\n",
      "  payment_type  extra  tip_amount  tolls_amount  improvement_surcharge  \\\n",
      "0  Credit Card    1.0    6.067612           0.0                    1.0   \n",
      "1  Credit Card    2.5    6.191269           0.0                    1.0   \n",
      "2         Cash    2.5    3.983872           0.0                    1.0   \n",
      "3  Credit Card    3.5    6.839341           0.0                    1.0   \n",
      "4         Cash    0.0    1.468943           0.0                    1.0   \n",
      "\n",
      "   congestion_surcharge  Airport_fee  \n",
      "0                   2.5          0.0  \n",
      "1                   2.5          0.0  \n",
      "2                   2.5          0.0  \n",
      "3                   2.5          0.0  \n",
      "4                   0.0          0.0   \n",
      "\n"
     ]
    },
    {
     "data": {
      "text/html": [
       "<div>\n",
       "<style scoped>\n",
       "    .dataframe tbody tr th:only-of-type {\n",
       "        vertical-align: middle;\n",
       "    }\n",
       "\n",
       "    .dataframe tbody tr th {\n",
       "        vertical-align: top;\n",
       "    }\n",
       "\n",
       "    .dataframe thead th {\n",
       "        text-align: right;\n",
       "    }\n",
       "</style>\n",
       "<table border=\"1\" class=\"dataframe\">\n",
       "  <thead>\n",
       "    <tr style=\"text-align: right;\">\n",
       "      <th></th>\n",
       "      <th>VendorID</th>\n",
       "      <th>passenger_count</th>\n",
       "      <th>trip_distance</th>\n",
       "      <th>RatecodeID</th>\n",
       "      <th>PULocationID</th>\n",
       "      <th>DOLocationID</th>\n",
       "      <th>extra</th>\n",
       "      <th>tip_amount</th>\n",
       "      <th>tolls_amount</th>\n",
       "      <th>improvement_surcharge</th>\n",
       "      <th>congestion_surcharge</th>\n",
       "      <th>Airport_fee</th>\n",
       "    </tr>\n",
       "  </thead>\n",
       "  <tbody>\n",
       "    <tr>\n",
       "      <th>count</th>\n",
       "      <td>50000.000000</td>\n",
       "      <td>48221.000000</td>\n",
       "      <td>50000.000000</td>\n",
       "      <td>48221.000000</td>\n",
       "      <td>50000.000000</td>\n",
       "      <td>50000.000000</td>\n",
       "      <td>50000.000000</td>\n",
       "      <td>50000.000000</td>\n",
       "      <td>50000.000000</td>\n",
       "      <td>50000.000000</td>\n",
       "      <td>48221.000000</td>\n",
       "      <td>48221.000000</td>\n",
       "    </tr>\n",
       "    <tr>\n",
       "      <th>mean</th>\n",
       "      <td>0.730280</td>\n",
       "      <td>1.358309</td>\n",
       "      <td>3.999013</td>\n",
       "      <td>1.567014</td>\n",
       "      <td>132.208160</td>\n",
       "      <td>132.559300</td>\n",
       "      <td>1.918050</td>\n",
       "      <td>6.107765</td>\n",
       "      <td>0.615867</td>\n",
       "      <td>0.981354</td>\n",
       "      <td>2.255345</td>\n",
       "      <td>0.152133</td>\n",
       "    </tr>\n",
       "    <tr>\n",
       "      <th>std</th>\n",
       "      <td>0.444584</td>\n",
       "      <td>0.879948</td>\n",
       "      <td>78.958759</td>\n",
       "      <td>6.875115</td>\n",
       "      <td>76.483766</td>\n",
       "      <td>76.410602</td>\n",
       "      <td>1.938568</td>\n",
       "      <td>4.408572</td>\n",
       "      <td>2.289421</td>\n",
       "      <td>0.190203</td>\n",
       "      <td>0.803190</td>\n",
       "      <td>0.502866</td>\n",
       "    </tr>\n",
       "    <tr>\n",
       "      <th>min</th>\n",
       "      <td>0.000000</td>\n",
       "      <td>0.000000</td>\n",
       "      <td>0.000000</td>\n",
       "      <td>1.000000</td>\n",
       "      <td>1.000000</td>\n",
       "      <td>1.000000</td>\n",
       "      <td>-7.500000</td>\n",
       "      <td>0.000409</td>\n",
       "      <td>-23.000000</td>\n",
       "      <td>-1.000000</td>\n",
       "      <td>-2.500000</td>\n",
       "      <td>-1.750000</td>\n",
       "    </tr>\n",
       "    <tr>\n",
       "      <th>25%</th>\n",
       "      <td>0.000000</td>\n",
       "      <td>1.000000</td>\n",
       "      <td>1.090000</td>\n",
       "      <td>1.000000</td>\n",
       "      <td>66.000000</td>\n",
       "      <td>67.000000</td>\n",
       "      <td>0.000000</td>\n",
       "      <td>3.464018</td>\n",
       "      <td>0.000000</td>\n",
       "      <td>1.000000</td>\n",
       "      <td>2.500000</td>\n",
       "      <td>0.000000</td>\n",
       "    </tr>\n",
       "    <tr>\n",
       "      <th>50%</th>\n",
       "      <td>1.000000</td>\n",
       "      <td>1.000000</td>\n",
       "      <td>1.850000</td>\n",
       "      <td>1.000000</td>\n",
       "      <td>132.000000</td>\n",
       "      <td>133.000000</td>\n",
       "      <td>1.000000</td>\n",
       "      <td>5.271687</td>\n",
       "      <td>0.000000</td>\n",
       "      <td>1.000000</td>\n",
       "      <td>2.500000</td>\n",
       "      <td>0.000000</td>\n",
       "    </tr>\n",
       "    <tr>\n",
       "      <th>75%</th>\n",
       "      <td>1.000000</td>\n",
       "      <td>1.000000</td>\n",
       "      <td>3.600000</td>\n",
       "      <td>1.000000</td>\n",
       "      <td>199.000000</td>\n",
       "      <td>199.000000</td>\n",
       "      <td>2.500000</td>\n",
       "      <td>7.504048</td>\n",
       "      <td>0.000000</td>\n",
       "      <td>1.000000</td>\n",
       "      <td>2.500000</td>\n",
       "      <td>0.000000</td>\n",
       "    </tr>\n",
       "    <tr>\n",
       "      <th>max</th>\n",
       "      <td>2.000000</td>\n",
       "      <td>8.000000</td>\n",
       "      <td>17624.430000</td>\n",
       "      <td>99.000000</td>\n",
       "      <td>264.000000</td>\n",
       "      <td>264.000000</td>\n",
       "      <td>11.750000</td>\n",
       "      <td>96.551343</td>\n",
       "      <td>47.750000</td>\n",
       "      <td>1.000000</td>\n",
       "      <td>2.500000</td>\n",
       "      <td>1.750000</td>\n",
       "    </tr>\n",
       "  </tbody>\n",
       "</table>\n",
       "</div>"
      ],
      "text/plain": [
       "           VendorID  passenger_count  trip_distance    RatecodeID  \\\n",
       "count  50000.000000     48221.000000   50000.000000  48221.000000   \n",
       "mean       0.730280         1.358309       3.999013      1.567014   \n",
       "std        0.444584         0.879948      78.958759      6.875115   \n",
       "min        0.000000         0.000000       0.000000      1.000000   \n",
       "25%        0.000000         1.000000       1.090000      1.000000   \n",
       "50%        1.000000         1.000000       1.850000      1.000000   \n",
       "75%        1.000000         1.000000       3.600000      1.000000   \n",
       "max        2.000000         8.000000   17624.430000     99.000000   \n",
       "\n",
       "       PULocationID  DOLocationID         extra    tip_amount  tolls_amount  \\\n",
       "count  50000.000000  50000.000000  50000.000000  50000.000000  50000.000000   \n",
       "mean     132.208160    132.559300      1.918050      6.107765      0.615867   \n",
       "std       76.483766     76.410602      1.938568      4.408572      2.289421   \n",
       "min        1.000000      1.000000     -7.500000      0.000409    -23.000000   \n",
       "25%       66.000000     67.000000      0.000000      3.464018      0.000000   \n",
       "50%      132.000000    133.000000      1.000000      5.271687      0.000000   \n",
       "75%      199.000000    199.000000      2.500000      7.504048      0.000000   \n",
       "max      264.000000    264.000000     11.750000     96.551343     47.750000   \n",
       "\n",
       "       improvement_surcharge  congestion_surcharge   Airport_fee  \n",
       "count           50000.000000          48221.000000  48221.000000  \n",
       "mean                0.981354              2.255345      0.152133  \n",
       "std                 0.190203              0.803190      0.502866  \n",
       "min                -1.000000             -2.500000     -1.750000  \n",
       "25%                 1.000000              2.500000      0.000000  \n",
       "50%                 1.000000              2.500000      0.000000  \n",
       "75%                 1.000000              2.500000      0.000000  \n",
       "max                 1.000000              2.500000      1.750000  "
      ]
     },
     "execution_count": 6,
     "metadata": {},
     "output_type": "execute_result"
    }
   ],
   "source": [
    "print(test_data.shape, \"\\n\")\n",
    "print(test_data.isnull().sum(),\"\\n\")\n",
    "print(test_data.info(),\"\\n\")\n",
    "print(test_data.head(),\"\\n\")\n",
    "test_data.describe()"
   ]
  },
  {
   "cell_type": "code",
   "execution_count": 7,
   "id": "610669bd",
   "metadata": {
    "_kg_hide-input": true,
    "execution": {
     "iopub.execute_input": "2023-12-15T13:15:25.544375Z",
     "iopub.status.busy": "2023-12-15T13:15:25.543994Z",
     "iopub.status.idle": "2023-12-15T13:15:25.549834Z",
     "shell.execute_reply": "2023-12-15T13:15:25.548300Z"
    },
    "papermill": {
     "duration": 0.01973,
     "end_time": "2023-12-15T13:15:25.553170",
     "exception": false,
     "start_time": "2023-12-15T13:15:25.533440",
     "status": "completed"
    },
    "tags": []
   },
   "outputs": [],
   "source": [
    "# train_data.duplicated().value_counts()"
   ]
  },
  {
   "cell_type": "code",
   "execution_count": 8,
   "id": "d8e070b2",
   "metadata": {
    "execution": {
     "iopub.execute_input": "2023-12-15T13:15:25.581812Z",
     "iopub.status.busy": "2023-12-15T13:15:25.581189Z",
     "iopub.status.idle": "2023-12-15T13:15:26.974118Z",
     "shell.execute_reply": "2023-12-15T13:15:26.972870Z"
    },
    "papermill": {
     "duration": 1.409302,
     "end_time": "2023-12-15T13:15:26.977052",
     "exception": false,
     "start_time": "2023-12-15T13:15:25.567750",
     "status": "completed"
    },
    "tags": []
   },
   "outputs": [],
   "source": [
    "import matplotlib.pyplot as plt\n",
    "import seaborn as sns"
   ]
  },
  {
   "cell_type": "code",
   "execution_count": 9,
   "id": "931e0a1a",
   "metadata": {
    "_kg_hide-input": false,
    "execution": {
     "iopub.execute_input": "2023-12-15T13:15:26.997429Z",
     "iopub.status.busy": "2023-12-15T13:15:26.996641Z",
     "iopub.status.idle": "2023-12-15T13:15:27.001298Z",
     "shell.execute_reply": "2023-12-15T13:15:27.000495Z"
    },
    "papermill": {
     "duration": 0.017471,
     "end_time": "2023-12-15T13:15:27.003655",
     "exception": false,
     "start_time": "2023-12-15T13:15:26.986184",
     "status": "completed"
    },
    "tags": []
   },
   "outputs": [],
   "source": [
    "#Data Visualisation\n",
    "# sampled_data = train_data.sample(n=1000, random_state=42)\n",
    "# sns.pairplot(sampled_data)\n",
    "# plt.subplots_adjust(hspace = 0.5,wspace = 0.3)\n",
    "# plt.show()"
   ]
  },
  {
   "cell_type": "code",
   "execution_count": 10,
   "id": "7c4d5ae8",
   "metadata": {
    "execution": {
     "iopub.execute_input": "2023-12-15T13:15:27.024403Z",
     "iopub.status.busy": "2023-12-15T13:15:27.023246Z",
     "iopub.status.idle": "2023-12-15T13:15:27.028211Z",
     "shell.execute_reply": "2023-12-15T13:15:27.027340Z"
    },
    "papermill": {
     "duration": 0.017592,
     "end_time": "2023-12-15T13:15:27.030512",
     "exception": false,
     "start_time": "2023-12-15T13:15:27.012920",
     "status": "completed"
    },
    "tags": []
   },
   "outputs": [],
   "source": [
    "#Data Visualisation\n",
    "# train_data.hist(bins = 100, figsize=(15, 10))\n",
    "# plt.subplots_adjust(hspace = 0.5,wspace = 0.5)\n",
    "# plt.show()"
   ]
  },
  {
   "cell_type": "code",
   "execution_count": 11,
   "id": "fdd6b7d4",
   "metadata": {
    "execution": {
     "iopub.execute_input": "2023-12-15T13:15:27.050824Z",
     "iopub.status.busy": "2023-12-15T13:15:27.050026Z",
     "iopub.status.idle": "2023-12-15T13:15:54.434173Z",
     "shell.execute_reply": "2023-12-15T13:15:54.433011Z"
    },
    "papermill": {
     "duration": 27.397561,
     "end_time": "2023-12-15T13:15:54.437122",
     "exception": false,
     "start_time": "2023-12-15T13:15:27.039561",
     "status": "completed"
    },
    "tags": []
   },
   "outputs": [],
   "source": [
    "#Data Preprocessing\n",
    "from datetime import datetime\n",
    "import math\n",
    "\n",
    "ride_duration=[]\n",
    "ride_start=[]\n",
    "rode_stop=[]\n",
    "for i in range(len(train_data)):\n",
    "    ts1 = datetime.strptime(train_data.iloc[i,1], \"%Y-%m-%d %H:%M:%S\")\n",
    "    ts2 = datetime.strptime(train_data.iloc[i,2], \"%Y-%m-%d %H:%M:%S\")\n",
    "    duration = abs(ts2 - ts1)\n",
    "    ride_duration.append(duration.total_seconds())\n",
    "    ride_start.append(ts1.strftime(\"%H\"))\n",
    "    rode_stop.append(ts2.strftime(\"%H\"))\n",
    "train_data[\"ride_duration\"]=ride_duration\n",
    "train_data[\"ride_start\"]=ride_start\n",
    "train_data[\"ride_stop\"]=ride_start\n",
    "\n",
    "ride_duration=[]\n",
    "ride_start=[]\n",
    "rode_stop=[]\n",
    "for i in range(len(test_data)):\n",
    "    ts1 = datetime.strptime(test_data.iloc[i,1], \"%Y-%m-%d %H:%M:%S\")\n",
    "    ts2 = datetime.strptime(test_data.iloc[i,2], \"%Y-%m-%d %H:%M:%S\")\n",
    "    duration = abs(ts2 - ts1)\n",
    "    ride_duration.append(duration.total_seconds())\n",
    "    ride_start.append(ts1.strftime(\"%H\"))\n",
    "    rode_stop.append(ts2.strftime(\"%H\"))\n",
    "test_data[\"ride_duration\"]=ride_duration\n",
    "test_data[\"ride_start\"]=ride_start\n",
    "test_data[\"ride_stop\"]=ride_start"
   ]
  },
  {
   "cell_type": "code",
   "execution_count": 12,
   "id": "474e3719",
   "metadata": {
    "execution": {
     "iopub.execute_input": "2023-12-15T13:15:54.457024Z",
     "iopub.status.busy": "2023-12-15T13:15:54.456643Z",
     "iopub.status.idle": "2023-12-15T13:15:54.461748Z",
     "shell.execute_reply": "2023-12-15T13:15:54.460572Z"
    },
    "papermill": {
     "duration": 0.019725,
     "end_time": "2023-12-15T13:15:54.465923",
     "exception": false,
     "start_time": "2023-12-15T13:15:54.446198",
     "status": "completed"
    },
    "tags": []
   },
   "outputs": [],
   "source": [
    "#Data Visualisation\n",
    "# features = ['passenger_count','extra','tip_amount','tolls_amount','improvement_surcharge','total_amount','congestion_surcharge','Airport_fee']\n",
    "# time_feature = 'ride_duration'\n",
    "\n",
    "# melted_data = train_data.melt(id_vars=[time_feature], value_vars=features, var_name='feature', value_name='value')\n",
    "\n",
    "# plt.figure(figsize=(12, 6))\n",
    "# sns.lineplot(data=melted_data, x=time_feature, y='value', hue='feature')\n",
    "\n",
    "# plt.xlabel('Time or Continuous Variable')\n",
    "# plt.ylabel('Feature Values')\n",
    "# plt.title('Line Plot of 8 Features Over Time')\n",
    "# plt.legend(title='Features', bbox_to_anchor=(1.05, 1), loc='upper left')\n",
    "# plt.show()"
   ]
  },
  {
   "cell_type": "code",
   "execution_count": 13,
   "id": "e68b5eb8",
   "metadata": {
    "_kg_hide-input": true,
    "execution": {
     "iopub.execute_input": "2023-12-15T13:15:54.488198Z",
     "iopub.status.busy": "2023-12-15T13:15:54.487818Z",
     "iopub.status.idle": "2023-12-15T13:15:54.493101Z",
     "shell.execute_reply": "2023-12-15T13:15:54.491875Z"
    },
    "papermill": {
     "duration": 0.018575,
     "end_time": "2023-12-15T13:15:54.495964",
     "exception": false,
     "start_time": "2023-12-15T13:15:54.477389",
     "status": "completed"
    },
    "tags": []
   },
   "outputs": [],
   "source": [
    "# print(train_data.shape, \"\\n\")\n",
    "# print(train_data.isnull().sum(),\"\\n\")\n",
    "# print(train_data.info(),\"\\n\")\n",
    "# print(train_data.head(),\"\\n\")\n",
    "# train_data.describe()"
   ]
  },
  {
   "cell_type": "code",
   "execution_count": 14,
   "id": "b0d6d250",
   "metadata": {
    "execution": {
     "iopub.execute_input": "2023-12-15T13:15:54.524043Z",
     "iopub.status.busy": "2023-12-15T13:15:54.523622Z",
     "iopub.status.idle": "2023-12-15T13:15:55.005824Z",
     "shell.execute_reply": "2023-12-15T13:15:55.004526Z"
    },
    "papermill": {
     "duration": 0.499852,
     "end_time": "2023-12-15T13:15:55.008918",
     "exception": false,
     "start_time": "2023-12-15T13:15:54.509066",
     "status": "completed"
    },
    "tags": []
   },
   "outputs": [],
   "source": [
    "#Data encoding\n",
    "new_train = train_data.drop(['tpep_pickup_datetime','tpep_dropoff_datetime'], axis=1)\n",
    "new_train = pd.get_dummies(new_train,columns=['store_and_fwd_flag','payment_type'], dtype='int')\n",
    "# print(new_train.isnull().sum())\n",
    "for column in new_train.columns:\n",
    "    mode = new_train[column].mode()[0]\n",
    "    new_train[column].fillna(mode, inplace=True)\n",
    "# print(new_train.isnull().sum())\n",
    "\n",
    "new_test = test_data.drop(['tpep_pickup_datetime','tpep_dropoff_datetime'], axis=1)\n",
    "encoded_test = pd.get_dummies(new_test,columns=['store_and_fwd_flag','payment_type'], dtype='int')\n",
    "# print(encoded_test.isnull().sum())\n",
    "for column in encoded_test.columns:\n",
    "    mode = encoded_test[column].mode()[0]\n",
    "    encoded_test[column].fillna(mode, inplace=True)\n",
    "# print(encoded_test.isnull().sum())\n",
    "\n",
    "X_train = new_train.drop(['total_amount'], axis=1)\n",
    "y_train = new_train['total_amount']\n",
    "# print(X_train.head())\n",
    "# print(y_train.head())"
   ]
  },
  {
   "cell_type": "code",
   "execution_count": 15,
   "id": "52e17592",
   "metadata": {
    "execution": {
     "iopub.execute_input": "2023-12-15T13:15:55.028946Z",
     "iopub.status.busy": "2023-12-15T13:15:55.028531Z",
     "iopub.status.idle": "2023-12-15T13:15:55.404538Z",
     "shell.execute_reply": "2023-12-15T13:15:55.403168Z"
    },
    "papermill": {
     "duration": 0.389529,
     "end_time": "2023-12-15T13:15:55.407395",
     "exception": false,
     "start_time": "2023-12-15T13:15:55.017866",
     "status": "completed"
    },
    "tags": []
   },
   "outputs": [],
   "source": [
    "from sklearn.model_selection import GridSearchCV, train_test_split\n",
    "from sklearn.linear_model import Ridge\n",
    "from sklearn.metrics import mean_squared_error\n",
    "\n",
    "# X_train, X_test, y_train, y_test = train_test_split(X_train, y_train, test_size=0.2, random_state=42)\n",
    "\n",
    "# ridge_model = Ridge()\n",
    "\n",
    "# alphas = np.logspace(-3, 3, 10)\n",
    "\n",
    "# param_grid = {'alpha': alphas}\n",
    "# grid_search = GridSearchCV(ridge_model, param_grid, cv=5, scoring='neg_mean_squared_error')\n",
    "# grid_search.fit(X_train, y_train)\n",
    "\n",
    "# best_alpha = grid_search.best_params_['alpha']\n",
    "# final_model = Ridge(alpha=best_alpha)\n",
    "# final_model.fit(X_train, y_train)\n",
    "\n",
    "# y_pred = final_model.predict(X_test)\n",
    "# mse = mean_squared_error(y_test, y_pred)\n",
    "# rmse = np.sqrt(mse)\n",
    "# print(\"Best Alpha: \", best_alpha)\n",
    "# print(\"Test set MSE:\", mse)\n",
    "# print(\"Test Set RMSE: \", rmse)\n",
    "\n",
    "# val_pred = final_model.predict(encoded_test)\n",
    "\n",
    "#cv = 3, np.logspace(-6, 6, 13)\n",
    "# Best Alpha:  1e-06\n",
    "# Test set MSE: 180.00165780792867\n",
    "# Test Set RMSE:  13.416469647710185\n",
    "\n",
    "#cv = 3, np.logspace(-6, 6, 20)\n",
    "# Best Alpha:  1e-06\n",
    "# Test set MSE: 180.00165780792867\n",
    "# Test Set RMSE:  13.416469647710185\n",
    "\n",
    "#cv = 3, np.logspace(-3, 3, 10)\n",
    "# Best Alpha:  0.001\n",
    "# Test set MSE: 180.00165780594605\n",
    "# Test Set RMSE:  13.416469647636298\n",
    "\n",
    "#cv = 5, np.logspace(-6, 6, 13)\n",
    "# Best Alpha:  10.0\n",
    "# Test set MSE: 180.00180916012653\n",
    "# Test Set RMSE:  13.416475288246408\n",
    "\n",
    "#cv = 5, np.logspace(-6, 6, 20)\n",
    "# Best Alpha:  8.858667904100814\n",
    "# Test set MSE: 180.00177471236896\n",
    "# Test Set RMSE:  13.416474004460671\n",
    "\n",
    "#cv = 5, np.logspace(-3, 3, 10)\n",
    "# Best Alpha:  10.0\n",
    "# Test set MSE: 180.00180916012653\n",
    "# Test Set RMSE:  13.416475288246408"
   ]
  },
  {
   "cell_type": "code",
   "execution_count": 16,
   "id": "b752996d",
   "metadata": {
    "execution": {
     "iopub.execute_input": "2023-12-15T13:15:55.427897Z",
     "iopub.status.busy": "2023-12-15T13:15:55.427188Z",
     "iopub.status.idle": "2023-12-15T13:15:55.433434Z",
     "shell.execute_reply": "2023-12-15T13:15:55.431987Z"
    },
    "papermill": {
     "duration": 0.019455,
     "end_time": "2023-12-15T13:15:55.436073",
     "exception": false,
     "start_time": "2023-12-15T13:15:55.416618",
     "status": "completed"
    },
    "tags": []
   },
   "outputs": [],
   "source": [
    "# from sklearn.model_selection import RandomizedSearchCV\n",
    "# from scipy.stats import uniform\n",
    "\n",
    "# X_train, X_test, y_train, y_test = train_test_split(X_train, y_train, test_size=0.2, random_state=42)\n",
    "\n",
    "# param_dist = {'alpha': uniform(0, 1)} \n",
    "# randomized_search = RandomizedSearchCV(Ridge(), param_distributions=param_dist, n_iter=10, cv=3, scoring='neg_mean_squared_error')\n",
    "# randomized_search.fit(X_train, y_train)\n",
    "\n",
    "# mse = mean_squared_error(y_test, y_pred)\n",
    "# rmse = np.sqrt(mse)\n",
    "# print(\"Test set MSE:\", mse)\n",
    "# print(\"Test Set RMSE: \", rmse)\n",
    "\n",
    "# val_pred = randomized_search.predict(encoded_test)\n",
    "\n",
    "#cv=5\n",
    "# Test set MSE: 180.00180916012653\n",
    "# Test Set RMSE:  13.416475288246408\n",
    "\n",
    "#cv=3\n",
    "# Test set MSE: 180.00180916012653\n",
    "# Test Set RMSE:  13.416475288246408"
   ]
  },
  {
   "cell_type": "code",
   "execution_count": 17,
   "id": "aa394279",
   "metadata": {
    "execution": {
     "iopub.execute_input": "2023-12-15T13:15:55.458340Z",
     "iopub.status.busy": "2023-12-15T13:15:55.457920Z",
     "iopub.status.idle": "2023-12-15T13:15:55.611124Z",
     "shell.execute_reply": "2023-12-15T13:15:55.609222Z"
    },
    "papermill": {
     "duration": 0.167925,
     "end_time": "2023-12-15T13:15:55.614346",
     "exception": false,
     "start_time": "2023-12-15T13:15:55.446421",
     "status": "completed"
    },
    "tags": []
   },
   "outputs": [],
   "source": [
    "from sklearn.model_selection import train_test_split\n",
    "from sklearn.neighbors import KNeighborsRegressor\n",
    "from sklearn.metrics import mean_squared_error\n",
    "\n",
    "# X_train, X_test, y_train, y_test = train_test_split(X_train, y_train, test_size=0.2, random_state=42)\n",
    "\n",
    "# knn_model = KNeighborsRegressor(n_neighbors=5)\n",
    "# knn_model.fit(X_train, y_train)\n",
    "# y_pred = knn_model.predict(X_test)\n",
    "\n",
    "# mse = mean_squared_error(y_test, y_pred)\n",
    "# rmse = np.sqrt(mse)\n",
    "# print(f\"Root Mean Squared Error (RMSE): {rmse}\")\n",
    "\n",
    "#It gave RMSE more than GridSearchCV & RandomizedSearchCV\n",
    "#Root Mean Squared Error (RMSE): 22.09756985877471"
   ]
  },
  {
   "cell_type": "code",
   "execution_count": 18,
   "id": "71f86349",
   "metadata": {
    "execution": {
     "iopub.execute_input": "2023-12-15T13:15:55.634315Z",
     "iopub.status.busy": "2023-12-15T13:15:55.633925Z",
     "iopub.status.idle": "2023-12-15T13:26:57.813885Z",
     "shell.execute_reply": "2023-12-15T13:26:57.812710Z"
    },
    "papermill": {
     "duration": 662.19408,
     "end_time": "2023-12-15T13:26:57.817442",
     "exception": false,
     "start_time": "2023-12-15T13:15:55.623362",
     "status": "completed"
    },
    "tags": []
   },
   "outputs": [],
   "source": [
    "from sklearn.model_selection import train_test_split\n",
    "from sklearn.model_selection import GridSearchCV\n",
    "from sklearn.neighbors import KNeighborsRegressor\n",
    "from sklearn.metrics import r2_score\n",
    "\n",
    "# X_train, X_test, y_train, y_test = train_test_split(X_train, y_train, test_size=0.2, random_state=42)\n",
    "\n",
    "param_grid = {'n_neighbors': [3, 5, 7, 9, 11], 'weights': ['uniform', 'distance']}\n",
    "\n",
    "knn_model = KNeighborsRegressor()\n",
    "grid_search = GridSearchCV(knn_model, param_grid, cv=5, scoring='neg_mean_squared_error')\n",
    "\n",
    "grid_search.fit(X_train, y_train)\n",
    "\n",
    "best_params = grid_search.best_params_\n",
    "# print(best_params)\n",
    "\n",
    "best_knn_model = KNeighborsRegressor(n_neighbors=best_params['n_neighbors'], weights=best_params['weights'])\n",
    "best_knn_model.fit(X_train, y_train)\n",
    "val_predictions = best_knn_model.predict(encoded_test)\n",
    "\n",
    "# r2 = r2_score(y_test, y_pred)\n",
    "# print(\"Mean Squared Error on Test Set:\", r2)\n",
    "\n",
    "#Mean Squared Error on Test Set: 0.27565711744944354"
   ]
  },
  {
   "cell_type": "code",
   "execution_count": 19,
   "id": "db0a3e4f",
   "metadata": {
    "execution": {
     "iopub.execute_input": "2023-12-15T13:26:57.838691Z",
     "iopub.status.busy": "2023-12-15T13:26:57.838273Z",
     "iopub.status.idle": "2023-12-15T13:26:57.843323Z",
     "shell.execute_reply": "2023-12-15T13:26:57.842446Z"
    },
    "papermill": {
     "duration": 0.018515,
     "end_time": "2023-12-15T13:26:57.845927",
     "exception": false,
     "start_time": "2023-12-15T13:26:57.827412",
     "status": "completed"
    },
    "tags": []
   },
   "outputs": [],
   "source": [
    "from sklearn import svm\n",
    "from sklearn.model_selection import train_test_split\n",
    "\n",
    "# X_train, X_test, y_train, y_test = train_test_split(X_train, y_train, test_size=0.2, random_state=42)\n",
    "\n",
    "# parameters = {'kernel':('linear', 'rbf'), 'C':[1, 10]}\n",
    "# svr = svm.SVR()\n",
    "# clf = GridSearchCV(svr, parameters)\n",
    "# clf.fit(pca_df, y_train)\n",
    "# y_pred_svr=clf.predict(X_test)\n",
    "# r2 = r2_score(y_test, y_pred_svr)\n",
    "\n",
    "# print(\"Mean Squared Error on Test Set:\", r2)"
   ]
  },
  {
   "cell_type": "code",
   "execution_count": 20,
   "id": "97f0f72e",
   "metadata": {
    "execution": {
     "iopub.execute_input": "2023-12-15T13:26:57.866450Z",
     "iopub.status.busy": "2023-12-15T13:26:57.866035Z",
     "iopub.status.idle": "2023-12-15T13:26:57.871114Z",
     "shell.execute_reply": "2023-12-15T13:26:57.869903Z"
    },
    "papermill": {
     "duration": 0.01796,
     "end_time": "2023-12-15T13:26:57.873607",
     "exception": false,
     "start_time": "2023-12-15T13:26:57.855647",
     "status": "completed"
    },
    "tags": []
   },
   "outputs": [],
   "source": [
    "# from sklearn.pipeline import make_pipeline\n",
    "# from sklearn.preprocessing import PolynomialFeatures\n",
    "# from sklearn.linear_model import LinearRegression\n",
    "\n",
    "# model = make_pipeline(PolynomialFeatures(2), LinearRegression())\n",
    "# model.fit(X_train, y_train)\n",
    "# val_predictions = model.predict(encoded_test)"
   ]
  },
  {
   "cell_type": "code",
   "execution_count": 21,
   "id": "cbb1445d",
   "metadata": {
    "execution": {
     "iopub.execute_input": "2023-12-15T13:26:57.893779Z",
     "iopub.status.busy": "2023-12-15T13:26:57.893314Z",
     "iopub.status.idle": "2023-12-15T13:26:57.898079Z",
     "shell.execute_reply": "2023-12-15T13:26:57.896901Z"
    },
    "papermill": {
     "duration": 0.017604,
     "end_time": "2023-12-15T13:26:57.900396",
     "exception": false,
     "start_time": "2023-12-15T13:26:57.882792",
     "status": "completed"
    },
    "tags": []
   },
   "outputs": [],
   "source": [
    "# from sklearn.ensemble import RandomForestRegressor\n",
    "\n",
    "# model = RandomForestRegressor()\n",
    "# model.fit(X_train, y_train)\n",
    "# pred = model.predict(encoded_test)"
   ]
  },
  {
   "cell_type": "code",
   "execution_count": 22,
   "id": "a5b3fe0d",
   "metadata": {
    "execution": {
     "iopub.execute_input": "2023-12-15T13:26:57.920807Z",
     "iopub.status.busy": "2023-12-15T13:26:57.920317Z",
     "iopub.status.idle": "2023-12-15T13:26:57.972814Z",
     "shell.execute_reply": "2023-12-15T13:26:57.971720Z"
    },
    "papermill": {
     "duration": 0.066047,
     "end_time": "2023-12-15T13:26:57.975651",
     "exception": false,
     "start_time": "2023-12-15T13:26:57.909604",
     "status": "completed"
    },
    "tags": []
   },
   "outputs": [],
   "source": [
    "from sklearn.tree import DecisionTreeRegressor\n",
    "\n",
    "# model = DecisionTreeRegressor()\n",
    "# model.fit(X_train, y_train)\n",
    "# val_predictions = model.predict(encoded_test)"
   ]
  },
  {
   "cell_type": "code",
   "execution_count": 23,
   "id": "872afa98",
   "metadata": {
    "execution": {
     "iopub.execute_input": "2023-12-15T13:26:57.995416Z",
     "iopub.status.busy": "2023-12-15T13:26:57.995007Z",
     "iopub.status.idle": "2023-12-15T13:26:58.260756Z",
     "shell.execute_reply": "2023-12-15T13:26:58.259529Z"
    },
    "papermill": {
     "duration": 0.2789,
     "end_time": "2023-12-15T13:26:58.263584",
     "exception": false,
     "start_time": "2023-12-15T13:26:57.984684",
     "status": "completed"
    },
    "tags": []
   },
   "outputs": [],
   "source": [
    "submission = pd.DataFrame(columns = [\"ID\",\"total_amount\"])\n",
    "submission[\"ID\"] = [i for i in range(1,len(val_predictions)+1)]\n",
    "submission[\"total_amount\"] = val_predictions\n",
    "submission.to_csv('submission.csv',index=False)"
   ]
  }
 ],
 "metadata": {
  "kaggle": {
   "accelerator": "none",
   "dataSources": [
    {
     "databundleVersionId": 6604167,
     "sourceId": 61246,
     "sourceType": "competition"
    }
   ],
   "dockerImageVersionId": 30558,
   "isGpuEnabled": false,
   "isInternetEnabled": true,
   "language": "python",
   "sourceType": "notebook"
  },
  "kernelspec": {
   "display_name": "Python 3",
   "language": "python",
   "name": "python3"
  },
  "language_info": {
   "codemirror_mode": {
    "name": "ipython",
    "version": 3
   },
   "file_extension": ".py",
   "mimetype": "text/x-python",
   "name": "python",
   "nbconvert_exporter": "python",
   "pygments_lexer": "ipython3",
   "version": "3.10.12"
  },
  "papermill": {
   "default_parameters": {},
   "duration": 700.820923,
   "end_time": "2023-12-15T13:26:59.097661",
   "environment_variables": {},
   "exception": null,
   "input_path": "__notebook__.ipynb",
   "output_path": "__notebook__.ipynb",
   "parameters": {},
   "start_time": "2023-12-15T13:15:18.276738",
   "version": "2.4.0"
  }
 },
 "nbformat": 4,
 "nbformat_minor": 5
}
