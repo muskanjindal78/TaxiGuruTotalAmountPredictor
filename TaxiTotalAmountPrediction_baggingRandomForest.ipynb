{
 "cells": [
  {
   "cell_type": "code",
   "execution_count": 1,
   "id": "55ab345b",
   "metadata": {
    "_cell_guid": "b1076dfc-b9ad-4769-8c92-a6c4dae69d19",
    "_uuid": "8f2839f25d086af736a60e9eeb907d3b93b6e0e5",
    "execution": {
     "iopub.execute_input": "2023-12-04T07:41:57.106582Z",
     "iopub.status.busy": "2023-12-04T07:41:57.106202Z",
     "iopub.status.idle": "2023-12-04T07:41:57.918020Z",
     "shell.execute_reply": "2023-12-04T07:41:57.916426Z"
    },
    "papermill": {
     "duration": 0.822966,
     "end_time": "2023-12-04T07:41:57.920383",
     "exception": false,
     "start_time": "2023-12-04T07:41:57.097417",
     "status": "completed"
    },
    "tags": []
   },
   "outputs": [
    {
     "name": "stdout",
     "output_type": "stream",
     "text": [
      "/kaggle/input/taxi-fare-guru-total-amount-prediction-challenge/sample.csv.csv\n",
      "/kaggle/input/taxi-fare-guru-total-amount-prediction-challenge/train.csv\n",
      "/kaggle/input/taxi-fare-guru-total-amount-prediction-challenge/test.csv\n"
     ]
    }
   ],
   "source": [
    "# This Python 3 environment comes with many helpful analytics libraries installed\n",
    "# It is defined by the kaggle/python Docker image: https://github.com/kaggle/docker-python\n",
    "# For example, here's several helpful packages to load\n",
    "\n",
    "import numpy as np # linear algebra\n",
    "import pandas as pd # data processing, CSV file I/O (e.g. pd.read_csv)\n",
    "\n",
    "# Input data files are available in the read-only \"../input/\" directory\n",
    "# For example, running this (by clicking run or pressing Shift+Enter) will list all files under the input directory\n",
    "\n",
    "import os\n",
    "for dirname, _, filenames in os.walk('/kaggle/input'):\n",
    "    for filename in filenames:\n",
    "        print(os.path.join(dirname, filename))\n",
    "\n",
    "# You can write up to 20GB to the current directory (/kaggle/working/) that gets preserved as output when you create a version using \"Save & Run All\" \n",
    "# You can also write temporary files to /kaggle/temp/, but they won't be saved outside of the current session"
   ]
  },
  {
   "cell_type": "code",
   "execution_count": 2,
   "id": "763bba0e",
   "metadata": {
    "execution": {
     "iopub.execute_input": "2023-12-04T07:41:57.935327Z",
     "iopub.status.busy": "2023-12-04T07:41:57.934807Z",
     "iopub.status.idle": "2023-12-04T07:41:58.209113Z",
     "shell.execute_reply": "2023-12-04T07:41:58.208217Z"
    },
    "papermill": {
     "duration": 0.284481,
     "end_time": "2023-12-04T07:41:58.211464",
     "exception": false,
     "start_time": "2023-12-04T07:41:57.926983",
     "status": "completed"
    },
    "tags": []
   },
   "outputs": [],
   "source": [
    "import warnings\n",
    "import scipy.linalg\n",
    "\n",
    "np.set_printoptions(precision=6)\n",
    "np.seterr(all='warn')\n",
    "warnings.filterwarnings(\"ignore\", category=scipy.linalg.LinAlgWarning)"
   ]
  },
  {
   "cell_type": "code",
   "execution_count": 3,
   "id": "9dced65e",
   "metadata": {
    "execution": {
     "iopub.execute_input": "2023-12-04T07:41:58.226298Z",
     "iopub.status.busy": "2023-12-04T07:41:58.225638Z",
     "iopub.status.idle": "2023-12-04T07:41:59.186916Z",
     "shell.execute_reply": "2023-12-04T07:41:59.185193Z"
    },
    "papermill": {
     "duration": 0.972205,
     "end_time": "2023-12-04T07:41:59.190143",
     "exception": false,
     "start_time": "2023-12-04T07:41:58.217938",
     "status": "completed"
    },
    "tags": []
   },
   "outputs": [],
   "source": [
    "sample_data = pd.read_csv(\"/kaggle/input/taxi-fare-guru-total-amount-prediction-challenge/sample.csv.csv\")\n",
    "train_data = pd.read_csv(\"/kaggle/input/taxi-fare-guru-total-amount-prediction-challenge/train.csv\")\n",
    "test_data = pd.read_csv(\"/kaggle/input/taxi-fare-guru-total-amount-prediction-challenge/test.csv\")"
   ]
  },
  {
   "cell_type": "code",
   "execution_count": 4,
   "id": "425101e1",
   "metadata": {
    "_kg_hide-input": true,
    "execution": {
     "iopub.execute_input": "2023-12-04T07:41:59.208805Z",
     "iopub.status.busy": "2023-12-04T07:41:59.207656Z",
     "iopub.status.idle": "2023-12-04T07:41:59.215010Z",
     "shell.execute_reply": "2023-12-04T07:41:59.213759Z"
    },
    "papermill": {
     "duration": 0.018463,
     "end_time": "2023-12-04T07:41:59.217663",
     "exception": false,
     "start_time": "2023-12-04T07:41:59.199200",
     "status": "completed"
    },
    "tags": []
   },
   "outputs": [],
   "source": [
    "# print(train_data.shape, \"\\n\")\n",
    "# print(train_data.isnull().sum(),\"\\n\")\n",
    "# print(train_data.info(),\"\\n\")\n",
    "# print(train_data.head(),\"\\n\")\n",
    "# train_data.describe()"
   ]
  },
  {
   "cell_type": "code",
   "execution_count": 5,
   "id": "1f486d28",
   "metadata": {
    "_kg_hide-input": true,
    "execution": {
     "iopub.execute_input": "2023-12-04T07:41:59.233389Z",
     "iopub.status.busy": "2023-12-04T07:41:59.232994Z",
     "iopub.status.idle": "2023-12-04T07:41:59.237776Z",
     "shell.execute_reply": "2023-12-04T07:41:59.236584Z"
    },
    "papermill": {
     "duration": 0.014674,
     "end_time": "2023-12-04T07:41:59.239893",
     "exception": false,
     "start_time": "2023-12-04T07:41:59.225219",
     "status": "completed"
    },
    "tags": []
   },
   "outputs": [],
   "source": [
    "# print(sample_data.shape, \"\\n\")\n",
    "# print(sample_data.isnull().sum(),\"\\n\")\n",
    "# print(sample_data.info(),\"\\n\")\n",
    "# print(sample_data.head(),\"\\n\")\n",
    "# sample_data.describe()"
   ]
  },
  {
   "cell_type": "code",
   "execution_count": 6,
   "id": "2e00a797",
   "metadata": {
    "_kg_hide-input": true,
    "execution": {
     "iopub.execute_input": "2023-12-04T07:41:59.254244Z",
     "iopub.status.busy": "2023-12-04T07:41:59.253887Z",
     "iopub.status.idle": "2023-12-04T07:41:59.258689Z",
     "shell.execute_reply": "2023-12-04T07:41:59.257477Z"
    },
    "papermill": {
     "duration": 0.014515,
     "end_time": "2023-12-04T07:41:59.260798",
     "exception": false,
     "start_time": "2023-12-04T07:41:59.246283",
     "status": "completed"
    },
    "tags": []
   },
   "outputs": [],
   "source": [
    "# print(test_data.shape, \"\\n\")\n",
    "# print(test_data.isnull().sum(),\"\\n\")\n",
    "# print(test_data.info(),\"\\n\")\n",
    "# print(test_data.head(),\"\\n\")\n",
    "# test_data.describe()"
   ]
  },
  {
   "cell_type": "code",
   "execution_count": 7,
   "id": "877bb7e9",
   "metadata": {
    "_kg_hide-input": true,
    "execution": {
     "iopub.execute_input": "2023-12-04T07:41:59.275229Z",
     "iopub.status.busy": "2023-12-04T07:41:59.274861Z",
     "iopub.status.idle": "2023-12-04T07:41:59.279841Z",
     "shell.execute_reply": "2023-12-04T07:41:59.278571Z"
    },
    "papermill": {
     "duration": 0.014992,
     "end_time": "2023-12-04T07:41:59.282194",
     "exception": false,
     "start_time": "2023-12-04T07:41:59.267202",
     "status": "completed"
    },
    "tags": []
   },
   "outputs": [],
   "source": [
    "# train_data.duplicated().value_counts()"
   ]
  },
  {
   "cell_type": "code",
   "execution_count": 8,
   "id": "db32ef57",
   "metadata": {
    "execution": {
     "iopub.execute_input": "2023-12-04T07:41:59.296840Z",
     "iopub.status.busy": "2023-12-04T07:41:59.296419Z",
     "iopub.status.idle": "2023-12-04T07:42:00.509574Z",
     "shell.execute_reply": "2023-12-04T07:42:00.508522Z"
    },
    "papermill": {
     "duration": 1.223668,
     "end_time": "2023-12-04T07:42:00.512348",
     "exception": false,
     "start_time": "2023-12-04T07:41:59.288680",
     "status": "completed"
    },
    "tags": []
   },
   "outputs": [],
   "source": [
    "import matplotlib.pyplot as plt\n",
    "import seaborn as sns"
   ]
  },
  {
   "cell_type": "code",
   "execution_count": 9,
   "id": "8b072ae5",
   "metadata": {
    "_kg_hide-input": false,
    "execution": {
     "iopub.execute_input": "2023-12-04T07:42:00.527034Z",
     "iopub.status.busy": "2023-12-04T07:42:00.526606Z",
     "iopub.status.idle": "2023-12-04T07:42:00.531402Z",
     "shell.execute_reply": "2023-12-04T07:42:00.530681Z"
    },
    "papermill": {
     "duration": 0.014425,
     "end_time": "2023-12-04T07:42:00.533346",
     "exception": false,
     "start_time": "2023-12-04T07:42:00.518921",
     "status": "completed"
    },
    "tags": []
   },
   "outputs": [],
   "source": [
    "#Data Visualisation\n",
    "# sampled_data = train_data.sample(n=1000, random_state=42)\n",
    "# sns.pairplot(sampled_data)\n",
    "# plt.subplots_adjust(hspace = 0.5,wspace = 0.3)\n",
    "# plt.show()"
   ]
  },
  {
   "cell_type": "code",
   "execution_count": 10,
   "id": "81a02e13",
   "metadata": {
    "execution": {
     "iopub.execute_input": "2023-12-04T07:42:00.548312Z",
     "iopub.status.busy": "2023-12-04T07:42:00.547286Z",
     "iopub.status.idle": "2023-12-04T07:42:00.552243Z",
     "shell.execute_reply": "2023-12-04T07:42:00.551316Z"
    },
    "papermill": {
     "duration": 0.014418,
     "end_time": "2023-12-04T07:42:00.554254",
     "exception": false,
     "start_time": "2023-12-04T07:42:00.539836",
     "status": "completed"
    },
    "tags": []
   },
   "outputs": [],
   "source": [
    "#Data Visualisation\n",
    "# train_data.hist(bins = 100, figsize=(15, 10))\n",
    "# plt.subplots_adjust(hspace = 0.5,wspace = 0.5)\n",
    "# plt.show()"
   ]
  },
  {
   "cell_type": "code",
   "execution_count": 11,
   "id": "4c141c23",
   "metadata": {
    "execution": {
     "iopub.execute_input": "2023-12-04T07:42:00.568541Z",
     "iopub.status.busy": "2023-12-04T07:42:00.568166Z",
     "iopub.status.idle": "2023-12-04T07:42:23.843322Z",
     "shell.execute_reply": "2023-12-04T07:42:23.842246Z"
    },
    "papermill": {
     "duration": 23.285456,
     "end_time": "2023-12-04T07:42:23.845998",
     "exception": false,
     "start_time": "2023-12-04T07:42:00.560542",
     "status": "completed"
    },
    "tags": []
   },
   "outputs": [],
   "source": [
    "#Data Preprocessing\n",
    "from datetime import datetime\n",
    "import math\n",
    "\n",
    "ride_duration=[]\n",
    "ride_start=[]\n",
    "rode_stop=[]\n",
    "for i in range(len(train_data)):\n",
    "    ts1 = datetime.strptime(train_data.iloc[i,1], \"%Y-%m-%d %H:%M:%S\")\n",
    "    ts2 = datetime.strptime(train_data.iloc[i,2], \"%Y-%m-%d %H:%M:%S\")\n",
    "    duration = abs(ts2 - ts1)\n",
    "    ride_duration.append(duration.total_seconds())\n",
    "    ride_start.append(ts1.strftime(\"%H\"))\n",
    "    rode_stop.append(ts2.strftime(\"%H\"))\n",
    "train_data[\"ride_duration\"]=ride_duration\n",
    "train_data[\"ride_start\"]=ride_start\n",
    "train_data[\"ride_stop\"]=ride_start\n",
    "\n",
    "ride_duration=[]\n",
    "ride_start=[]\n",
    "rode_stop=[]\n",
    "for i in range(len(test_data)):\n",
    "    ts1 = datetime.strptime(test_data.iloc[i,1], \"%Y-%m-%d %H:%M:%S\")\n",
    "    ts2 = datetime.strptime(test_data.iloc[i,2], \"%Y-%m-%d %H:%M:%S\")\n",
    "    duration = abs(ts2 - ts1)\n",
    "    ride_duration.append(duration.total_seconds())\n",
    "    ride_start.append(ts1.strftime(\"%H\"))\n",
    "    rode_stop.append(ts2.strftime(\"%H\"))\n",
    "test_data[\"ride_duration\"]=ride_duration\n",
    "test_data[\"ride_start\"]=ride_start\n",
    "test_data[\"ride_stop\"]=ride_start"
   ]
  },
  {
   "cell_type": "code",
   "execution_count": 12,
   "id": "22e2139a",
   "metadata": {
    "_kg_hide-input": true,
    "execution": {
     "iopub.execute_input": "2023-12-04T07:42:23.860246Z",
     "iopub.status.busy": "2023-12-04T07:42:23.859883Z",
     "iopub.status.idle": "2023-12-04T07:42:23.864517Z",
     "shell.execute_reply": "2023-12-04T07:42:23.863407Z"
    },
    "papermill": {
     "duration": 0.01451,
     "end_time": "2023-12-04T07:42:23.866895",
     "exception": false,
     "start_time": "2023-12-04T07:42:23.852385",
     "status": "completed"
    },
    "tags": []
   },
   "outputs": [],
   "source": [
    "# print(train_data.shape, \"\\n\")\n",
    "# print(train_data.isnull().sum(),\"\\n\")\n",
    "# print(train_data.info(),\"\\n\")\n",
    "# print(train_data.head(),\"\\n\")\n",
    "# train_data.describe()"
   ]
  },
  {
   "cell_type": "code",
   "execution_count": 13,
   "id": "76ee783f",
   "metadata": {
    "execution": {
     "iopub.execute_input": "2023-12-04T07:42:23.893089Z",
     "iopub.status.busy": "2023-12-04T07:42:23.892643Z",
     "iopub.status.idle": "2023-12-04T07:42:23.897444Z",
     "shell.execute_reply": "2023-12-04T07:42:23.896375Z"
    },
    "papermill": {
     "duration": 0.026361,
     "end_time": "2023-12-04T07:42:23.899591",
     "exception": false,
     "start_time": "2023-12-04T07:42:23.873230",
     "status": "completed"
    },
    "tags": []
   },
   "outputs": [],
   "source": [
    "#Data Visualisation\n",
    "# features = ['passenger_count','extra','tip_amount','tolls_amount','improvement_surcharge','total_amount','congestion_surcharge','Airport_fee']\n",
    "# time_feature = 'ride_duration'\n",
    "\n",
    "# melted_data = train_data.melt(id_vars=[time_feature], value_vars=features, var_name='feature', value_name='value')\n",
    "\n",
    "# plt.figure(figsize=(12, 6))\n",
    "# sns.lineplot(data=melted_data, x=time_feature, y='value', hue='feature')\n",
    "\n",
    "# plt.xlabel('Time or Continuous Variable')\n",
    "# plt.ylabel('Feature Values')\n",
    "# plt.title('Line Plot of 8 Features Over Time')\n",
    "# plt.legend(title='Features', bbox_to_anchor=(1.05, 1), loc='upper left')\n",
    "# plt.show()"
   ]
  },
  {
   "cell_type": "code",
   "execution_count": 14,
   "id": "2dcab197",
   "metadata": {
    "execution": {
     "iopub.execute_input": "2023-12-04T07:42:23.914152Z",
     "iopub.status.busy": "2023-12-04T07:42:23.913784Z",
     "iopub.status.idle": "2023-12-04T07:42:24.296953Z",
     "shell.execute_reply": "2023-12-04T07:42:24.295804Z"
    },
    "papermill": {
     "duration": 0.393448,
     "end_time": "2023-12-04T07:42:24.299503",
     "exception": false,
     "start_time": "2023-12-04T07:42:23.906055",
     "status": "completed"
    },
    "tags": []
   },
   "outputs": [],
   "source": [
    "#Data encoding\n",
    "new_train = train_data.drop(['tpep_pickup_datetime','tpep_dropoff_datetime'], axis=1)\n",
    "new_train = pd.get_dummies(new_train,columns=['store_and_fwd_flag','payment_type'], dtype='int')\n",
    "# print(new_train.isnull().sum())\n",
    "for column in new_train.columns:\n",
    "    mode = new_train[column].mode()[0]\n",
    "    new_train[column].fillna(mode, inplace=True)\n",
    "# print(new_train.isnull().sum())\n",
    "\n",
    "new_test = test_data.drop(['tpep_pickup_datetime','tpep_dropoff_datetime'], axis=1)\n",
    "encoded_test = pd.get_dummies(new_test,columns=['store_and_fwd_flag','payment_type'], dtype='int')\n",
    "# print(encoded_test.isnull().sum())\n",
    "for column in encoded_test.columns:\n",
    "    mode = encoded_test[column].mode()[0]\n",
    "    encoded_test[column].fillna(mode, inplace=True)\n",
    "# print(encoded_test.isnull().sum())\n",
    "\n",
    "X_train = new_train.drop(['total_amount'], axis=1)\n",
    "y_train = new_train['total_amount']\n",
    "# print(X_train.head())\n",
    "# print(y_train.head())"
   ]
  },
  {
   "cell_type": "code",
   "execution_count": 15,
   "id": "f64bc04f",
   "metadata": {
    "execution": {
     "iopub.execute_input": "2023-12-04T07:42:24.314072Z",
     "iopub.status.busy": "2023-12-04T07:42:24.313691Z",
     "iopub.status.idle": "2023-12-04T07:42:24.671655Z",
     "shell.execute_reply": "2023-12-04T07:42:24.670599Z"
    },
    "papermill": {
     "duration": 0.368328,
     "end_time": "2023-12-04T07:42:24.674228",
     "exception": false,
     "start_time": "2023-12-04T07:42:24.305900",
     "status": "completed"
    },
    "tags": []
   },
   "outputs": [],
   "source": [
    "from sklearn.model_selection import GridSearchCV, train_test_split\n",
    "from sklearn.linear_model import Ridge\n",
    "from sklearn.metrics import mean_squared_error\n",
    "\n",
    "# X_train, X_test, y_train, y_test = train_test_split(X_train, y_train, test_size=0.2, random_state=42)\n",
    "\n",
    "# ridge_model = Ridge()\n",
    "\n",
    "# alphas = np.logspace(-3, 3, 10)\n",
    "\n",
    "# param_grid = {'alpha': alphas}\n",
    "# grid_search = GridSearchCV(ridge_model, param_grid, cv=5, scoring='neg_mean_squared_error')\n",
    "# grid_search.fit(X_train, y_train)\n",
    "\n",
    "# best_alpha = grid_search.best_params_['alpha']\n",
    "# final_model = Ridge(alpha=best_alpha)\n",
    "# final_model.fit(X_train, y_train)\n",
    "\n",
    "# y_pred = final_model.predict(X_test)\n",
    "# mse = mean_squared_error(y_test, y_pred)\n",
    "# rmse = np.sqrt(mse)\n",
    "# print(\"Best Alpha: \", best_alpha)\n",
    "# print(\"Test set MSE:\", mse)\n",
    "# print(\"Test Set RMSE: \", rmse)\n",
    "\n",
    "# val_pred = final_model.predict(encoded_test)\n",
    "\n",
    "#cv = 3, np.logspace(-6, 6, 13)\n",
    "# Best Alpha:  1e-06\n",
    "# Test set MSE: 180.00165780792867\n",
    "# Test Set RMSE:  13.416469647710185\n",
    "\n",
    "#cv = 3, np.logspace(-6, 6, 20)\n",
    "# Best Alpha:  1e-06\n",
    "# Test set MSE: 180.00165780792867\n",
    "# Test Set RMSE:  13.416469647710185\n",
    "\n",
    "#cv = 3, np.logspace(-3, 3, 10)\n",
    "# Best Alpha:  0.001\n",
    "# Test set MSE: 180.00165780594605\n",
    "# Test Set RMSE:  13.416469647636298\n",
    "\n",
    "#cv = 5, np.logspace(-6, 6, 13)\n",
    "# Best Alpha:  10.0\n",
    "# Test set MSE: 180.00180916012653\n",
    "# Test Set RMSE:  13.416475288246408\n",
    "\n",
    "#cv = 5, np.logspace(-6, 6, 20)\n",
    "# Best Alpha:  8.858667904100814\n",
    "# Test set MSE: 180.00177471236896\n",
    "# Test Set RMSE:  13.416474004460671\n",
    "\n",
    "#cv = 5, np.logspace(-3, 3, 10)\n",
    "# Best Alpha:  10.0\n",
    "# Test set MSE: 180.00180916012653\n",
    "# Test Set RMSE:  13.416475288246408"
   ]
  },
  {
   "cell_type": "code",
   "execution_count": 16,
   "id": "90468684",
   "metadata": {
    "execution": {
     "iopub.execute_input": "2023-12-04T07:42:24.688834Z",
     "iopub.status.busy": "2023-12-04T07:42:24.688437Z",
     "iopub.status.idle": "2023-12-04T07:42:24.693387Z",
     "shell.execute_reply": "2023-12-04T07:42:24.692368Z"
    },
    "papermill": {
     "duration": 0.014629,
     "end_time": "2023-12-04T07:42:24.695497",
     "exception": false,
     "start_time": "2023-12-04T07:42:24.680868",
     "status": "completed"
    },
    "tags": []
   },
   "outputs": [],
   "source": [
    "# from sklearn.model_selection import RandomizedSearchCV\n",
    "# from scipy.stats import uniform\n",
    "\n",
    "# X_train, X_test, y_train, y_test = train_test_split(X_train, y_train, test_size=0.2, random_state=42)\n",
    "\n",
    "# param_dist = {'alpha': uniform(0, 1)} \n",
    "# randomized_search = RandomizedSearchCV(Ridge(), param_distributions=param_dist, n_iter=10, cv=3, scoring='neg_mean_squared_error')\n",
    "# randomized_search.fit(X_train, y_train)\n",
    "\n",
    "# mse = mean_squared_error(y_test, y_pred)\n",
    "# rmse = np.sqrt(mse)\n",
    "# print(\"Test set MSE:\", mse)\n",
    "# print(\"Test Set RMSE: \", rmse)\n",
    "\n",
    "# val_pred = randomized_search.predict(encoded_test)\n",
    "\n",
    "#cv=5\n",
    "# Test set MSE: 180.00180916012653\n",
    "# Test Set RMSE:  13.416475288246408\n",
    "\n",
    "#cv=3\n",
    "# Test set MSE: 180.00180916012653\n",
    "# Test Set RMSE:  13.416475288246408"
   ]
  },
  {
   "cell_type": "code",
   "execution_count": 17,
   "id": "33ecc8f7",
   "metadata": {
    "execution": {
     "iopub.execute_input": "2023-12-04T07:42:24.710204Z",
     "iopub.status.busy": "2023-12-04T07:42:24.709829Z",
     "iopub.status.idle": "2023-12-04T07:42:24.825187Z",
     "shell.execute_reply": "2023-12-04T07:42:24.823990Z"
    },
    "papermill": {
     "duration": 0.125679,
     "end_time": "2023-12-04T07:42:24.827929",
     "exception": false,
     "start_time": "2023-12-04T07:42:24.702250",
     "status": "completed"
    },
    "tags": []
   },
   "outputs": [],
   "source": [
    "from sklearn.model_selection import train_test_split\n",
    "from sklearn.neighbors import KNeighborsRegressor\n",
    "from sklearn.metrics import mean_squared_error\n",
    "\n",
    "# X_train, X_test, y_train, y_test = train_test_split(X_train, y_train, test_size=0.2, random_state=42)\n",
    "\n",
    "# knn_model = KNeighborsRegressor(n_neighbors=5)\n",
    "# knn_model.fit(X_train, y_train)\n",
    "# y_pred = knn_model.predict(X_test)\n",
    "\n",
    "# mse = mean_squared_error(y_test, y_pred)\n",
    "# rmse = np.sqrt(mse)\n",
    "# print(f\"Root Mean Squared Error (RMSE): {rmse}\")\n",
    "\n",
    "#It gave RMSE more than GridSearchCV & RandomizedSearchCV"
   ]
  },
  {
   "cell_type": "code",
   "execution_count": 18,
   "id": "7a277e4e",
   "metadata": {
    "execution": {
     "iopub.execute_input": "2023-12-04T07:42:24.842430Z",
     "iopub.status.busy": "2023-12-04T07:42:24.842051Z",
     "iopub.status.idle": "2023-12-04T07:42:24.847238Z",
     "shell.execute_reply": "2023-12-04T07:42:24.846248Z"
    },
    "papermill": {
     "duration": 0.015043,
     "end_time": "2023-12-04T07:42:24.849321",
     "exception": false,
     "start_time": "2023-12-04T07:42:24.834278",
     "status": "completed"
    },
    "tags": []
   },
   "outputs": [],
   "source": [
    "from sklearn.model_selection import train_test_split\n",
    "from sklearn.model_selection import GridSearchCV\n",
    "from sklearn.neighbors import KNeighborsRegressor\n",
    "\n",
    "# X_train, X_test, y_train, y_test = train_test_split(X_train, y_train, test_size=0.2, random_state=42)\n",
    "\n",
    "# param_grid = {'n_neighbors': [3, 5, 7, 9, 11], 'weights': ['uniform', 'distance']}\n",
    "\n",
    "# knn_model = KNeighborsRegressor()\n",
    "# grid_search = GridSearchCV(knn_model, param_grid, cv=5, scoring='neg_mean_squared_error')\n",
    "\n",
    "# grid_search.fit(X_train, y_train)\n",
    "\n",
    "# best_params = grid_search.best_params_\n",
    "# print(best_params)\n",
    "\n",
    "# best_knn_model = KNeighborsRegressor(n_neighbors=best_params['n_neighbors'], weights=best_params['weights'])\n",
    "# best_knn_model.fit(X_train, y_train)\n",
    "# y_pred = best_knn_model.predict(X_test)\n",
    "\n",
    "# r2 = r2_score(y_test, y_pred)\n",
    "# print(\"Mean Squared Error on Test Set:\", r2)"
   ]
  },
  {
   "cell_type": "code",
   "execution_count": 19,
   "id": "73785882",
   "metadata": {
    "execution": {
     "iopub.execute_input": "2023-12-04T07:42:24.863764Z",
     "iopub.status.busy": "2023-12-04T07:42:24.863354Z",
     "iopub.status.idle": "2023-12-04T07:42:24.868301Z",
     "shell.execute_reply": "2023-12-04T07:42:24.867179Z"
    },
    "papermill": {
     "duration": 0.014631,
     "end_time": "2023-12-04T07:42:24.870299",
     "exception": false,
     "start_time": "2023-12-04T07:42:24.855668",
     "status": "completed"
    },
    "tags": []
   },
   "outputs": [],
   "source": [
    "from sklearn import svm\n",
    "from sklearn.model_selection import train_test_split\n",
    "\n",
    "# X_train, X_test, y_train, y_test = train_test_split(X_train, y_train, test_size=0.2, random_state=42)\n",
    "\n",
    "# parameters = {'kernel':('linear', 'rbf'), 'C':[1, 10]}\n",
    "# svr = svm.SVR()\n",
    "# clf = GridSearchCV(svr, parameters)\n",
    "# clf.fit(pca_df, y_train)\n",
    "# y_pred_svr=clf.predict(X_test)\n",
    "# r2 = r2_score(y_test, y_pred_svr)\n",
    "\n",
    "# print(\"Mean Squared Error on Test Set:\", r2)"
   ]
  },
  {
   "cell_type": "code",
   "execution_count": 20,
   "id": "b049f4f4",
   "metadata": {
    "execution": {
     "iopub.execute_input": "2023-12-04T07:42:24.884640Z",
     "iopub.status.busy": "2023-12-04T07:42:24.884252Z",
     "iopub.status.idle": "2023-12-04T07:42:24.888641Z",
     "shell.execute_reply": "2023-12-04T07:42:24.887566Z"
    },
    "papermill": {
     "duration": 0.014034,
     "end_time": "2023-12-04T07:42:24.890589",
     "exception": false,
     "start_time": "2023-12-04T07:42:24.876555",
     "status": "completed"
    },
    "tags": []
   },
   "outputs": [],
   "source": [
    "# from sklearn.pipeline import make_pipeline\n",
    "# from sklearn.preprocessing import PolynomialFeatures\n",
    "# from sklearn.linear_model import LinearRegression\n",
    "\n",
    "# model = make_pipeline(PolynomialFeatures(2), LinearRegression())\n",
    "# model.fit(X_train, y_train)\n",
    "# val_predictions = model.predict(encoded_test)"
   ]
  },
  {
   "cell_type": "code",
   "execution_count": 21,
   "id": "f6ba9730",
   "metadata": {
    "execution": {
     "iopub.execute_input": "2023-12-04T07:42:24.905374Z",
     "iopub.status.busy": "2023-12-04T07:42:24.904659Z",
     "iopub.status.idle": "2023-12-04T07:42:24.908438Z",
     "shell.execute_reply": "2023-12-04T07:42:24.907686Z"
    },
    "papermill": {
     "duration": 0.013491,
     "end_time": "2023-12-04T07:42:24.910545",
     "exception": false,
     "start_time": "2023-12-04T07:42:24.897054",
     "status": "completed"
    },
    "tags": []
   },
   "outputs": [],
   "source": [
    "# from sklearn.ensemble import RandomForestRegressor\n",
    "\n",
    "# model = RandomForestRegressor()\n",
    "# model.fit(X_train, y_train)\n",
    "# pred = model.predict(encoded_test)"
   ]
  },
  {
   "cell_type": "code",
   "execution_count": 22,
   "id": "d66eb6d4",
   "metadata": {
    "execution": {
     "iopub.execute_input": "2023-12-04T07:42:24.925587Z",
     "iopub.status.busy": "2023-12-04T07:42:24.924491Z",
     "iopub.status.idle": "2023-12-04T07:42:24.928706Z",
     "shell.execute_reply": "2023-12-04T07:42:24.927936Z"
    },
    "papermill": {
     "duration": 0.013803,
     "end_time": "2023-12-04T07:42:24.930811",
     "exception": false,
     "start_time": "2023-12-04T07:42:24.917008",
     "status": "completed"
    },
    "tags": []
   },
   "outputs": [],
   "source": [
    "# from sklearn.tree import DecisionTreeRegressor\n",
    "\n",
    "# model = DecisionTreeRegressor()\n",
    "# model.fit(X_train, y_train)\n",
    "# val_predictions = model.predict(encoded_test)"
   ]
  },
  {
   "cell_type": "code",
   "execution_count": 23,
   "id": "c139ac0d",
   "metadata": {
    "execution": {
     "iopub.execute_input": "2023-12-04T07:42:24.945530Z",
     "iopub.status.busy": "2023-12-04T07:42:24.945087Z",
     "iopub.status.idle": "2023-12-04T08:01:34.156712Z",
     "shell.execute_reply": "2023-12-04T08:01:34.155507Z"
    },
    "papermill": {
     "duration": 1149.228052,
     "end_time": "2023-12-04T08:01:34.165474",
     "exception": false,
     "start_time": "2023-12-04T07:42:24.937422",
     "status": "completed"
    },
    "tags": []
   },
   "outputs": [
    {
     "data": {
      "text/html": [
       "<style>#sk-container-id-1 {color: black;background-color: white;}#sk-container-id-1 pre{padding: 0;}#sk-container-id-1 div.sk-toggleable {background-color: white;}#sk-container-id-1 label.sk-toggleable__label {cursor: pointer;display: block;width: 100%;margin-bottom: 0;padding: 0.3em;box-sizing: border-box;text-align: center;}#sk-container-id-1 label.sk-toggleable__label-arrow:before {content: \"▸\";float: left;margin-right: 0.25em;color: #696969;}#sk-container-id-1 label.sk-toggleable__label-arrow:hover:before {color: black;}#sk-container-id-1 div.sk-estimator:hover label.sk-toggleable__label-arrow:before {color: black;}#sk-container-id-1 div.sk-toggleable__content {max-height: 0;max-width: 0;overflow: hidden;text-align: left;background-color: #f0f8ff;}#sk-container-id-1 div.sk-toggleable__content pre {margin: 0.2em;color: black;border-radius: 0.25em;background-color: #f0f8ff;}#sk-container-id-1 input.sk-toggleable__control:checked~div.sk-toggleable__content {max-height: 200px;max-width: 100%;overflow: auto;}#sk-container-id-1 input.sk-toggleable__control:checked~label.sk-toggleable__label-arrow:before {content: \"▾\";}#sk-container-id-1 div.sk-estimator input.sk-toggleable__control:checked~label.sk-toggleable__label {background-color: #d4ebff;}#sk-container-id-1 div.sk-label input.sk-toggleable__control:checked~label.sk-toggleable__label {background-color: #d4ebff;}#sk-container-id-1 input.sk-hidden--visually {border: 0;clip: rect(1px 1px 1px 1px);clip: rect(1px, 1px, 1px, 1px);height: 1px;margin: -1px;overflow: hidden;padding: 0;position: absolute;width: 1px;}#sk-container-id-1 div.sk-estimator {font-family: monospace;background-color: #f0f8ff;border: 1px dotted black;border-radius: 0.25em;box-sizing: border-box;margin-bottom: 0.5em;}#sk-container-id-1 div.sk-estimator:hover {background-color: #d4ebff;}#sk-container-id-1 div.sk-parallel-item::after {content: \"\";width: 100%;border-bottom: 1px solid gray;flex-grow: 1;}#sk-container-id-1 div.sk-label:hover label.sk-toggleable__label {background-color: #d4ebff;}#sk-container-id-1 div.sk-serial::before {content: \"\";position: absolute;border-left: 1px solid gray;box-sizing: border-box;top: 0;bottom: 0;left: 50%;z-index: 0;}#sk-container-id-1 div.sk-serial {display: flex;flex-direction: column;align-items: center;background-color: white;padding-right: 0.2em;padding-left: 0.2em;position: relative;}#sk-container-id-1 div.sk-item {position: relative;z-index: 1;}#sk-container-id-1 div.sk-parallel {display: flex;align-items: stretch;justify-content: center;background-color: white;position: relative;}#sk-container-id-1 div.sk-item::before, #sk-container-id-1 div.sk-parallel-item::before {content: \"\";position: absolute;border-left: 1px solid gray;box-sizing: border-box;top: 0;bottom: 0;left: 50%;z-index: -1;}#sk-container-id-1 div.sk-parallel-item {display: flex;flex-direction: column;z-index: 1;position: relative;background-color: white;}#sk-container-id-1 div.sk-parallel-item:first-child::after {align-self: flex-end;width: 50%;}#sk-container-id-1 div.sk-parallel-item:last-child::after {align-self: flex-start;width: 50%;}#sk-container-id-1 div.sk-parallel-item:only-child::after {width: 0;}#sk-container-id-1 div.sk-dashed-wrapped {border: 1px dashed gray;margin: 0 0.4em 0.5em 0.4em;box-sizing: border-box;padding-bottom: 0.4em;background-color: white;}#sk-container-id-1 div.sk-label label {font-family: monospace;font-weight: bold;display: inline-block;line-height: 1.2em;}#sk-container-id-1 div.sk-label-container {text-align: center;}#sk-container-id-1 div.sk-container {/* jupyter's `normalize.less` sets `[hidden] { display: none; }` but bootstrap.min.css set `[hidden] { display: none !important; }` so we also need the `!important` here to be able to override the default hidden behavior on the sphinx rendered scikit-learn.org. See: https://github.com/scikit-learn/scikit-learn/issues/21755 */display: inline-block !important;position: relative;}#sk-container-id-1 div.sk-text-repr-fallback {display: none;}</style><div id=\"sk-container-id-1\" class=\"sk-top-container\"><div class=\"sk-text-repr-fallback\"><pre>BaggingRegressor(estimator=RandomForestRegressor(random_state=42),\n",
       "                 random_state=42)</pre><b>In a Jupyter environment, please rerun this cell to show the HTML representation or trust the notebook. <br />On GitHub, the HTML representation is unable to render, please try loading this page with nbviewer.org.</b></div><div class=\"sk-container\" hidden><div class=\"sk-item sk-dashed-wrapped\"><div class=\"sk-label-container\"><div class=\"sk-label sk-toggleable\"><input class=\"sk-toggleable__control sk-hidden--visually\" id=\"sk-estimator-id-1\" type=\"checkbox\" ><label for=\"sk-estimator-id-1\" class=\"sk-toggleable__label sk-toggleable__label-arrow\">BaggingRegressor</label><div class=\"sk-toggleable__content\"><pre>BaggingRegressor(estimator=RandomForestRegressor(random_state=42),\n",
       "                 random_state=42)</pre></div></div></div><div class=\"sk-parallel\"><div class=\"sk-parallel-item\"><div class=\"sk-item\"><div class=\"sk-label-container\"><div class=\"sk-label sk-toggleable\"><input class=\"sk-toggleable__control sk-hidden--visually\" id=\"sk-estimator-id-2\" type=\"checkbox\" ><label for=\"sk-estimator-id-2\" class=\"sk-toggleable__label sk-toggleable__label-arrow\">estimator: RandomForestRegressor</label><div class=\"sk-toggleable__content\"><pre>RandomForestRegressor(random_state=42)</pre></div></div></div><div class=\"sk-serial\"><div class=\"sk-item\"><div class=\"sk-estimator sk-toggleable\"><input class=\"sk-toggleable__control sk-hidden--visually\" id=\"sk-estimator-id-3\" type=\"checkbox\" ><label for=\"sk-estimator-id-3\" class=\"sk-toggleable__label sk-toggleable__label-arrow\">RandomForestRegressor</label><div class=\"sk-toggleable__content\"><pre>RandomForestRegressor(random_state=42)</pre></div></div></div></div></div></div></div></div></div></div>"
      ],
      "text/plain": [
       "BaggingRegressor(estimator=RandomForestRegressor(random_state=42),\n",
       "                 random_state=42)"
      ]
     },
     "execution_count": 23,
     "metadata": {},
     "output_type": "execute_result"
    }
   ],
   "source": [
    "from sklearn.ensemble import RandomForestRegressor\n",
    "from sklearn.ensemble import BaggingRegressor\n",
    "from sklearn.model_selection import train_test_split\n",
    "\n",
    "# X_train, X_test, y_train, y_test = train_test_split(X_train, y_train, test_size=0.2, random_state=42)\n",
    "\n",
    "base_model = RandomForestRegressor(n_estimators=100, random_state=42)\n",
    "\n",
    "bagging_model = BaggingRegressor(base_model, n_estimators=10, random_state=42)\n",
    "\n",
    "bagging_model.fit(X_train, y_train)\n",
    "\n",
    "# y_pred = bagging_model.predict(X_test)\n",
    "\n",
    "# mse = mean_squared_error(y_test, y_pred)\n",
    "# rmse = np.sqrt(mse)\n",
    "\n",
    "# print(\"Root Mean Squared Error (RMSE): \",rmse)\n",
    "# Root Mean Squared Error (RMSE): 5.132822232076593"
   ]
  },
  {
   "cell_type": "code",
   "execution_count": 24,
   "id": "970dff37",
   "metadata": {
    "execution": {
     "iopub.execute_input": "2023-12-04T08:01:34.181040Z",
     "iopub.status.busy": "2023-12-04T08:01:34.180011Z",
     "iopub.status.idle": "2023-12-04T08:01:58.898983Z",
     "shell.execute_reply": "2023-12-04T08:01:58.897853Z"
    },
    "papermill": {
     "duration": 24.729688,
     "end_time": "2023-12-04T08:01:58.901797",
     "exception": false,
     "start_time": "2023-12-04T08:01:34.172109",
     "status": "completed"
    },
    "tags": []
   },
   "outputs": [],
   "source": [
    "val_predictions = bagging_model.predict(encoded_test)"
   ]
  },
  {
   "cell_type": "code",
   "execution_count": 25,
   "id": "d78fab60",
   "metadata": {
    "execution": {
     "iopub.execute_input": "2023-12-04T08:01:58.916935Z",
     "iopub.status.busy": "2023-12-04T08:01:58.916517Z",
     "iopub.status.idle": "2023-12-04T08:01:59.074981Z",
     "shell.execute_reply": "2023-12-04T08:01:59.073737Z"
    },
    "papermill": {
     "duration": 0.16882,
     "end_time": "2023-12-04T08:01:59.077683",
     "exception": false,
     "start_time": "2023-12-04T08:01:58.908863",
     "status": "completed"
    },
    "tags": []
   },
   "outputs": [],
   "source": [
    "submission = pd.DataFrame(columns = [\"ID\",\"total_amount\"])\n",
    "submission[\"ID\"] = [i for i in range(1,len(val_predictions)+1)]\n",
    "submission[\"total_amount\"] = val_predictions\n",
    "submission.to_csv('submission.csv',index=False)"
   ]
  }
 ],
 "metadata": {
  "kaggle": {
   "accelerator": "none",
   "dataSources": [
    {
     "databundleVersionId": 6604167,
     "sourceId": 61246,
     "sourceType": "competition"
    }
   ],
   "dockerImageVersionId": 30558,
   "isGpuEnabled": false,
   "isInternetEnabled": true,
   "language": "python",
   "sourceType": "notebook"
  },
  "kernelspec": {
   "display_name": "Python 3",
   "language": "python",
   "name": "python3"
  },
  "language_info": {
   "codemirror_mode": {
    "name": "ipython",
    "version": 3
   },
   "file_extension": ".py",
   "mimetype": "text/x-python",
   "name": "python",
   "nbconvert_exporter": "python",
   "pygments_lexer": "ipython3",
   "version": "3.10.12"
  },
  "papermill": {
   "default_parameters": {},
   "duration": 1206.964882,
   "end_time": "2023-12-04T08:02:00.310502",
   "environment_variables": {},
   "exception": null,
   "input_path": "__notebook__.ipynb",
   "output_path": "__notebook__.ipynb",
   "parameters": {},
   "start_time": "2023-12-04T07:41:53.345620",
   "version": "2.4.0"
  }
 },
 "nbformat": 4,
 "nbformat_minor": 5
}
