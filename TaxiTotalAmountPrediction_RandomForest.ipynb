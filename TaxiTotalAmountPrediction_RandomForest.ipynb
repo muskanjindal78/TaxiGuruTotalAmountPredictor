{
 "cells": [
  {
   "cell_type": "code",
   "execution_count": 1,
   "id": "a4a3a9f0",
   "metadata": {
    "_cell_guid": "b1076dfc-b9ad-4769-8c92-a6c4dae69d19",
    "_uuid": "8f2839f25d086af736a60e9eeb907d3b93b6e0e5",
    "execution": {
     "iopub.execute_input": "2023-12-04T07:46:23.762680Z",
     "iopub.status.busy": "2023-12-04T07:46:23.762068Z",
     "iopub.status.idle": "2023-12-04T07:46:24.604248Z",
     "shell.execute_reply": "2023-12-04T07:46:24.603333Z"
    },
    "papermill": {
     "duration": 0.850284,
     "end_time": "2023-12-04T07:46:24.606207",
     "exception": false,
     "start_time": "2023-12-04T07:46:23.755923",
     "status": "completed"
    },
    "tags": []
   },
   "outputs": [
    {
     "name": "stdout",
     "output_type": "stream",
     "text": [
      "/kaggle/input/taxi-fare-guru-total-amount-prediction-challenge/sample.csv.csv\n",
      "/kaggle/input/taxi-fare-guru-total-amount-prediction-challenge/train.csv\n",
      "/kaggle/input/taxi-fare-guru-total-amount-prediction-challenge/test.csv\n"
     ]
    }
   ],
   "source": [
    "# This Python 3 environment comes with many helpful analytics libraries installed\n",
    "# It is defined by the kaggle/python Docker image: https://github.com/kaggle/docker-python\n",
    "# For example, here's several helpful packages to load\n",
    "\n",
    "import numpy as np # linear algebra\n",
    "import pandas as pd # data processing, CSV file I/O (e.g. pd.read_csv)\n",
    "\n",
    "# Input data files are available in the read-only \"../input/\" directory\n",
    "# For example, running this (by clicking run or pressing Shift+Enter) will list all files under the input directory\n",
    "\n",
    "import os\n",
    "for dirname, _, filenames in os.walk('/kaggle/input'):\n",
    "    for filename in filenames:\n",
    "        print(os.path.join(dirname, filename))\n",
    "\n",
    "# You can write up to 20GB to the current directory (/kaggle/working/) that gets preserved as output when you create a version using \"Save & Run All\" \n",
    "# You can also write temporary files to /kaggle/temp/, but they won't be saved outside of the current session"
   ]
  },
  {
   "cell_type": "code",
   "execution_count": 2,
   "id": "ff44fcfb",
   "metadata": {
    "execution": {
     "iopub.execute_input": "2023-12-04T07:46:24.616390Z",
     "iopub.status.busy": "2023-12-04T07:46:24.615732Z",
     "iopub.status.idle": "2023-12-04T07:46:25.455255Z",
     "shell.execute_reply": "2023-12-04T07:46:25.454302Z"
    },
    "papermill": {
     "duration": 0.846959,
     "end_time": "2023-12-04T07:46:25.457417",
     "exception": false,
     "start_time": "2023-12-04T07:46:24.610458",
     "status": "completed"
    },
    "tags": []
   },
   "outputs": [],
   "source": [
    "sample_data = pd.read_csv(\"/kaggle/input/taxi-fare-guru-total-amount-prediction-challenge/sample.csv.csv\")\n",
    "train_data = pd.read_csv(\"/kaggle/input/taxi-fare-guru-total-amount-prediction-challenge/train.csv\")\n",
    "test_data = pd.read_csv(\"/kaggle/input/taxi-fare-guru-total-amount-prediction-challenge/test.csv\")"
   ]
  },
  {
   "cell_type": "code",
   "execution_count": 3,
   "id": "44df3401",
   "metadata": {
    "_kg_hide-input": true,
    "execution": {
     "iopub.execute_input": "2023-12-04T07:46:25.467699Z",
     "iopub.status.busy": "2023-12-04T07:46:25.466951Z",
     "iopub.status.idle": "2023-12-04T07:46:25.472893Z",
     "shell.execute_reply": "2023-12-04T07:46:25.471932Z"
    },
    "papermill": {
     "duration": 0.013908,
     "end_time": "2023-12-04T07:46:25.475455",
     "exception": false,
     "start_time": "2023-12-04T07:46:25.461547",
     "status": "completed"
    },
    "tags": []
   },
   "outputs": [],
   "source": [
    "# print(sample_data.shape, \"\\n\")\n",
    "# print(sample_data.isnull().sum(),\"\\n\")\n",
    "# print(sample_data.info(),\"\\n\")\n",
    "# print(sample_data.head(),\"\\n\")\n",
    "# sample_data.describe()"
   ]
  },
  {
   "cell_type": "code",
   "execution_count": 4,
   "id": "2fbb17f3",
   "metadata": {
    "_kg_hide-input": true,
    "execution": {
     "iopub.execute_input": "2023-12-04T07:46:25.485406Z",
     "iopub.status.busy": "2023-12-04T07:46:25.485079Z",
     "iopub.status.idle": "2023-12-04T07:46:25.491007Z",
     "shell.execute_reply": "2023-12-04T07:46:25.489510Z"
    },
    "papermill": {
     "duration": 0.013625,
     "end_time": "2023-12-04T07:46:25.493435",
     "exception": false,
     "start_time": "2023-12-04T07:46:25.479810",
     "status": "completed"
    },
    "tags": []
   },
   "outputs": [],
   "source": [
    "# print(train_data.shape, \"\\n\")\n",
    "# print(train_data.isnull().sum(),\"\\n\")\n",
    "# print(train_data.info(),\"\\n\")\n",
    "# print(train_data.head(),\"\\n\")\n",
    "# train_data.describe()"
   ]
  },
  {
   "cell_type": "code",
   "execution_count": 5,
   "id": "1eeb43bd",
   "metadata": {
    "_kg_hide-input": true,
    "execution": {
     "iopub.execute_input": "2023-12-04T07:46:25.503468Z",
     "iopub.status.busy": "2023-12-04T07:46:25.502925Z",
     "iopub.status.idle": "2023-12-04T07:46:25.506294Z",
     "shell.execute_reply": "2023-12-04T07:46:25.505626Z"
    },
    "papermill": {
     "duration": 0.011076,
     "end_time": "2023-12-04T07:46:25.508552",
     "exception": false,
     "start_time": "2023-12-04T07:46:25.497476",
     "status": "completed"
    },
    "tags": []
   },
   "outputs": [],
   "source": [
    "# print(test_data.shape, \"\\n\")\n",
    "# print(test_data.isnull().sum(),\"\\n\")\n",
    "# print(test_data.info(),\"\\n\")\n",
    "# print(test_data.head(),\"\\n\")\n",
    "# test_data.describe()"
   ]
  },
  {
   "cell_type": "code",
   "execution_count": 6,
   "id": "1ab2ad7f",
   "metadata": {
    "_kg_hide-input": true,
    "execution": {
     "iopub.execute_input": "2023-12-04T07:46:25.518730Z",
     "iopub.status.busy": "2023-12-04T07:46:25.518166Z",
     "iopub.status.idle": "2023-12-04T07:46:25.522595Z",
     "shell.execute_reply": "2023-12-04T07:46:25.521263Z"
    },
    "papermill": {
     "duration": 0.011764,
     "end_time": "2023-12-04T07:46:25.524483",
     "exception": false,
     "start_time": "2023-12-04T07:46:25.512719",
     "status": "completed"
    },
    "tags": []
   },
   "outputs": [],
   "source": [
    "# train_data.duplicated().value_counts()"
   ]
  },
  {
   "cell_type": "code",
   "execution_count": 7,
   "id": "c2cf1ccb",
   "metadata": {
    "execution": {
     "iopub.execute_input": "2023-12-04T07:46:25.534819Z",
     "iopub.status.busy": "2023-12-04T07:46:25.533766Z",
     "iopub.status.idle": "2023-12-04T07:46:27.081358Z",
     "shell.execute_reply": "2023-12-04T07:46:27.079625Z"
    },
    "papermill": {
     "duration": 1.554892,
     "end_time": "2023-12-04T07:46:27.083495",
     "exception": false,
     "start_time": "2023-12-04T07:46:25.528603",
     "status": "completed"
    },
    "tags": []
   },
   "outputs": [],
   "source": [
    "import matplotlib.pyplot as plt\n",
    "import seaborn as sns"
   ]
  },
  {
   "cell_type": "code",
   "execution_count": 8,
   "id": "8a0fb80d",
   "metadata": {
    "_kg_hide-input": false,
    "execution": {
     "iopub.execute_input": "2023-12-04T07:46:27.093131Z",
     "iopub.status.busy": "2023-12-04T07:46:27.092728Z",
     "iopub.status.idle": "2023-12-04T07:46:27.097999Z",
     "shell.execute_reply": "2023-12-04T07:46:27.096910Z"
    },
    "papermill": {
     "duration": 0.012208,
     "end_time": "2023-12-04T07:46:27.099771",
     "exception": false,
     "start_time": "2023-12-04T07:46:27.087563",
     "status": "completed"
    },
    "tags": []
   },
   "outputs": [],
   "source": [
    "#Data Visualisation\n",
    "# sampled_data = train_data.sample(n=1000, random_state=42)\n",
    "# sns.pairplot(sampled_data)\n",
    "# plt.subplots_adjust(hspace = 0.5,wspace = 0.3)\n",
    "# plt.show()"
   ]
  },
  {
   "cell_type": "code",
   "execution_count": 9,
   "id": "45f98746",
   "metadata": {
    "execution": {
     "iopub.execute_input": "2023-12-04T07:46:27.109918Z",
     "iopub.status.busy": "2023-12-04T07:46:27.109368Z",
     "iopub.status.idle": "2023-12-04T07:46:27.113268Z",
     "shell.execute_reply": "2023-12-04T07:46:27.111998Z"
    },
    "papermill": {
     "duration": 0.011453,
     "end_time": "2023-12-04T07:46:27.115470",
     "exception": false,
     "start_time": "2023-12-04T07:46:27.104017",
     "status": "completed"
    },
    "tags": []
   },
   "outputs": [],
   "source": [
    "#Data Visualisation\n",
    "# train_data.hist(bins = 100, figsize=(15, 10))\n",
    "# plt.subplots_adjust(hspace = 0.5,wspace = 0.5)\n",
    "# plt.show()"
   ]
  },
  {
   "cell_type": "code",
   "execution_count": 10,
   "id": "2a795fce",
   "metadata": {
    "execution": {
     "iopub.execute_input": "2023-12-04T07:46:27.127213Z",
     "iopub.status.busy": "2023-12-04T07:46:27.126881Z",
     "iopub.status.idle": "2023-12-04T07:46:46.406807Z",
     "shell.execute_reply": "2023-12-04T07:46:46.405378Z"
    },
    "papermill": {
     "duration": 19.289302,
     "end_time": "2023-12-04T07:46:46.409458",
     "exception": false,
     "start_time": "2023-12-04T07:46:27.120156",
     "status": "completed"
    },
    "tags": []
   },
   "outputs": [],
   "source": [
    "#Data Preprocessing\n",
    "from datetime import datetime\n",
    "import math\n",
    "\n",
    "ride_duration=[]\n",
    "ride_start=[]\n",
    "rode_stop=[]\n",
    "for i in range(len(train_data)):\n",
    "    ts1 = datetime.strptime(train_data.iloc[i,1], \"%Y-%m-%d %H:%M:%S\")\n",
    "    ts2 = datetime.strptime(train_data.iloc[i,2], \"%Y-%m-%d %H:%M:%S\")\n",
    "    duration = abs(ts2 - ts1)\n",
    "    ride_duration.append(duration.total_seconds())\n",
    "    ride_start.append(ts1.strftime(\"%H\"))\n",
    "    rode_stop.append(ts2.strftime(\"%H\"))\n",
    "train_data[\"ride_duration\"]=ride_duration\n",
    "train_data[\"ride_start\"]=ride_start\n",
    "train_data[\"ride_stop\"]=ride_start\n",
    "\n",
    "ride_duration=[]\n",
    "ride_start=[]\n",
    "rode_stop=[]\n",
    "for i in range(len(test_data)):\n",
    "    ts1 = datetime.strptime(test_data.iloc[i,1], \"%Y-%m-%d %H:%M:%S\")\n",
    "    ts2 = datetime.strptime(test_data.iloc[i,2], \"%Y-%m-%d %H:%M:%S\")\n",
    "    duration = abs(ts2 - ts1)\n",
    "    ride_duration.append(duration.total_seconds())\n",
    "    ride_start.append(ts1.strftime(\"%H\"))\n",
    "    rode_stop.append(ts2.strftime(\"%H\"))\n",
    "test_data[\"ride_duration\"]=ride_duration\n",
    "test_data[\"ride_start\"]=ride_start\n",
    "test_data[\"ride_stop\"]=ride_start"
   ]
  },
  {
   "cell_type": "code",
   "execution_count": 11,
   "id": "0db6e71c",
   "metadata": {
    "_kg_hide-input": true,
    "execution": {
     "iopub.execute_input": "2023-12-04T07:46:46.419746Z",
     "iopub.status.busy": "2023-12-04T07:46:46.419443Z",
     "iopub.status.idle": "2023-12-04T07:46:46.424390Z",
     "shell.execute_reply": "2023-12-04T07:46:46.422880Z"
    },
    "papermill": {
     "duration": 0.013047,
     "end_time": "2023-12-04T07:46:46.426756",
     "exception": false,
     "start_time": "2023-12-04T07:46:46.413709",
     "status": "completed"
    },
    "tags": []
   },
   "outputs": [],
   "source": [
    "# print(train_data.shape, \"\\n\")\n",
    "# print(train_data.isnull().sum(),\"\\n\")\n",
    "# print(train_data.info(),\"\\n\")\n",
    "# print(train_data.head(),\"\\n\")\n",
    "# train_data.describe()"
   ]
  },
  {
   "cell_type": "code",
   "execution_count": 12,
   "id": "554769bf",
   "metadata": {
    "execution": {
     "iopub.execute_input": "2023-12-04T07:46:46.436892Z",
     "iopub.status.busy": "2023-12-04T07:46:46.436498Z",
     "iopub.status.idle": "2023-12-04T07:46:46.441482Z",
     "shell.execute_reply": "2023-12-04T07:46:46.440406Z"
    },
    "papermill": {
     "duration": 0.013233,
     "end_time": "2023-12-04T07:46:46.444188",
     "exception": false,
     "start_time": "2023-12-04T07:46:46.430955",
     "status": "completed"
    },
    "tags": []
   },
   "outputs": [],
   "source": [
    "#Data Visualisation\n",
    "# features = ['passenger_count','extra','tip_amount','tolls_amount','improvement_surcharge','total_amount','congestion_surcharge','Airport_fee']\n",
    "# time_feature = 'ride_duration'\n",
    "\n",
    "# melted_data = train_data.melt(id_vars=[time_feature], value_vars=features, var_name='feature', value_name='value')\n",
    "\n",
    "# plt.figure(figsize=(12, 6))\n",
    "# sns.lineplot(data=melted_data, x=time_feature, y='value', hue='feature')\n",
    "\n",
    "# plt.xlabel('Time or Continuous Variable')\n",
    "# plt.ylabel('Feature Values')\n",
    "# plt.title('Line Plot of 8 Features Over Time')\n",
    "# plt.legend(title='Features', bbox_to_anchor=(1.05, 1), loc='upper left')\n",
    "# plt.show()"
   ]
  },
  {
   "cell_type": "code",
   "execution_count": 13,
   "id": "ee2d6fa4",
   "metadata": {
    "execution": {
     "iopub.execute_input": "2023-12-04T07:46:46.454380Z",
     "iopub.status.busy": "2023-12-04T07:46:46.454008Z",
     "iopub.status.idle": "2023-12-04T07:46:46.744491Z",
     "shell.execute_reply": "2023-12-04T07:46:46.742955Z"
    },
    "papermill": {
     "duration": 0.298245,
     "end_time": "2023-12-04T07:46:46.746775",
     "exception": false,
     "start_time": "2023-12-04T07:46:46.448530",
     "status": "completed"
    },
    "tags": []
   },
   "outputs": [],
   "source": [
    "#Data encoding\n",
    "new_train = train_data.drop(['tpep_pickup_datetime','tpep_dropoff_datetime'], axis=1)\n",
    "new_train = pd.get_dummies(new_train,columns=['store_and_fwd_flag','payment_type'], dtype='int')\n",
    "# print(new_train.isnull().sum())\n",
    "for column in new_train.columns:\n",
    "    mode = new_train[column].mode()[0]\n",
    "    new_train[column].fillna(mode, inplace=True)\n",
    "# print(new_train.isnull().sum())\n",
    "\n",
    "new_test = test_data.drop(['tpep_pickup_datetime','tpep_dropoff_datetime'], axis=1)\n",
    "encoded_test = pd.get_dummies(new_test,columns=['store_and_fwd_flag','payment_type'], dtype='int')\n",
    "# print(encoded_test.isnull().sum())\n",
    "for column in encoded_test.columns:\n",
    "    mode = encoded_test[column].mode()[0]\n",
    "    encoded_test[column].fillna(mode, inplace=True)\n",
    "# print(encoded_test.isnull().sum())\n",
    "\n",
    "X_train = new_train.drop(['total_amount'], axis=1)\n",
    "y_train = new_train['total_amount']\n",
    "# print(X_train.head())\n",
    "# print(y_train.head())"
   ]
  },
  {
   "cell_type": "code",
   "execution_count": 14,
   "id": "327aec76",
   "metadata": {
    "execution": {
     "iopub.execute_input": "2023-12-04T07:46:46.756504Z",
     "iopub.status.busy": "2023-12-04T07:46:46.756162Z",
     "iopub.status.idle": "2023-12-04T07:46:46.761840Z",
     "shell.execute_reply": "2023-12-04T07:46:46.760110Z"
    },
    "papermill": {
     "duration": 0.013526,
     "end_time": "2023-12-04T07:46:46.764705",
     "exception": false,
     "start_time": "2023-12-04T07:46:46.751179",
     "status": "completed"
    },
    "tags": []
   },
   "outputs": [],
   "source": [
    "# from sklearn.pipeline import make_pipeline\n",
    "# from sklearn.preprocessing import PolynomialFeatures\n",
    "# from sklearn.linear_model import LinearRegression\n",
    "\n",
    "# model = make_pipeline(PolynomialFeatures(2), LinearRegression())\n",
    "# model.fit(X_train, y_train)\n",
    "# val_predictions = model.predict(encoded_test)"
   ]
  },
  {
   "cell_type": "code",
   "execution_count": 15,
   "id": "dc90ff7a",
   "metadata": {
    "execution": {
     "iopub.execute_input": "2023-12-04T07:46:46.774579Z",
     "iopub.status.busy": "2023-12-04T07:46:46.774264Z",
     "iopub.status.idle": "2023-12-04T07:49:34.570053Z",
     "shell.execute_reply": "2023-12-04T07:49:34.568824Z"
    },
    "papermill": {
     "duration": 167.803448,
     "end_time": "2023-12-04T07:49:34.572416",
     "exception": false,
     "start_time": "2023-12-04T07:46:46.768968",
     "status": "completed"
    },
    "tags": []
   },
   "outputs": [],
   "source": [
    "from sklearn.ensemble import RandomForestRegressor\n",
    "\n",
    "model = RandomForestRegressor()\n",
    "model.fit(X_train, y_train)\n",
    "pred = model.predict(encoded_test)"
   ]
  },
  {
   "cell_type": "code",
   "execution_count": 16,
   "id": "21b61f10",
   "metadata": {
    "execution": {
     "iopub.execute_input": "2023-12-04T07:49:34.583056Z",
     "iopub.status.busy": "2023-12-04T07:49:34.581941Z",
     "iopub.status.idle": "2023-12-04T07:49:34.694833Z",
     "shell.execute_reply": "2023-12-04T07:49:34.693421Z"
    },
    "papermill": {
     "duration": 0.120919,
     "end_time": "2023-12-04T07:49:34.697702",
     "exception": false,
     "start_time": "2023-12-04T07:49:34.576783",
     "status": "completed"
    },
    "tags": []
   },
   "outputs": [],
   "source": [
    "submission = pd.DataFrame(columns = [\"ID\",\"total_amount\"])\n",
    "submission[\"ID\"] = [i for i in range(1,len(pred)+1)]\n",
    "submission[\"total_amount\"] = pred\n",
    "submission.to_csv('submission.csv',index=False)"
   ]
  }
 ],
 "metadata": {
  "kaggle": {
   "accelerator": "none",
   "dataSources": [
    {
     "databundleVersionId": 6604167,
     "sourceId": 61246,
     "sourceType": "competition"
    }
   ],
   "dockerImageVersionId": 30558,
   "isGpuEnabled": false,
   "isInternetEnabled": true,
   "language": "python",
   "sourceType": "notebook"
  },
  "kernelspec": {
   "display_name": "Python 3",
   "language": "python",
   "name": "python3"
  },
  "language_info": {
   "codemirror_mode": {
    "name": "ipython",
    "version": 3
   },
   "file_extension": ".py",
   "mimetype": "text/x-python",
   "name": "python",
   "nbconvert_exporter": "python",
   "pygments_lexer": "ipython3",
   "version": "3.10.12"
  },
  "papermill": {
   "default_parameters": {},
   "duration": 195.322713,
   "end_time": "2023-12-04T07:49:35.425714",
   "environment_variables": {},
   "exception": null,
   "input_path": "__notebook__.ipynb",
   "output_path": "__notebook__.ipynb",
   "parameters": {},
   "start_time": "2023-12-04T07:46:20.103001",
   "version": "2.4.0"
  }
 },
 "nbformat": 4,
 "nbformat_minor": 5
}
