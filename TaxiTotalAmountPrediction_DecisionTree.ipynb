{
 "cells": [
  {
   "cell_type": "code",
   "execution_count": 1,
   "id": "1aec69f8",
   "metadata": {
    "_cell_guid": "b1076dfc-b9ad-4769-8c92-a6c4dae69d19",
    "_uuid": "8f2839f25d086af736a60e9eeb907d3b93b6e0e5",
    "execution": {
     "iopub.execute_input": "2023-12-04T07:48:31.837809Z",
     "iopub.status.busy": "2023-12-04T07:48:31.837262Z",
     "iopub.status.idle": "2023-12-04T07:48:32.796113Z",
     "shell.execute_reply": "2023-12-04T07:48:32.794398Z"
    },
    "papermill": {
     "duration": 0.973651,
     "end_time": "2023-12-04T07:48:32.799507",
     "exception": false,
     "start_time": "2023-12-04T07:48:31.825856",
     "status": "completed"
    },
    "tags": []
   },
   "outputs": [
    {
     "name": "stdout",
     "output_type": "stream",
     "text": [
      "/kaggle/input/taxi-fare-guru-total-amount-prediction-challenge/sample.csv.csv\n",
      "/kaggle/input/taxi-fare-guru-total-amount-prediction-challenge/train.csv\n",
      "/kaggle/input/taxi-fare-guru-total-amount-prediction-challenge/test.csv\n"
     ]
    }
   ],
   "source": [
    "# This Python 3 environment comes with many helpful analytics libraries installed\n",
    "# It is defined by the kaggle/python Docker image: https://github.com/kaggle/docker-python\n",
    "# For example, here's several helpful packages to load\n",
    "\n",
    "import numpy as np # linear algebra\n",
    "import pandas as pd # data processing, CSV file I/O (e.g. pd.read_csv)\n",
    "\n",
    "# Input data files are available in the read-only \"../input/\" directory\n",
    "# For example, running this (by clicking run or pressing Shift+Enter) will list all files under the input directory\n",
    "\n",
    "import os\n",
    "for dirname, _, filenames in os.walk('/kaggle/input'):\n",
    "    for filename in filenames:\n",
    "        print(os.path.join(dirname, filename))\n",
    "\n",
    "# You can write up to 20GB to the current directory (/kaggle/working/) that gets preserved as output when you create a version using \"Save & Run All\" \n",
    "# You can also write temporary files to /kaggle/temp/, but they won't be saved outside of the current session"
   ]
  },
  {
   "cell_type": "code",
   "execution_count": 2,
   "id": "8dc15be9",
   "metadata": {
    "execution": {
     "iopub.execute_input": "2023-12-04T07:48:32.820186Z",
     "iopub.status.busy": "2023-12-04T07:48:32.819663Z",
     "iopub.status.idle": "2023-12-04T07:48:33.162194Z",
     "shell.execute_reply": "2023-12-04T07:48:33.160809Z"
    },
    "papermill": {
     "duration": 0.356276,
     "end_time": "2023-12-04T07:48:33.165465",
     "exception": false,
     "start_time": "2023-12-04T07:48:32.809189",
     "status": "completed"
    },
    "tags": []
   },
   "outputs": [],
   "source": [
    "import warnings\n",
    "import scipy.linalg\n",
    "\n",
    "np.set_printoptions(precision=6)\n",
    "np.seterr(all='warn')\n",
    "warnings.filterwarnings(\"ignore\", category=scipy.linalg.LinAlgWarning)"
   ]
  },
  {
   "cell_type": "code",
   "execution_count": 3,
   "id": "1b1d91b7",
   "metadata": {
    "execution": {
     "iopub.execute_input": "2023-12-04T07:48:33.191712Z",
     "iopub.status.busy": "2023-12-04T07:48:33.190675Z",
     "iopub.status.idle": "2023-12-04T07:48:34.528338Z",
     "shell.execute_reply": "2023-12-04T07:48:34.527280Z"
    },
    "papermill": {
     "duration": 1.355345,
     "end_time": "2023-12-04T07:48:34.531327",
     "exception": false,
     "start_time": "2023-12-04T07:48:33.175982",
     "status": "completed"
    },
    "tags": []
   },
   "outputs": [],
   "source": [
    "sample_data = pd.read_csv(\"/kaggle/input/taxi-fare-guru-total-amount-prediction-challenge/sample.csv.csv\")\n",
    "train_data = pd.read_csv(\"/kaggle/input/taxi-fare-guru-total-amount-prediction-challenge/train.csv\")\n",
    "test_data = pd.read_csv(\"/kaggle/input/taxi-fare-guru-total-amount-prediction-challenge/test.csv\")"
   ]
  },
  {
   "cell_type": "code",
   "execution_count": 4,
   "id": "70bd702f",
   "metadata": {
    "_kg_hide-input": true,
    "execution": {
     "iopub.execute_input": "2023-12-04T07:48:34.550604Z",
     "iopub.status.busy": "2023-12-04T07:48:34.550079Z",
     "iopub.status.idle": "2023-12-04T07:48:34.555628Z",
     "shell.execute_reply": "2023-12-04T07:48:34.554388Z"
    },
    "papermill": {
     "duration": 0.0187,
     "end_time": "2023-12-04T07:48:34.558703",
     "exception": false,
     "start_time": "2023-12-04T07:48:34.540003",
     "status": "completed"
    },
    "tags": []
   },
   "outputs": [],
   "source": [
    "# print(train_data.shape, \"\\n\")\n",
    "# print(train_data.isnull().sum(),\"\\n\")\n",
    "# print(train_data.info(),\"\\n\")\n",
    "# print(train_data.head(),\"\\n\")\n",
    "# train_data.describe()"
   ]
  },
  {
   "cell_type": "code",
   "execution_count": 5,
   "id": "b683f867",
   "metadata": {
    "_kg_hide-input": true,
    "execution": {
     "iopub.execute_input": "2023-12-04T07:48:34.579924Z",
     "iopub.status.busy": "2023-12-04T07:48:34.578479Z",
     "iopub.status.idle": "2023-12-04T07:48:34.584345Z",
     "shell.execute_reply": "2023-12-04T07:48:34.583082Z"
    },
    "papermill": {
     "duration": 0.019708,
     "end_time": "2023-12-04T07:48:34.587185",
     "exception": false,
     "start_time": "2023-12-04T07:48:34.567477",
     "status": "completed"
    },
    "tags": []
   },
   "outputs": [],
   "source": [
    "# print(sample_data.shape, \"\\n\")\n",
    "# print(sample_data.isnull().sum(),\"\\n\")\n",
    "# print(sample_data.info(),\"\\n\")\n",
    "# print(sample_data.head(),\"\\n\")\n",
    "# sample_data.describe()"
   ]
  },
  {
   "cell_type": "code",
   "execution_count": 6,
   "id": "6c30675f",
   "metadata": {
    "_kg_hide-input": true,
    "execution": {
     "iopub.execute_input": "2023-12-04T07:48:34.606831Z",
     "iopub.status.busy": "2023-12-04T07:48:34.606436Z",
     "iopub.status.idle": "2023-12-04T07:48:34.611229Z",
     "shell.execute_reply": "2023-12-04T07:48:34.609914Z"
    },
    "papermill": {
     "duration": 0.018047,
     "end_time": "2023-12-04T07:48:34.613915",
     "exception": false,
     "start_time": "2023-12-04T07:48:34.595868",
     "status": "completed"
    },
    "tags": []
   },
   "outputs": [],
   "source": [
    "# print(test_data.shape, \"\\n\")\n",
    "# print(test_data.isnull().sum(),\"\\n\")\n",
    "# print(test_data.info(),\"\\n\")\n",
    "# print(test_data.head(),\"\\n\")\n",
    "# test_data.describe()"
   ]
  },
  {
   "cell_type": "code",
   "execution_count": 7,
   "id": "e4d07825",
   "metadata": {
    "_kg_hide-input": true,
    "execution": {
     "iopub.execute_input": "2023-12-04T07:48:34.633031Z",
     "iopub.status.busy": "2023-12-04T07:48:34.632620Z",
     "iopub.status.idle": "2023-12-04T07:48:34.638452Z",
     "shell.execute_reply": "2023-12-04T07:48:34.637033Z"
    },
    "papermill": {
     "duration": 0.018517,
     "end_time": "2023-12-04T07:48:34.641160",
     "exception": false,
     "start_time": "2023-12-04T07:48:34.622643",
     "status": "completed"
    },
    "tags": []
   },
   "outputs": [],
   "source": [
    "# train_data.duplicated().value_counts()"
   ]
  },
  {
   "cell_type": "code",
   "execution_count": 8,
   "id": "d1235d2e",
   "metadata": {
    "execution": {
     "iopub.execute_input": "2023-12-04T07:48:34.662135Z",
     "iopub.status.busy": "2023-12-04T07:48:34.661047Z",
     "iopub.status.idle": "2023-12-04T07:48:36.095063Z",
     "shell.execute_reply": "2023-12-04T07:48:36.093451Z"
    },
    "papermill": {
     "duration": 1.448701,
     "end_time": "2023-12-04T07:48:36.098778",
     "exception": false,
     "start_time": "2023-12-04T07:48:34.650077",
     "status": "completed"
    },
    "tags": []
   },
   "outputs": [],
   "source": [
    "import matplotlib.pyplot as plt\n",
    "import seaborn as sns"
   ]
  },
  {
   "cell_type": "code",
   "execution_count": 9,
   "id": "ca9e0001",
   "metadata": {
    "_kg_hide-input": false,
    "execution": {
     "iopub.execute_input": "2023-12-04T07:48:36.120088Z",
     "iopub.status.busy": "2023-12-04T07:48:36.118421Z",
     "iopub.status.idle": "2023-12-04T07:48:36.124665Z",
     "shell.execute_reply": "2023-12-04T07:48:36.123700Z"
    },
    "papermill": {
     "duration": 0.019145,
     "end_time": "2023-12-04T07:48:36.127281",
     "exception": false,
     "start_time": "2023-12-04T07:48:36.108136",
     "status": "completed"
    },
    "tags": []
   },
   "outputs": [],
   "source": [
    "#Data Visualisation\n",
    "# sampled_data = train_data.sample(n=1000, random_state=42)\n",
    "# sns.pairplot(sampled_data)\n",
    "# plt.subplots_adjust(hspace = 0.5,wspace = 0.3)\n",
    "# plt.show()"
   ]
  },
  {
   "cell_type": "code",
   "execution_count": 10,
   "id": "5f030f73",
   "metadata": {
    "execution": {
     "iopub.execute_input": "2023-12-04T07:48:36.147801Z",
     "iopub.status.busy": "2023-12-04T07:48:36.146785Z",
     "iopub.status.idle": "2023-12-04T07:48:36.152428Z",
     "shell.execute_reply": "2023-12-04T07:48:36.151549Z"
    },
    "papermill": {
     "duration": 0.018904,
     "end_time": "2023-12-04T07:48:36.155002",
     "exception": false,
     "start_time": "2023-12-04T07:48:36.136098",
     "status": "completed"
    },
    "tags": []
   },
   "outputs": [],
   "source": [
    "#Data Visualisation\n",
    "# train_data.hist(bins = 100, figsize=(15, 10))\n",
    "# plt.subplots_adjust(hspace = 0.5,wspace = 0.5)\n",
    "# plt.show()"
   ]
  },
  {
   "cell_type": "code",
   "execution_count": 11,
   "id": "7f5bfabe",
   "metadata": {
    "execution": {
     "iopub.execute_input": "2023-12-04T07:48:36.174347Z",
     "iopub.status.busy": "2023-12-04T07:48:36.173840Z",
     "iopub.status.idle": "2023-12-04T07:49:03.645596Z",
     "shell.execute_reply": "2023-12-04T07:49:03.644096Z"
    },
    "papermill": {
     "duration": 27.48536,
     "end_time": "2023-12-04T07:49:03.648985",
     "exception": false,
     "start_time": "2023-12-04T07:48:36.163625",
     "status": "completed"
    },
    "tags": []
   },
   "outputs": [],
   "source": [
    "#Data Preprocessing\n",
    "from datetime import datetime\n",
    "import math\n",
    "\n",
    "ride_duration=[]\n",
    "ride_start=[]\n",
    "rode_stop=[]\n",
    "for i in range(len(train_data)):\n",
    "    ts1 = datetime.strptime(train_data.iloc[i,1], \"%Y-%m-%d %H:%M:%S\")\n",
    "    ts2 = datetime.strptime(train_data.iloc[i,2], \"%Y-%m-%d %H:%M:%S\")\n",
    "    duration = abs(ts2 - ts1)\n",
    "    ride_duration.append(duration.total_seconds())\n",
    "    ride_start.append(ts1.strftime(\"%H\"))\n",
    "    rode_stop.append(ts2.strftime(\"%H\"))\n",
    "train_data[\"ride_duration\"]=ride_duration\n",
    "train_data[\"ride_start\"]=ride_start\n",
    "train_data[\"ride_stop\"]=ride_start\n",
    "\n",
    "ride_duration=[]\n",
    "ride_start=[]\n",
    "rode_stop=[]\n",
    "for i in range(len(test_data)):\n",
    "    ts1 = datetime.strptime(test_data.iloc[i,1], \"%Y-%m-%d %H:%M:%S\")\n",
    "    ts2 = datetime.strptime(test_data.iloc[i,2], \"%Y-%m-%d %H:%M:%S\")\n",
    "    duration = abs(ts2 - ts1)\n",
    "    ride_duration.append(duration.total_seconds())\n",
    "    ride_start.append(ts1.strftime(\"%H\"))\n",
    "    rode_stop.append(ts2.strftime(\"%H\"))\n",
    "test_data[\"ride_duration\"]=ride_duration\n",
    "test_data[\"ride_start\"]=ride_start\n",
    "test_data[\"ride_stop\"]=ride_start"
   ]
  },
  {
   "cell_type": "code",
   "execution_count": 12,
   "id": "875d0edd",
   "metadata": {
    "_kg_hide-input": true,
    "execution": {
     "iopub.execute_input": "2023-12-04T07:49:03.668922Z",
     "iopub.status.busy": "2023-12-04T07:49:03.668431Z",
     "iopub.status.idle": "2023-12-04T07:49:03.673955Z",
     "shell.execute_reply": "2023-12-04T07:49:03.672713Z"
    },
    "papermill": {
     "duration": 0.018444,
     "end_time": "2023-12-04T07:49:03.676482",
     "exception": false,
     "start_time": "2023-12-04T07:49:03.658038",
     "status": "completed"
    },
    "tags": []
   },
   "outputs": [],
   "source": [
    "# print(train_data.shape, \"\\n\")\n",
    "# print(train_data.isnull().sum(),\"\\n\")\n",
    "# print(train_data.info(),\"\\n\")\n",
    "# print(train_data.head(),\"\\n\")\n",
    "# train_data.describe()"
   ]
  },
  {
   "cell_type": "code",
   "execution_count": 13,
   "id": "8f7cc49c",
   "metadata": {
    "execution": {
     "iopub.execute_input": "2023-12-04T07:49:03.695868Z",
     "iopub.status.busy": "2023-12-04T07:49:03.695372Z",
     "iopub.status.idle": "2023-12-04T07:49:03.702109Z",
     "shell.execute_reply": "2023-12-04T07:49:03.700423Z"
    },
    "papermill": {
     "duration": 0.02026,
     "end_time": "2023-12-04T07:49:03.705342",
     "exception": false,
     "start_time": "2023-12-04T07:49:03.685082",
     "status": "completed"
    },
    "tags": []
   },
   "outputs": [],
   "source": [
    "#Data Visualisation\n",
    "# features = ['passenger_count','extra','tip_amount','tolls_amount','improvement_surcharge','total_amount','congestion_surcharge','Airport_fee']\n",
    "# time_feature = 'ride_duration'\n",
    "\n",
    "# melted_data = train_data.melt(id_vars=[time_feature], value_vars=features, var_name='feature', value_name='value')\n",
    "\n",
    "# plt.figure(figsize=(12, 6))\n",
    "# sns.lineplot(data=melted_data, x=time_feature, y='value', hue='feature')\n",
    "\n",
    "# plt.xlabel('Time or Continuous Variable')\n",
    "# plt.ylabel('Feature Values')\n",
    "# plt.title('Line Plot of 8 Features Over Time')\n",
    "# plt.legend(title='Features', bbox_to_anchor=(1.05, 1), loc='upper left')\n",
    "# plt.show()"
   ]
  },
  {
   "cell_type": "code",
   "execution_count": 14,
   "id": "271c77d5",
   "metadata": {
    "execution": {
     "iopub.execute_input": "2023-12-04T07:49:03.725603Z",
     "iopub.status.busy": "2023-12-04T07:49:03.725129Z",
     "iopub.status.idle": "2023-12-04T07:49:04.261256Z",
     "shell.execute_reply": "2023-12-04T07:49:04.259900Z"
    },
    "papermill": {
     "duration": 0.550415,
     "end_time": "2023-12-04T07:49:04.265022",
     "exception": false,
     "start_time": "2023-12-04T07:49:03.714607",
     "status": "completed"
    },
    "tags": []
   },
   "outputs": [],
   "source": [
    "#Data encoding\n",
    "new_train = train_data.drop(['tpep_pickup_datetime','tpep_dropoff_datetime'], axis=1)\n",
    "new_train = pd.get_dummies(new_train,columns=['store_and_fwd_flag','payment_type'], dtype='int')\n",
    "# print(new_train.isnull().sum())\n",
    "for column in new_train.columns:\n",
    "    mode = new_train[column].mode()[0]\n",
    "    new_train[column].fillna(mode, inplace=True)\n",
    "# print(new_train.isnull().sum())\n",
    "\n",
    "new_test = test_data.drop(['tpep_pickup_datetime','tpep_dropoff_datetime'], axis=1)\n",
    "encoded_test = pd.get_dummies(new_test,columns=['store_and_fwd_flag','payment_type'], dtype='int')\n",
    "# print(encoded_test.isnull().sum())\n",
    "for column in encoded_test.columns:\n",
    "    mode = encoded_test[column].mode()[0]\n",
    "    encoded_test[column].fillna(mode, inplace=True)\n",
    "# print(encoded_test.isnull().sum())\n",
    "\n",
    "X_train = new_train.drop(['total_amount'], axis=1)\n",
    "y_train = new_train['total_amount']\n",
    "# print(X_train.head())\n",
    "# print(y_train.head())"
   ]
  },
  {
   "cell_type": "code",
   "execution_count": 15,
   "id": "19b4dc92",
   "metadata": {
    "execution": {
     "iopub.execute_input": "2023-12-04T07:49:04.284693Z",
     "iopub.status.busy": "2023-12-04T07:49:04.284296Z",
     "iopub.status.idle": "2023-12-04T07:49:04.690743Z",
     "shell.execute_reply": "2023-12-04T07:49:04.689507Z"
    },
    "papermill": {
     "duration": 0.420134,
     "end_time": "2023-12-04T07:49:04.694004",
     "exception": false,
     "start_time": "2023-12-04T07:49:04.273870",
     "status": "completed"
    },
    "tags": []
   },
   "outputs": [],
   "source": [
    "from sklearn.model_selection import GridSearchCV, train_test_split\n",
    "from sklearn.linear_model import Ridge\n",
    "from sklearn.metrics import mean_squared_error\n",
    "\n",
    "# X_train, X_test, y_train, y_test = train_test_split(X_train, y_train, test_size=0.2, random_state=42)\n",
    "\n",
    "# ridge_model = Ridge()\n",
    "\n",
    "# alphas = np.logspace(-3, 3, 10)\n",
    "\n",
    "# param_grid = {'alpha': alphas}\n",
    "# grid_search = GridSearchCV(ridge_model, param_grid, cv=5, scoring='neg_mean_squared_error')\n",
    "# grid_search.fit(X_train, y_train)\n",
    "\n",
    "# best_alpha = grid_search.best_params_['alpha']\n",
    "# final_model = Ridge(alpha=best_alpha)\n",
    "# final_model.fit(X_train, y_train)\n",
    "\n",
    "# y_pred = final_model.predict(X_test)\n",
    "# mse = mean_squared_error(y_test, y_pred)\n",
    "# rmse = np.sqrt(mse)\n",
    "# print(\"Best Alpha: \", best_alpha)\n",
    "# print(\"Test set MSE:\", mse)\n",
    "# print(\"Test Set RMSE: \", rmse)\n",
    "\n",
    "# val_pred = final_model.predict(encoded_test)\n",
    "\n",
    "#cv = 3, np.logspace(-6, 6, 13)\n",
    "# Best Alpha:  1e-06\n",
    "# Test set MSE: 180.00165780792867\n",
    "# Test Set RMSE:  13.416469647710185\n",
    "\n",
    "#cv = 3, np.logspace(-6, 6, 20)\n",
    "# Best Alpha:  1e-06\n",
    "# Test set MSE: 180.00165780792867\n",
    "# Test Set RMSE:  13.416469647710185\n",
    "\n",
    "#cv = 3, np.logspace(-3, 3, 10)\n",
    "# Best Alpha:  0.001\n",
    "# Test set MSE: 180.00165780594605\n",
    "# Test Set RMSE:  13.416469647636298\n",
    "\n",
    "#cv = 5, np.logspace(-6, 6, 13)\n",
    "# Best Alpha:  10.0\n",
    "# Test set MSE: 180.00180916012653\n",
    "# Test Set RMSE:  13.416475288246408\n",
    "\n",
    "#cv = 5, np.logspace(-6, 6, 20)\n",
    "# Best Alpha:  8.858667904100814\n",
    "# Test set MSE: 180.00177471236896\n",
    "# Test Set RMSE:  13.416474004460671\n",
    "\n",
    "#cv = 5, np.logspace(-3, 3, 10)\n",
    "# Best Alpha:  10.0\n",
    "# Test set MSE: 180.00180916012653\n",
    "# Test Set RMSE:  13.416475288246408"
   ]
  },
  {
   "cell_type": "code",
   "execution_count": 16,
   "id": "e0d11a5d",
   "metadata": {
    "execution": {
     "iopub.execute_input": "2023-12-04T07:49:04.713940Z",
     "iopub.status.busy": "2023-12-04T07:49:04.713531Z",
     "iopub.status.idle": "2023-12-04T07:49:04.719303Z",
     "shell.execute_reply": "2023-12-04T07:49:04.718007Z"
    },
    "papermill": {
     "duration": 0.019265,
     "end_time": "2023-12-04T07:49:04.722200",
     "exception": false,
     "start_time": "2023-12-04T07:49:04.702935",
     "status": "completed"
    },
    "tags": []
   },
   "outputs": [],
   "source": [
    "# from sklearn.model_selection import RandomizedSearchCV\n",
    "# from scipy.stats import uniform\n",
    "\n",
    "# X_train, X_test, y_train, y_test = train_test_split(X_train, y_train, test_size=0.2, random_state=42)\n",
    "\n",
    "# param_dist = {'alpha': uniform(0, 1)} \n",
    "# randomized_search = RandomizedSearchCV(Ridge(), param_distributions=param_dist, n_iter=10, cv=3, scoring='neg_mean_squared_error')\n",
    "# randomized_search.fit(X_train, y_train)\n",
    "\n",
    "# mse = mean_squared_error(y_test, y_pred)\n",
    "# rmse = np.sqrt(mse)\n",
    "# print(\"Test set MSE:\", mse)\n",
    "# print(\"Test Set RMSE: \", rmse)\n",
    "\n",
    "# val_pred = randomized_search.predict(encoded_test)\n",
    "\n",
    "#cv=5\n",
    "# Test set MSE: 180.00180916012653\n",
    "# Test Set RMSE:  13.416475288246408\n",
    "\n",
    "#cv=3\n",
    "# Test set MSE: 180.00180916012653\n",
    "# Test Set RMSE:  13.416475288246408"
   ]
  },
  {
   "cell_type": "code",
   "execution_count": 17,
   "id": "19804c60",
   "metadata": {
    "execution": {
     "iopub.execute_input": "2023-12-04T07:49:04.741601Z",
     "iopub.status.busy": "2023-12-04T07:49:04.741002Z",
     "iopub.status.idle": "2023-12-04T07:49:04.873701Z",
     "shell.execute_reply": "2023-12-04T07:49:04.872504Z"
    },
    "papermill": {
     "duration": 0.145625,
     "end_time": "2023-12-04T07:49:04.876667",
     "exception": false,
     "start_time": "2023-12-04T07:49:04.731042",
     "status": "completed"
    },
    "tags": []
   },
   "outputs": [],
   "source": [
    "from sklearn.model_selection import train_test_split\n",
    "from sklearn.neighbors import KNeighborsRegressor\n",
    "from sklearn.metrics import mean_squared_error\n",
    "\n",
    "# X_train, X_test, y_train, y_test = train_test_split(X_train, y_train, test_size=0.2, random_state=42)\n",
    "\n",
    "# knn_model = KNeighborsRegressor(n_neighbors=5)\n",
    "# knn_model.fit(X_train, y_train)\n",
    "# y_pred = knn_model.predict(X_test)\n",
    "\n",
    "# mse = mean_squared_error(y_test, y_pred)\n",
    "# rmse = np.sqrt(mse)\n",
    "# print(f\"Root Mean Squared Error (RMSE): {rmse}\")\n",
    "\n",
    "#It gave RMSE more than GridSearchCV & RandomizedSearchCV"
   ]
  },
  {
   "cell_type": "code",
   "execution_count": 18,
   "id": "7ca4916d",
   "metadata": {
    "execution": {
     "iopub.execute_input": "2023-12-04T07:49:04.895514Z",
     "iopub.status.busy": "2023-12-04T07:49:04.895125Z",
     "iopub.status.idle": "2023-12-04T07:49:04.901756Z",
     "shell.execute_reply": "2023-12-04T07:49:04.900498Z"
    },
    "papermill": {
     "duration": 0.019082,
     "end_time": "2023-12-04T07:49:04.904322",
     "exception": false,
     "start_time": "2023-12-04T07:49:04.885240",
     "status": "completed"
    },
    "tags": []
   },
   "outputs": [],
   "source": [
    "from sklearn.model_selection import train_test_split\n",
    "from sklearn.model_selection import GridSearchCV\n",
    "from sklearn.neighbors import KNeighborsRegressor\n",
    "\n",
    "# X_train, X_test, y_train, y_test = train_test_split(X_train, y_train, test_size=0.2, random_state=42)\n",
    "\n",
    "# param_grid = {'n_neighbors': [3, 5, 7, 9, 11], 'weights': ['uniform', 'distance']}\n",
    "\n",
    "# knn_model = KNeighborsRegressor()\n",
    "# grid_search = GridSearchCV(knn_model, param_grid, cv=5, scoring='neg_mean_squared_error')\n",
    "\n",
    "# grid_search.fit(X_train, y_train)\n",
    "\n",
    "# best_params = grid_search.best_params_\n",
    "# print(best_params)\n",
    "\n",
    "# best_knn_model = KNeighborsRegressor(n_neighbors=best_params['n_neighbors'], weights=best_params['weights'])\n",
    "# best_knn_model.fit(X_train, y_train)\n",
    "# y_pred = best_knn_model.predict(X_test)\n",
    "\n",
    "# r2 = r2_score(y_test, y_pred)\n",
    "# print(\"Mean Squared Error on Test Set:\", r2)"
   ]
  },
  {
   "cell_type": "code",
   "execution_count": 19,
   "id": "6dd9dc35",
   "metadata": {
    "execution": {
     "iopub.execute_input": "2023-12-04T07:49:04.923354Z",
     "iopub.status.busy": "2023-12-04T07:49:04.922963Z",
     "iopub.status.idle": "2023-12-04T07:49:04.929428Z",
     "shell.execute_reply": "2023-12-04T07:49:04.928214Z"
    },
    "papermill": {
     "duration": 0.018792,
     "end_time": "2023-12-04T07:49:04.931814",
     "exception": false,
     "start_time": "2023-12-04T07:49:04.913022",
     "status": "completed"
    },
    "tags": []
   },
   "outputs": [],
   "source": [
    "from sklearn import svm\n",
    "from sklearn.model_selection import train_test_split\n",
    "\n",
    "# X_train, X_test, y_train, y_test = train_test_split(X_train, y_train, test_size=0.2, random_state=42)\n",
    "\n",
    "# parameters = {'kernel':('linear', 'rbf'), 'C':[1, 10]}\n",
    "# svr = svm.SVR()\n",
    "# clf = GridSearchCV(svr, parameters)\n",
    "# clf.fit(pca_df, y_train)\n",
    "# y_pred_svr=clf.predict(X_test)\n",
    "# r2 = r2_score(y_test, y_pred_svr)\n",
    "\n",
    "# print(\"Mean Squared Error on Test Set:\", r2)"
   ]
  },
  {
   "cell_type": "code",
   "execution_count": 20,
   "id": "787ed833",
   "metadata": {
    "execution": {
     "iopub.execute_input": "2023-12-04T07:49:04.950773Z",
     "iopub.status.busy": "2023-12-04T07:49:04.950250Z",
     "iopub.status.idle": "2023-12-04T07:49:04.955787Z",
     "shell.execute_reply": "2023-12-04T07:49:04.954613Z"
    },
    "papermill": {
     "duration": 0.01822,
     "end_time": "2023-12-04T07:49:04.958346",
     "exception": false,
     "start_time": "2023-12-04T07:49:04.940126",
     "status": "completed"
    },
    "tags": []
   },
   "outputs": [],
   "source": [
    "# from sklearn.pipeline import make_pipeline\n",
    "# from sklearn.preprocessing import PolynomialFeatures\n",
    "# from sklearn.linear_model import LinearRegression\n",
    "\n",
    "# model = make_pipeline(PolynomialFeatures(2), LinearRegression())\n",
    "# model.fit(X_train, y_train)\n",
    "# val_predictions = model.predict(encoded_test)"
   ]
  },
  {
   "cell_type": "code",
   "execution_count": 21,
   "id": "51e3116b",
   "metadata": {
    "execution": {
     "iopub.execute_input": "2023-12-04T07:49:04.977565Z",
     "iopub.status.busy": "2023-12-04T07:49:04.977037Z",
     "iopub.status.idle": "2023-12-04T07:49:04.982779Z",
     "shell.execute_reply": "2023-12-04T07:49:04.981398Z"
    },
    "papermill": {
     "duration": 0.019115,
     "end_time": "2023-12-04T07:49:04.985880",
     "exception": false,
     "start_time": "2023-12-04T07:49:04.966765",
     "status": "completed"
    },
    "tags": []
   },
   "outputs": [],
   "source": [
    "# from sklearn.ensemble import RandomForestRegressor\n",
    "\n",
    "# model = RandomForestRegressor()\n",
    "# model.fit(X_train, y_train)\n",
    "# pred = model.predict(encoded_test)"
   ]
  },
  {
   "cell_type": "code",
   "execution_count": 22,
   "id": "e9e7bb24",
   "metadata": {
    "execution": {
     "iopub.execute_input": "2023-12-04T07:49:05.007991Z",
     "iopub.status.busy": "2023-12-04T07:49:05.007078Z",
     "iopub.status.idle": "2023-12-04T07:49:08.811812Z",
     "shell.execute_reply": "2023-12-04T07:49:08.810426Z"
    },
    "papermill": {
     "duration": 3.819674,
     "end_time": "2023-12-04T07:49:08.814771",
     "exception": false,
     "start_time": "2023-12-04T07:49:04.995097",
     "status": "completed"
    },
    "tags": []
   },
   "outputs": [],
   "source": [
    "from sklearn.tree import DecisionTreeRegressor\n",
    "\n",
    "model = DecisionTreeRegressor()\n",
    "model.fit(X_train, y_train)\n",
    "val_predictions = model.predict(encoded_test)"
   ]
  },
  {
   "cell_type": "code",
   "execution_count": 23,
   "id": "d08ee2b4",
   "metadata": {
    "execution": {
     "iopub.execute_input": "2023-12-04T07:49:08.835483Z",
     "iopub.status.busy": "2023-12-04T07:49:08.834993Z",
     "iopub.status.idle": "2023-12-04T07:49:09.055873Z",
     "shell.execute_reply": "2023-12-04T07:49:09.054583Z"
    },
    "papermill": {
     "duration": 0.235182,
     "end_time": "2023-12-04T07:49:09.059630",
     "exception": false,
     "start_time": "2023-12-04T07:49:08.824448",
     "status": "completed"
    },
    "tags": []
   },
   "outputs": [],
   "source": [
    "submission = pd.DataFrame(columns = [\"ID\",\"total_amount\"])\n",
    "submission[\"ID\"] = [i for i in range(1,len(val_predictions)+1)]\n",
    "submission[\"total_amount\"] = val_predictions\n",
    "submission.to_csv('submission.csv',index=False)"
   ]
  }
 ],
 "metadata": {
  "kaggle": {
   "accelerator": "none",
   "dataSources": [
    {
     "databundleVersionId": 6604167,
     "sourceId": 61246,
     "sourceType": "competition"
    }
   ],
   "dockerImageVersionId": 30558,
   "isGpuEnabled": false,
   "isInternetEnabled": true,
   "language": "python",
   "sourceType": "notebook"
  },
  "kernelspec": {
   "display_name": "Python 3",
   "language": "python",
   "name": "python3"
  },
  "language_info": {
   "codemirror_mode": {
    "name": "ipython",
    "version": 3
   },
   "file_extension": ".py",
   "mimetype": "text/x-python",
   "name": "python",
   "nbconvert_exporter": "python",
   "pygments_lexer": "ipython3",
   "version": "3.10.12"
  },
  "papermill": {
   "default_parameters": {},
   "duration": 42.488106,
   "end_time": "2023-12-04T07:49:09.793181",
   "environment_variables": {},
   "exception": null,
   "input_path": "__notebook__.ipynb",
   "output_path": "__notebook__.ipynb",
   "parameters": {},
   "start_time": "2023-12-04T07:48:27.305075",
   "version": "2.4.0"
  }
 },
 "nbformat": 4,
 "nbformat_minor": 5
}
